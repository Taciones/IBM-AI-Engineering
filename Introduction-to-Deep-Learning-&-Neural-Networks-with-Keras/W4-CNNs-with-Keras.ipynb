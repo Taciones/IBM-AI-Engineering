{
    "cells": [
        {
            "cell_type": "markdown",
            "metadata": {},
            "source": "<a href=\"https://cognitiveclass.ai\"><img src = \"https://s3-api.us-geo.objectstorage.softlayer.net/cf-courses-data/CognitiveClass/Logos/organization_logo/organization_logo.png\" width = 400> </a>\n\n<h1 align=center><font size = 5>Convolutional Neural Networks with Keras</font></h1>"
        },
        {
            "cell_type": "markdown",
            "metadata": {},
            "source": "In this lab, we will learn how to use the Keras library to build convolutional neural networks. We will also use the popular MNIST dataset and we will compare our results to using a conventional neural network.\n"
        },
        {
            "cell_type": "markdown",
            "metadata": {},
            "source": "## Table of Contents\n\n<div class=\"alert alert-block alert-info\" style=\"margin-top: 20px\">\n\n<font size = 3>\n      \n1. <a href=\"#item41\">Import Keras and Packages</a>   \n2. <a href=\"#item42\">Convolutional Neural Network with One Convolutional and Pooling Layers</a>  \n3. <a href=\"#item43\">Convolutional Neural Network with Two Convolutional and Pooling Layers</a>  \n\n</font>\n</div>"
        },
        {
            "cell_type": "markdown",
            "metadata": {},
            "source": "<a id='item41'></a>"
        },
        {
            "cell_type": "markdown",
            "metadata": {},
            "source": "## Import Keras and Packages"
        },
        {
            "cell_type": "markdown",
            "metadata": {},
            "source": "Let's start by importing the keras libraries and the packages that we would need to build a neural network."
        },
        {
            "cell_type": "code",
            "execution_count": 1,
            "metadata": {},
            "outputs": [
                {
                    "name": "stderr",
                    "output_type": "stream",
                    "text": "Using TensorFlow backend.\n"
                }
            ],
            "source": "import keras\nfrom keras.models import Sequential\nfrom keras.layers import Dense\nfrom keras.utils import to_categorical"
        },
        {
            "cell_type": "markdown",
            "metadata": {},
            "source": "When working with convolutional neural networks in particular, we will need additional packages."
        },
        {
            "cell_type": "code",
            "execution_count": 2,
            "metadata": {},
            "outputs": [],
            "source": "from keras.layers.convolutional import Conv2D # to add convolutional layers\nfrom keras.layers.convolutional import MaxPooling2D # to add pooling layers\nfrom keras.layers import Flatten # to flatten data for fully connected layers"
        },
        {
            "cell_type": "markdown",
            "metadata": {},
            "source": "<a id='item42'></a>"
        },
        {
            "cell_type": "markdown",
            "metadata": {},
            "source": "## Convolutional Layer with One set of convolutional and pooling layers"
        },
        {
            "cell_type": "code",
            "execution_count": 3,
            "metadata": {},
            "outputs": [],
            "source": "# import data\nfrom keras.datasets import mnist\n\n# load data\n(X_train, y_train), (X_test, y_test) = mnist.load_data()\n\n# reshape to be [samples][pixels][width][height]\nX_train = X_train.reshape(X_train.shape[0], 28, 28, 1).astype('float32')\nX_test = X_test.reshape(X_test.shape[0], 28, 28, 1).astype('float32')"
        },
        {
            "cell_type": "markdown",
            "metadata": {},
            "source": "Let's normalize the pixel values to be between 0 and 1"
        },
        {
            "cell_type": "code",
            "execution_count": 4,
            "metadata": {},
            "outputs": [],
            "source": "X_train = X_train / 255 # normalize training data\nX_test = X_test / 255 # normalize test data"
        },
        {
            "cell_type": "markdown",
            "metadata": {},
            "source": "Next, let's convert the target variable into binary categories"
        },
        {
            "cell_type": "code",
            "execution_count": 5,
            "metadata": {},
            "outputs": [],
            "source": "y_train = to_categorical(y_train)\ny_test = to_categorical(y_test)\n\nnum_classes = y_test.shape[1] # number of categories"
        },
        {
            "cell_type": "markdown",
            "metadata": {},
            "source": "Next, let's define a function that creates our model. Let's start with one set of convolutional and pooling layers."
        },
        {
            "cell_type": "code",
            "execution_count": 6,
            "metadata": {},
            "outputs": [],
            "source": "def convolutional_model():\n    \n    # create model\n    model = Sequential()\n    model.add(Conv2D(16, (5, 5), strides=(1, 1), activation='relu', input_shape=(28, 28, 1)))\n    model.add(MaxPooling2D(pool_size=(2, 2), strides=(2, 2)))\n    \n    model.add(Flatten())\n    model.add(Dense(100, activation='relu'))\n    model.add(Dense(num_classes, activation='softmax'))\n    \n    # compile model\n    model.compile(optimizer='adam', loss='categorical_crossentropy',  metrics=['accuracy'])\n    return model"
        },
        {
            "cell_type": "markdown",
            "metadata": {},
            "source": "Finally, let's call the function to create the model, and then let's train it and evaluate it."
        },
        {
            "cell_type": "code",
            "execution_count": 7,
            "metadata": {},
            "outputs": [
                {
                    "name": "stdout",
                    "output_type": "stream",
                    "text": "Train on 60000 samples, validate on 10000 samples\nEpoch 1/10\n - 18s - loss: 0.2948 - acc: 0.9184 - val_loss: 0.1032 - val_acc: 0.9708\nEpoch 2/10\n - 17s - loss: 0.0884 - acc: 0.9748 - val_loss: 0.0650 - val_acc: 0.9801\nEpoch 3/10\n - 17s - loss: 0.0622 - acc: 0.9816 - val_loss: 0.0520 - val_acc: 0.9838\nEpoch 4/10\n - 17s - loss: 0.0475 - acc: 0.9860 - val_loss: 0.0436 - val_acc: 0.9855\nEpoch 5/10\n - 17s - loss: 0.0402 - acc: 0.9880 - val_loss: 0.0405 - val_acc: 0.9866\nEpoch 6/10\n - 17s - loss: 0.0323 - acc: 0.9904 - val_loss: 0.0418 - val_acc: 0.9865\nEpoch 7/10\n - 18s - loss: 0.0283 - acc: 0.9912 - val_loss: 0.0415 - val_acc: 0.9861\nEpoch 8/10\n - 18s - loss: 0.0249 - acc: 0.9923 - val_loss: 0.0379 - val_acc: 0.9881\nEpoch 9/10\n - 17s - loss: 0.0208 - acc: 0.9936 - val_loss: 0.0421 - val_acc: 0.9856\nEpoch 10/10\n - 18s - loss: 0.0179 - acc: 0.9949 - val_loss: 0.0411 - val_acc: 0.9862\nAccuracy: 0.9862 \n Error: 1.3800000000000097\n"
                }
            ],
            "source": "# build the model\nmodel = convolutional_model()\n\n# fit the model\nmodel.fit(X_train, y_train, validation_data=(X_test, y_test), epochs=10, batch_size=200, verbose=2)\n\n# evaluate the model\nscores = model.evaluate(X_test, y_test, verbose=0)\nprint(\"Accuracy: {} \\n Error: {}\".format(scores[1], 100-scores[1]*100))"
        },
        {
            "cell_type": "markdown",
            "metadata": {},
            "source": "------------------------------------------"
        },
        {
            "cell_type": "markdown",
            "metadata": {},
            "source": "<a id='item43'></a>"
        },
        {
            "cell_type": "markdown",
            "metadata": {},
            "source": "## Convolutional Layer with two sets of convolutional and pooling layers"
        },
        {
            "cell_type": "markdown",
            "metadata": {},
            "source": "Let's redefine our convolutional model so that it has two convolutional and pooling layers instead of just one layer of each."
        },
        {
            "cell_type": "code",
            "execution_count": 8,
            "metadata": {},
            "outputs": [],
            "source": "def convolutional_model():\n    \n    # create model\n    model = Sequential()\n    model.add(Conv2D(16, (5, 5), activation='relu', input_shape=(28, 28, 1)))\n    model.add(MaxPooling2D(pool_size=(2, 2), strides=(2, 2)))\n    \n    model.add(Conv2D(8, (2, 2), activation='relu'))\n    model.add(MaxPooling2D(pool_size=(2, 2), strides=(2, 2)))\n    \n    model.add(Flatten())\n    model.add(Dense(100, activation='relu'))\n    model.add(Dense(num_classes, activation='softmax'))\n    \n    # Compile model\n    model.compile(optimizer='adam', loss='categorical_crossentropy',  metrics=['accuracy'])\n    return model"
        },
        {
            "cell_type": "markdown",
            "metadata": {},
            "source": "Now, let's call the function to create our new convolutional neural network, and then let's train it and evaluate it."
        },
        {
            "cell_type": "code",
            "execution_count": 9,
            "metadata": {},
            "outputs": [
                {
                    "name": "stdout",
                    "output_type": "stream",
                    "text": "Train on 60000 samples, validate on 10000 samples\nEpoch 1/10\n - 20s - loss: 0.5272 - acc: 0.8462 - val_loss: 0.1804 - val_acc: 0.9488\nEpoch 2/10\n - 19s - loss: 0.1418 - acc: 0.9590 - val_loss: 0.1025 - val_acc: 0.9675\nEpoch 3/10\n - 19s - loss: 0.0909 - acc: 0.9728 - val_loss: 0.0732 - val_acc: 0.9769\nEpoch 4/10\n - 20s - loss: 0.0701 - acc: 0.9789 - val_loss: 0.0564 - val_acc: 0.9832\nEpoch 5/10\n - 19s - loss: 0.0587 - acc: 0.9828 - val_loss: 0.0494 - val_acc: 0.9842\nEpoch 6/10\n - 20s - loss: 0.0512 - acc: 0.9843 - val_loss: 0.0426 - val_acc: 0.9864\nEpoch 7/10\n - 19s - loss: 0.0446 - acc: 0.9862 - val_loss: 0.0491 - val_acc: 0.9838\nEpoch 8/10\n - 19s - loss: 0.0409 - acc: 0.9870 - val_loss: 0.0451 - val_acc: 0.9873\nEpoch 9/10\n - 19s - loss: 0.0357 - acc: 0.9890 - val_loss: 0.0374 - val_acc: 0.9887\nEpoch 10/10\n - 21s - loss: 0.0330 - acc: 0.9897 - val_loss: 0.0399 - val_acc: 0.9870\nAccuracy: 0.987 \n Error: 1.2999999999999972\n"
                }
            ],
            "source": "# build the model\nmodel = convolutional_model()\n\n# fit the model\nmodel.fit(X_train, y_train, validation_data=(X_test, y_test), epochs=10, batch_size=200, verbose=2)\n\n# evaluate the model\nscores = model.evaluate(X_test, y_test, verbose=0)\nprint(\"Accuracy: {} \\n Error: {}\".format(scores[1], 100-scores[1]*100))"
        },
        {
            "cell_type": "markdown",
            "metadata": {},
            "source": "### Thank you for completing this lab!\n\nThis notebook was created by [Alex Aklson](https://www.linkedin.com/in/aklson/). I hope you found this lab interesting and educational. Feel free to contact me if you have any questions!"
        },
        {
            "cell_type": "markdown",
            "metadata": {},
            "source": "This notebook is part of a course on **Coursera** called *Introduction to Deep Learning & Neural Networks with Keras*. If you accessed this notebook outside the course, you can take this course online by clicking [here](https://cocl.us/DL0101EN_Coursera_Week4_LAB1)."
        },
        {
            "cell_type": "markdown",
            "metadata": {},
            "source": "<hr>\n\nCopyright &copy; 2019 [IBM Developer Skills Network](https://cognitiveclass.ai/?utm_source=bducopyrightlink&utm_medium=dswb&utm_campaign=bdu). This notebook and its source code are released under the terms of the [MIT License](https://bigdatauniversity.com/mit-license/)."
        }
    ],
    "metadata": {
        "kernelspec": {
            "display_name": "Python",
            "language": "python",
            "name": "conda-env-python-py"
        },
        "language_info": {
            "codemirror_mode": {
                "name": "ipython",
                "version": 3
            },
            "file_extension": ".py",
            "mimetype": "text/x-python",
            "name": "python",
            "nbconvert_exporter": "python",
            "pygments_lexer": "ipython3",
            "version": "3.6.7"
        }
    },
    "nbformat": 4,
    "nbformat_minor": 4
}