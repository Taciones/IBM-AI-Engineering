{
    "cells": [
        {
            "cell_type": "markdown",
            "metadata": {
                "button": false,
                "deletable": true,
                "new_sheet": false,
                "run_control": {
                    "read_only": false
                }
            },
            "source": "<a href=\"https://cognitiveclass.ai\"><img src = \"https://s3-api.us-geo.objectstorage.softlayer.net/cf-courses-data/CognitiveClass/Logos/organization_logo/organization_logo.png\" width = 400> </a>\n\n<h1 align=center><font size = 5>Regression Models with Keras</font></h1>"
        },
        {
            "cell_type": "markdown",
            "metadata": {
                "button": false,
                "deletable": true,
                "new_sheet": false,
                "run_control": {
                    "read_only": false
                }
            },
            "source": "## Introduction"
        },
        {
            "cell_type": "markdown",
            "metadata": {
                "button": false,
                "deletable": true,
                "new_sheet": false,
                "run_control": {
                    "read_only": false
                }
            },
            "source": "As we discussed in the videos, despite the popularity of more powerful libraries such as PyToch and TensorFlow, they are not easy to use and have a steep learning curve. So, for people who are just starting to learn deep learning, there is no better library to use other than the Keras library. \n\nKeras is a high-level API for building deep learning models. It has gained favor for its ease of use and syntactic simplicity facilitating fast development. As you will see in this lab and the other labs in this course, building a very complex deep learning network can be achieved with Keras with only few lines of code. You will appreciate Keras even more, once you learn how to build deep models using PyTorch and TensorFlow in the other courses.\n\nSo, in this lab, you will learn how to use the Keras library to build a regression model."
        },
        {
            "cell_type": "markdown",
            "metadata": {
                "button": false,
                "deletable": true,
                "new_sheet": false,
                "run_control": {
                    "read_only": false
                }
            },
            "source": "## Table of Contents\n\n<div class=\"alert alert-block alert-info\" style=\"margin-top: 20px\">\n\n<font size = 3>\n    \n1. <a href=\"#item31\">Download and Clean Dataset</a>  \n2. <a href=\"#item32\">Import Keras</a>  \n3. <a href=\"#item33\">Build a Neural Network</a>  \n4. <a href=\"#item34\">Train and Test the Network</a>  \n\n</font>\n</div>"
        },
        {
            "cell_type": "markdown",
            "metadata": {
                "button": false,
                "deletable": true,
                "new_sheet": false,
                "run_control": {
                    "read_only": false
                }
            },
            "source": "<a id=\"item31\"></a>"
        },
        {
            "cell_type": "markdown",
            "metadata": {
                "button": false,
                "deletable": true,
                "new_sheet": false,
                "run_control": {
                    "read_only": false
                }
            },
            "source": "## Download and Clean Dataset"
        },
        {
            "cell_type": "markdown",
            "metadata": {
                "button": false,
                "deletable": true,
                "new_sheet": false,
                "run_control": {
                    "read_only": false
                }
            },
            "source": "Let's start by importing the <em>pandas</em> and the Numpy libraries."
        },
        {
            "cell_type": "code",
            "execution_count": 1,
            "metadata": {
                "button": false,
                "deletable": true,
                "new_sheet": false,
                "run_control": {
                    "read_only": false
                }
            },
            "outputs": [],
            "source": "import pandas as pd\nimport numpy as np"
        },
        {
            "cell_type": "markdown",
            "metadata": {
                "button": false,
                "deletable": true,
                "new_sheet": false,
                "run_control": {
                    "read_only": false
                }
            },
            "source": "We will be playing around with the same dataset that we used in the videos.\n\n<strong>The dataset is about the compressive strength of different samples of concrete based on the volumes of the different ingredients that were used to make them. Ingredients include:</strong>\n\n<strong>1. Cement</strong>\n\n<strong>2. Blast Furnace Slag</strong>\n\n<strong>3. Fly Ash</strong>\n\n<strong>4. Water</strong>\n\n<strong>5. Superplasticizer</strong>\n\n<strong>6. Coarse Aggregate</strong>\n\n<strong>7. Fine Aggregate</strong>"
        },
        {
            "cell_type": "markdown",
            "metadata": {
                "button": false,
                "deletable": true,
                "new_sheet": false,
                "run_control": {
                    "read_only": false
                }
            },
            "source": "Let's download the data and read it into a <em>pandas</em> dataframe."
        },
        {
            "cell_type": "code",
            "execution_count": 2,
            "metadata": {
                "button": false,
                "deletable": true,
                "new_sheet": false,
                "run_control": {
                    "read_only": false
                }
            },
            "outputs": [
                {
                    "data": {
                        "text/html": "<div>\n<style scoped>\n    .dataframe tbody tr th:only-of-type {\n        vertical-align: middle;\n    }\n\n    .dataframe tbody tr th {\n        vertical-align: top;\n    }\n\n    .dataframe thead th {\n        text-align: right;\n    }\n</style>\n<table border=\"1\" class=\"dataframe\">\n  <thead>\n    <tr style=\"text-align: right;\">\n      <th></th>\n      <th>Cement</th>\n      <th>Blast Furnace Slag</th>\n      <th>Fly Ash</th>\n      <th>Water</th>\n      <th>Superplasticizer</th>\n      <th>Coarse Aggregate</th>\n      <th>Fine Aggregate</th>\n      <th>Age</th>\n      <th>Strength</th>\n    </tr>\n  </thead>\n  <tbody>\n    <tr>\n      <th>0</th>\n      <td>540.0</td>\n      <td>0.0</td>\n      <td>0.0</td>\n      <td>162.0</td>\n      <td>2.5</td>\n      <td>1040.0</td>\n      <td>676.0</td>\n      <td>28</td>\n      <td>79.99</td>\n    </tr>\n    <tr>\n      <th>1</th>\n      <td>540.0</td>\n      <td>0.0</td>\n      <td>0.0</td>\n      <td>162.0</td>\n      <td>2.5</td>\n      <td>1055.0</td>\n      <td>676.0</td>\n      <td>28</td>\n      <td>61.89</td>\n    </tr>\n    <tr>\n      <th>2</th>\n      <td>332.5</td>\n      <td>142.5</td>\n      <td>0.0</td>\n      <td>228.0</td>\n      <td>0.0</td>\n      <td>932.0</td>\n      <td>594.0</td>\n      <td>270</td>\n      <td>40.27</td>\n    </tr>\n    <tr>\n      <th>3</th>\n      <td>332.5</td>\n      <td>142.5</td>\n      <td>0.0</td>\n      <td>228.0</td>\n      <td>0.0</td>\n      <td>932.0</td>\n      <td>594.0</td>\n      <td>365</td>\n      <td>41.05</td>\n    </tr>\n    <tr>\n      <th>4</th>\n      <td>198.6</td>\n      <td>132.4</td>\n      <td>0.0</td>\n      <td>192.0</td>\n      <td>0.0</td>\n      <td>978.4</td>\n      <td>825.5</td>\n      <td>360</td>\n      <td>44.30</td>\n    </tr>\n  </tbody>\n</table>\n</div>",
                        "text/plain": "   Cement  Blast Furnace Slag  Fly Ash  Water  Superplasticizer  \\\n0   540.0                 0.0      0.0  162.0               2.5   \n1   540.0                 0.0      0.0  162.0               2.5   \n2   332.5               142.5      0.0  228.0               0.0   \n3   332.5               142.5      0.0  228.0               0.0   \n4   198.6               132.4      0.0  192.0               0.0   \n\n   Coarse Aggregate  Fine Aggregate  Age  Strength  \n0            1040.0           676.0   28     79.99  \n1            1055.0           676.0   28     61.89  \n2             932.0           594.0  270     40.27  \n3             932.0           594.0  365     41.05  \n4             978.4           825.5  360     44.30  "
                    },
                    "execution_count": 2,
                    "metadata": {},
                    "output_type": "execute_result"
                }
            ],
            "source": "concrete_data = pd.read_csv('https://s3-api.us-geo.objectstorage.softlayer.net/cf-courses-data/CognitiveClass/DL0101EN/labs/data/concrete_data.csv')\nconcrete_data.head()"
        },
        {
            "cell_type": "markdown",
            "metadata": {
                "button": false,
                "deletable": true,
                "new_sheet": false,
                "run_control": {
                    "read_only": false
                }
            },
            "source": "So the first concrete sample has 540 cubic meter of cement, 0 cubic meter of blast furnace slag, 0 cubic meter of fly ash, 162 cubic meter of water, 2.5 cubic meter of superplaticizer, 1040 cubic meter of coarse aggregate, 676 cubic meter of fine aggregate. Such a concrete mix which is 28 days old, has a compressive strength of 79.99 MPa. "
        },
        {
            "cell_type": "markdown",
            "metadata": {
                "button": false,
                "deletable": true,
                "new_sheet": false,
                "run_control": {
                    "read_only": false
                }
            },
            "source": "#### Let's check how many data points we have."
        },
        {
            "cell_type": "code",
            "execution_count": 3,
            "metadata": {
                "button": false,
                "deletable": true,
                "new_sheet": false,
                "run_control": {
                    "read_only": false
                }
            },
            "outputs": [
                {
                    "data": {
                        "text/plain": "(1030, 9)"
                    },
                    "execution_count": 3,
                    "metadata": {},
                    "output_type": "execute_result"
                }
            ],
            "source": "concrete_data.shape"
        },
        {
            "cell_type": "markdown",
            "metadata": {
                "button": false,
                "deletable": true,
                "new_sheet": false,
                "run_control": {
                    "read_only": false
                }
            },
            "source": "So, there are approximately 1000 samples to train our model on. Because of the few samples, we have to be careful not to overfit the training data."
        },
        {
            "cell_type": "markdown",
            "metadata": {
                "button": false,
                "deletable": true,
                "new_sheet": false,
                "run_control": {
                    "read_only": false
                }
            },
            "source": "Let's check the dataset for any missing values."
        },
        {
            "cell_type": "code",
            "execution_count": 4,
            "metadata": {
                "button": false,
                "deletable": true,
                "new_sheet": false,
                "run_control": {
                    "read_only": false
                }
            },
            "outputs": [
                {
                    "data": {
                        "text/html": "<div>\n<style scoped>\n    .dataframe tbody tr th:only-of-type {\n        vertical-align: middle;\n    }\n\n    .dataframe tbody tr th {\n        vertical-align: top;\n    }\n\n    .dataframe thead th {\n        text-align: right;\n    }\n</style>\n<table border=\"1\" class=\"dataframe\">\n  <thead>\n    <tr style=\"text-align: right;\">\n      <th></th>\n      <th>Cement</th>\n      <th>Blast Furnace Slag</th>\n      <th>Fly Ash</th>\n      <th>Water</th>\n      <th>Superplasticizer</th>\n      <th>Coarse Aggregate</th>\n      <th>Fine Aggregate</th>\n      <th>Age</th>\n      <th>Strength</th>\n    </tr>\n  </thead>\n  <tbody>\n    <tr>\n      <th>count</th>\n      <td>1030.000000</td>\n      <td>1030.000000</td>\n      <td>1030.000000</td>\n      <td>1030.000000</td>\n      <td>1030.000000</td>\n      <td>1030.000000</td>\n      <td>1030.000000</td>\n      <td>1030.000000</td>\n      <td>1030.000000</td>\n    </tr>\n    <tr>\n      <th>mean</th>\n      <td>281.167864</td>\n      <td>73.895825</td>\n      <td>54.188350</td>\n      <td>181.567282</td>\n      <td>6.204660</td>\n      <td>972.918932</td>\n      <td>773.580485</td>\n      <td>45.662136</td>\n      <td>35.817961</td>\n    </tr>\n    <tr>\n      <th>std</th>\n      <td>104.506364</td>\n      <td>86.279342</td>\n      <td>63.997004</td>\n      <td>21.354219</td>\n      <td>5.973841</td>\n      <td>77.753954</td>\n      <td>80.175980</td>\n      <td>63.169912</td>\n      <td>16.705742</td>\n    </tr>\n    <tr>\n      <th>min</th>\n      <td>102.000000</td>\n      <td>0.000000</td>\n      <td>0.000000</td>\n      <td>121.800000</td>\n      <td>0.000000</td>\n      <td>801.000000</td>\n      <td>594.000000</td>\n      <td>1.000000</td>\n      <td>2.330000</td>\n    </tr>\n    <tr>\n      <th>25%</th>\n      <td>192.375000</td>\n      <td>0.000000</td>\n      <td>0.000000</td>\n      <td>164.900000</td>\n      <td>0.000000</td>\n      <td>932.000000</td>\n      <td>730.950000</td>\n      <td>7.000000</td>\n      <td>23.710000</td>\n    </tr>\n    <tr>\n      <th>50%</th>\n      <td>272.900000</td>\n      <td>22.000000</td>\n      <td>0.000000</td>\n      <td>185.000000</td>\n      <td>6.400000</td>\n      <td>968.000000</td>\n      <td>779.500000</td>\n      <td>28.000000</td>\n      <td>34.445000</td>\n    </tr>\n    <tr>\n      <th>75%</th>\n      <td>350.000000</td>\n      <td>142.950000</td>\n      <td>118.300000</td>\n      <td>192.000000</td>\n      <td>10.200000</td>\n      <td>1029.400000</td>\n      <td>824.000000</td>\n      <td>56.000000</td>\n      <td>46.135000</td>\n    </tr>\n    <tr>\n      <th>max</th>\n      <td>540.000000</td>\n      <td>359.400000</td>\n      <td>200.100000</td>\n      <td>247.000000</td>\n      <td>32.200000</td>\n      <td>1145.000000</td>\n      <td>992.600000</td>\n      <td>365.000000</td>\n      <td>82.600000</td>\n    </tr>\n  </tbody>\n</table>\n</div>",
                        "text/plain": "            Cement  Blast Furnace Slag      Fly Ash        Water  \\\ncount  1030.000000         1030.000000  1030.000000  1030.000000   \nmean    281.167864           73.895825    54.188350   181.567282   \nstd     104.506364           86.279342    63.997004    21.354219   \nmin     102.000000            0.000000     0.000000   121.800000   \n25%     192.375000            0.000000     0.000000   164.900000   \n50%     272.900000           22.000000     0.000000   185.000000   \n75%     350.000000          142.950000   118.300000   192.000000   \nmax     540.000000          359.400000   200.100000   247.000000   \n\n       Superplasticizer  Coarse Aggregate  Fine Aggregate          Age  \\\ncount       1030.000000       1030.000000     1030.000000  1030.000000   \nmean           6.204660        972.918932      773.580485    45.662136   \nstd            5.973841         77.753954       80.175980    63.169912   \nmin            0.000000        801.000000      594.000000     1.000000   \n25%            0.000000        932.000000      730.950000     7.000000   \n50%            6.400000        968.000000      779.500000    28.000000   \n75%           10.200000       1029.400000      824.000000    56.000000   \nmax           32.200000       1145.000000      992.600000   365.000000   \n\n          Strength  \ncount  1030.000000  \nmean     35.817961  \nstd      16.705742  \nmin       2.330000  \n25%      23.710000  \n50%      34.445000  \n75%      46.135000  \nmax      82.600000  "
                    },
                    "execution_count": 4,
                    "metadata": {},
                    "output_type": "execute_result"
                }
            ],
            "source": "concrete_data.describe()"
        },
        {
            "cell_type": "code",
            "execution_count": 5,
            "metadata": {
                "button": false,
                "deletable": true,
                "new_sheet": false,
                "run_control": {
                    "read_only": false
                }
            },
            "outputs": [
                {
                    "data": {
                        "text/plain": "Cement                0\nBlast Furnace Slag    0\nFly Ash               0\nWater                 0\nSuperplasticizer      0\nCoarse Aggregate      0\nFine Aggregate        0\nAge                   0\nStrength              0\ndtype: int64"
                    },
                    "execution_count": 5,
                    "metadata": {},
                    "output_type": "execute_result"
                }
            ],
            "source": "concrete_data.isnull().sum()"
        },
        {
            "cell_type": "markdown",
            "metadata": {
                "button": false,
                "deletable": true,
                "new_sheet": false,
                "run_control": {
                    "read_only": false
                }
            },
            "source": "The data looks very clean and is ready to be used to build our model."
        },
        {
            "cell_type": "markdown",
            "metadata": {
                "button": false,
                "deletable": true,
                "new_sheet": false,
                "run_control": {
                    "read_only": false
                }
            },
            "source": "#### Split data into predictors and target"
        },
        {
            "cell_type": "markdown",
            "metadata": {},
            "source": "The target variable in this problem is the concrete sample strength. Therefore, our predictors will be all the other columns."
        },
        {
            "cell_type": "code",
            "execution_count": 6,
            "metadata": {
                "button": false,
                "deletable": true,
                "new_sheet": false,
                "run_control": {
                    "read_only": false
                }
            },
            "outputs": [],
            "source": "concrete_data_columns = concrete_data.columns\n\npredictors = concrete_data[concrete_data_columns[concrete_data_columns != 'Strength']] # all columns except Strength\ntarget = concrete_data['Strength'] # Strength column"
        },
        {
            "cell_type": "markdown",
            "metadata": {
                "button": false,
                "deletable": true,
                "new_sheet": false,
                "run_control": {
                    "read_only": false
                }
            },
            "source": "<a id=\"item2\"></a>"
        },
        {
            "cell_type": "markdown",
            "metadata": {
                "button": false,
                "deletable": true,
                "new_sheet": false,
                "run_control": {
                    "read_only": false
                }
            },
            "source": "Let's do a quick sanity check of the predictors and the target dataframes."
        },
        {
            "cell_type": "code",
            "execution_count": 7,
            "metadata": {
                "button": false,
                "deletable": true,
                "new_sheet": false,
                "run_control": {
                    "read_only": false
                }
            },
            "outputs": [
                {
                    "data": {
                        "text/html": "<div>\n<style scoped>\n    .dataframe tbody tr th:only-of-type {\n        vertical-align: middle;\n    }\n\n    .dataframe tbody tr th {\n        vertical-align: top;\n    }\n\n    .dataframe thead th {\n        text-align: right;\n    }\n</style>\n<table border=\"1\" class=\"dataframe\">\n  <thead>\n    <tr style=\"text-align: right;\">\n      <th></th>\n      <th>Cement</th>\n      <th>Blast Furnace Slag</th>\n      <th>Fly Ash</th>\n      <th>Water</th>\n      <th>Superplasticizer</th>\n      <th>Coarse Aggregate</th>\n      <th>Fine Aggregate</th>\n      <th>Age</th>\n    </tr>\n  </thead>\n  <tbody>\n    <tr>\n      <th>0</th>\n      <td>540.0</td>\n      <td>0.0</td>\n      <td>0.0</td>\n      <td>162.0</td>\n      <td>2.5</td>\n      <td>1040.0</td>\n      <td>676.0</td>\n      <td>28</td>\n    </tr>\n    <tr>\n      <th>1</th>\n      <td>540.0</td>\n      <td>0.0</td>\n      <td>0.0</td>\n      <td>162.0</td>\n      <td>2.5</td>\n      <td>1055.0</td>\n      <td>676.0</td>\n      <td>28</td>\n    </tr>\n    <tr>\n      <th>2</th>\n      <td>332.5</td>\n      <td>142.5</td>\n      <td>0.0</td>\n      <td>228.0</td>\n      <td>0.0</td>\n      <td>932.0</td>\n      <td>594.0</td>\n      <td>270</td>\n    </tr>\n    <tr>\n      <th>3</th>\n      <td>332.5</td>\n      <td>142.5</td>\n      <td>0.0</td>\n      <td>228.0</td>\n      <td>0.0</td>\n      <td>932.0</td>\n      <td>594.0</td>\n      <td>365</td>\n    </tr>\n    <tr>\n      <th>4</th>\n      <td>198.6</td>\n      <td>132.4</td>\n      <td>0.0</td>\n      <td>192.0</td>\n      <td>0.0</td>\n      <td>978.4</td>\n      <td>825.5</td>\n      <td>360</td>\n    </tr>\n  </tbody>\n</table>\n</div>",
                        "text/plain": "   Cement  Blast Furnace Slag  Fly Ash  Water  Superplasticizer  \\\n0   540.0                 0.0      0.0  162.0               2.5   \n1   540.0                 0.0      0.0  162.0               2.5   \n2   332.5               142.5      0.0  228.0               0.0   \n3   332.5               142.5      0.0  228.0               0.0   \n4   198.6               132.4      0.0  192.0               0.0   \n\n   Coarse Aggregate  Fine Aggregate  Age  \n0            1040.0           676.0   28  \n1            1055.0           676.0   28  \n2             932.0           594.0  270  \n3             932.0           594.0  365  \n4             978.4           825.5  360  "
                    },
                    "execution_count": 7,
                    "metadata": {},
                    "output_type": "execute_result"
                }
            ],
            "source": "predictors.head()"
        },
        {
            "cell_type": "code",
            "execution_count": 8,
            "metadata": {
                "button": false,
                "deletable": true,
                "new_sheet": false,
                "run_control": {
                    "read_only": false
                }
            },
            "outputs": [
                {
                    "data": {
                        "text/plain": "0    79.99\n1    61.89\n2    40.27\n3    41.05\n4    44.30\nName: Strength, dtype: float64"
                    },
                    "execution_count": 8,
                    "metadata": {},
                    "output_type": "execute_result"
                }
            ],
            "source": "target.head()"
        },
        {
            "cell_type": "markdown",
            "metadata": {
                "button": false,
                "deletable": true,
                "new_sheet": false,
                "run_control": {
                    "read_only": false
                }
            },
            "source": "Finally, the last step is to normalize the data by substracting the mean and dividing by the standard deviation."
        },
        {
            "cell_type": "code",
            "execution_count": 9,
            "metadata": {
                "button": false,
                "deletable": true,
                "new_sheet": false,
                "run_control": {
                    "read_only": false
                }
            },
            "outputs": [
                {
                    "data": {
                        "text/html": "<div>\n<style scoped>\n    .dataframe tbody tr th:only-of-type {\n        vertical-align: middle;\n    }\n\n    .dataframe tbody tr th {\n        vertical-align: top;\n    }\n\n    .dataframe thead th {\n        text-align: right;\n    }\n</style>\n<table border=\"1\" class=\"dataframe\">\n  <thead>\n    <tr style=\"text-align: right;\">\n      <th></th>\n      <th>Cement</th>\n      <th>Blast Furnace Slag</th>\n      <th>Fly Ash</th>\n      <th>Water</th>\n      <th>Superplasticizer</th>\n      <th>Coarse Aggregate</th>\n      <th>Fine Aggregate</th>\n      <th>Age</th>\n    </tr>\n  </thead>\n  <tbody>\n    <tr>\n      <th>0</th>\n      <td>2.476712</td>\n      <td>-0.856472</td>\n      <td>-0.846733</td>\n      <td>-0.916319</td>\n      <td>-0.620147</td>\n      <td>0.862735</td>\n      <td>-1.217079</td>\n      <td>-0.279597</td>\n    </tr>\n    <tr>\n      <th>1</th>\n      <td>2.476712</td>\n      <td>-0.856472</td>\n      <td>-0.846733</td>\n      <td>-0.916319</td>\n      <td>-0.620147</td>\n      <td>1.055651</td>\n      <td>-1.217079</td>\n      <td>-0.279597</td>\n    </tr>\n    <tr>\n      <th>2</th>\n      <td>0.491187</td>\n      <td>0.795140</td>\n      <td>-0.846733</td>\n      <td>2.174405</td>\n      <td>-1.038638</td>\n      <td>-0.526262</td>\n      <td>-2.239829</td>\n      <td>3.551340</td>\n    </tr>\n    <tr>\n      <th>3</th>\n      <td>0.491187</td>\n      <td>0.795140</td>\n      <td>-0.846733</td>\n      <td>2.174405</td>\n      <td>-1.038638</td>\n      <td>-0.526262</td>\n      <td>-2.239829</td>\n      <td>5.055221</td>\n    </tr>\n    <tr>\n      <th>4</th>\n      <td>-0.790075</td>\n      <td>0.678079</td>\n      <td>-0.846733</td>\n      <td>0.488555</td>\n      <td>-1.038638</td>\n      <td>0.070492</td>\n      <td>0.647569</td>\n      <td>4.976069</td>\n    </tr>\n  </tbody>\n</table>\n</div>",
                        "text/plain": "     Cement  Blast Furnace Slag   Fly Ash     Water  Superplasticizer  \\\n0  2.476712           -0.856472 -0.846733 -0.916319         -0.620147   \n1  2.476712           -0.856472 -0.846733 -0.916319         -0.620147   \n2  0.491187            0.795140 -0.846733  2.174405         -1.038638   \n3  0.491187            0.795140 -0.846733  2.174405         -1.038638   \n4 -0.790075            0.678079 -0.846733  0.488555         -1.038638   \n\n   Coarse Aggregate  Fine Aggregate       Age  \n0          0.862735       -1.217079 -0.279597  \n1          1.055651       -1.217079 -0.279597  \n2         -0.526262       -2.239829  3.551340  \n3         -0.526262       -2.239829  5.055221  \n4          0.070492        0.647569  4.976069  "
                    },
                    "execution_count": 9,
                    "metadata": {},
                    "output_type": "execute_result"
                }
            ],
            "source": "predictors_norm = (predictors - predictors.mean()) / predictors.std()\npredictors_norm.head()"
        },
        {
            "cell_type": "markdown",
            "metadata": {},
            "source": "Let's save the number of predictors to *n_cols* since we will need this number when building our network."
        },
        {
            "cell_type": "code",
            "execution_count": 11,
            "metadata": {
                "button": false,
                "deletable": true,
                "new_sheet": false,
                "run_control": {
                    "read_only": false
                }
            },
            "outputs": [
                {
                    "data": {
                        "text/plain": "8"
                    },
                    "execution_count": 11,
                    "metadata": {},
                    "output_type": "execute_result"
                }
            ],
            "source": "n_cols = predictors_norm.shape[1] # number of predictors\nn_cols"
        },
        {
            "cell_type": "markdown",
            "metadata": {
                "button": false,
                "deletable": true,
                "new_sheet": false,
                "run_control": {
                    "read_only": false
                }
            },
            "source": "<a id=\"item1\"></a>"
        },
        {
            "cell_type": "markdown",
            "metadata": {},
            "source": "<a id='item32'></a>"
        },
        {
            "cell_type": "markdown",
            "metadata": {
                "button": false,
                "deletable": true,
                "new_sheet": false,
                "run_control": {
                    "read_only": false
                }
            },
            "source": "## Import Keras"
        },
        {
            "cell_type": "markdown",
            "metadata": {
                "button": false,
                "deletable": true,
                "new_sheet": false,
                "run_control": {
                    "read_only": false
                }
            },
            "source": "Recall from the videos that Keras normally runs on top of a low-level library such as TensorFlow. This means that to be able to use the Keras library, you will have to install TensorFlow first and when you import the Keras library, it will be explicitly displayed what backend was used to install the Keras library. In CC Labs, we used TensorFlow as the backend to install Keras, so it should clearly print that when we import Keras."
        },
        {
            "cell_type": "markdown",
            "metadata": {
                "button": false,
                "deletable": true,
                "new_sheet": false,
                "run_control": {
                    "read_only": false
                }
            },
            "source": "#### Let's go ahead and import the Keras library"
        },
        {
            "cell_type": "code",
            "execution_count": 12,
            "metadata": {
                "button": false,
                "deletable": true,
                "new_sheet": false,
                "run_control": {
                    "read_only": false
                }
            },
            "outputs": [
                {
                    "name": "stderr",
                    "output_type": "stream",
                    "text": "Using TensorFlow backend.\n"
                }
            ],
            "source": "import keras"
        },
        {
            "cell_type": "markdown",
            "metadata": {
                "button": false,
                "deletable": true,
                "new_sheet": false,
                "run_control": {
                    "read_only": false
                }
            },
            "source": "As you can see, the TensorFlow backend was used to install the Keras library."
        },
        {
            "cell_type": "markdown",
            "metadata": {
                "button": false,
                "deletable": true,
                "new_sheet": false,
                "run_control": {
                    "read_only": false
                }
            },
            "source": "Let's import the rest of the packages from the Keras library that we will need to build our regressoin model."
        },
        {
            "cell_type": "code",
            "execution_count": 13,
            "metadata": {
                "button": false,
                "deletable": true,
                "new_sheet": false,
                "run_control": {
                    "read_only": false
                }
            },
            "outputs": [],
            "source": "from keras.models import Sequential\nfrom keras.layers import Dense"
        },
        {
            "cell_type": "markdown",
            "metadata": {},
            "source": "<a id='item33'></a>"
        },
        {
            "cell_type": "markdown",
            "metadata": {
                "button": false,
                "deletable": true,
                "new_sheet": false,
                "run_control": {
                    "read_only": false
                }
            },
            "source": "## Build a Neural Network"
        },
        {
            "cell_type": "markdown",
            "metadata": {
                "button": false,
                "deletable": true,
                "new_sheet": false,
                "run_control": {
                    "read_only": false
                }
            },
            "source": "Let's define a function that defines our regression model for us so that we can conveniently call it to create our model."
        },
        {
            "cell_type": "code",
            "execution_count": 14,
            "metadata": {
                "button": false,
                "deletable": true,
                "new_sheet": false,
                "run_control": {
                    "read_only": false
                }
            },
            "outputs": [],
            "source": "# define regression model\ndef regression_model():\n    # create model\n    model = Sequential()\n    model.add(Dense(50, activation='relu', input_shape=(n_cols,)))\n    model.add(Dense(50, activation='relu'))\n    model.add(Dense(1))\n    \n    # compile model\n    model.compile(optimizer='adam', loss='mean_squared_error')\n    return model"
        },
        {
            "cell_type": "markdown",
            "metadata": {},
            "source": "The above function create a model that has two hidden layers, each of 50 hidden units."
        },
        {
            "cell_type": "markdown",
            "metadata": {
                "button": false,
                "deletable": true,
                "new_sheet": false,
                "run_control": {
                    "read_only": false
                }
            },
            "source": "<a id=\"item4\"></a>"
        },
        {
            "cell_type": "markdown",
            "metadata": {},
            "source": "<a id='item34'></a>"
        },
        {
            "cell_type": "markdown",
            "metadata": {
                "button": false,
                "deletable": true,
                "new_sheet": false,
                "run_control": {
                    "read_only": false
                }
            },
            "source": "## Train and Test the Network"
        },
        {
            "cell_type": "markdown",
            "metadata": {},
            "source": "Let's call the function now to create our model."
        },
        {
            "cell_type": "code",
            "execution_count": 15,
            "metadata": {
                "button": false,
                "deletable": true,
                "new_sheet": false,
                "run_control": {
                    "read_only": false
                }
            },
            "outputs": [],
            "source": "# build the model\nmodel = regression_model()"
        },
        {
            "cell_type": "markdown",
            "metadata": {},
            "source": "Next, we will train and test the model at the same time using the *fit* method. We will leave out 30% of the data for validation and we will train the model for 100 epochs."
        },
        {
            "cell_type": "code",
            "execution_count": 16,
            "metadata": {},
            "outputs": [
                {
                    "name": "stdout",
                    "output_type": "stream",
                    "text": "Train on 721 samples, validate on 309 samples\nEpoch 1/100\n - 0s - loss: 1654.5844 - val_loss: 1143.5530\nEpoch 2/100\n - 0s - loss: 1529.7326 - val_loss: 1013.9460\nEpoch 3/100\n - 0s - loss: 1318.7552 - val_loss: 813.3290\nEpoch 4/100\n - 0s - loss: 997.5807 - val_loss: 559.2675\nEpoch 5/100\n - 0s - loss: 629.2095 - val_loss: 327.4139\nEpoch 6/100\n - 0s - loss: 351.8347 - val_loss: 204.1356\nEpoch 7/100\n - 0s - loss: 255.4348 - val_loss: 169.5571\nEpoch 8/100\n - 0s - loss: 230.9768 - val_loss: 162.3074\nEpoch 9/100\n - 0s - loss: 217.2143 - val_loss: 155.7138\nEpoch 10/100\n - 0s - loss: 207.0029 - val_loss: 153.2220\nEpoch 11/100\n - 0s - loss: 197.4041 - val_loss: 151.8524\nEpoch 12/100\n - 0s - loss: 190.5512 - val_loss: 151.5519\nEpoch 13/100\n - 0s - loss: 184.0077 - val_loss: 149.7250\nEpoch 14/100\n - 0s - loss: 178.9580 - val_loss: 149.8306\nEpoch 15/100\n - 0s - loss: 174.1033 - val_loss: 148.6613\nEpoch 16/100\n - 0s - loss: 170.1064 - val_loss: 147.7406\nEpoch 17/100\n - 0s - loss: 166.3433 - val_loss: 148.9485\nEpoch 18/100\n - 0s - loss: 163.4582 - val_loss: 147.7124\nEpoch 19/100\n - 0s - loss: 160.3100 - val_loss: 148.4742\nEpoch 20/100\n - 0s - loss: 157.5264 - val_loss: 149.3057\nEpoch 21/100\n - 0s - loss: 154.6203 - val_loss: 151.4971\nEpoch 22/100\n - 0s - loss: 152.2294 - val_loss: 148.0648\nEpoch 23/100\n - 0s - loss: 150.1589 - val_loss: 149.7591\nEpoch 24/100\n - 0s - loss: 147.9559 - val_loss: 148.9548\nEpoch 25/100\n - 0s - loss: 146.2929 - val_loss: 150.6085\nEpoch 26/100\n - 0s - loss: 144.6895 - val_loss: 149.8582\nEpoch 27/100\n - 0s - loss: 143.3214 - val_loss: 150.8814\nEpoch 28/100\n - 0s - loss: 141.1754 - val_loss: 149.5249\nEpoch 29/100\n - 0s - loss: 139.9062 - val_loss: 151.7551\nEpoch 30/100\n - 0s - loss: 139.8355 - val_loss: 149.6850\nEpoch 31/100\n - 0s - loss: 136.8629 - val_loss: 152.6759\nEpoch 32/100\n - 0s - loss: 135.5213 - val_loss: 153.5967\nEpoch 33/100\n - 0s - loss: 133.9941 - val_loss: 154.1500\nEpoch 34/100\n - 0s - loss: 132.4073 - val_loss: 150.0764\nEpoch 35/100\n - 0s - loss: 131.4528 - val_loss: 152.7542\nEpoch 36/100\n - 0s - loss: 130.6463 - val_loss: 153.6939\nEpoch 37/100\n - 0s - loss: 128.4501 - val_loss: 152.0110\nEpoch 38/100\n - 0s - loss: 127.0659 - val_loss: 152.5259\nEpoch 39/100\n - 0s - loss: 125.6687 - val_loss: 153.2919\nEpoch 40/100\n - 0s - loss: 123.7551 - val_loss: 153.2247\nEpoch 41/100\n - 0s - loss: 122.0288 - val_loss: 151.0805\nEpoch 42/100\n - 0s - loss: 121.0508 - val_loss: 153.6088\nEpoch 43/100\n - 0s - loss: 119.3508 - val_loss: 156.6300\nEpoch 44/100\n - 0s - loss: 116.8251 - val_loss: 152.6564\nEpoch 45/100\n - 0s - loss: 115.5695 - val_loss: 152.2201\nEpoch 46/100\n - 0s - loss: 114.1487 - val_loss: 152.4115\nEpoch 47/100\n - 0s - loss: 112.7556 - val_loss: 153.4435\nEpoch 48/100\n - 0s - loss: 110.5215 - val_loss: 150.9694\nEpoch 49/100\n - 0s - loss: 108.7138 - val_loss: 153.5856\nEpoch 50/100\n - 0s - loss: 106.5224 - val_loss: 151.7481\nEpoch 51/100\n - 0s - loss: 104.6394 - val_loss: 149.6612\nEpoch 52/100\n - 0s - loss: 102.5147 - val_loss: 150.8590\nEpoch 53/100\n - 0s - loss: 100.1365 - val_loss: 147.6909\nEpoch 54/100\n - 0s - loss: 98.3182 - val_loss: 154.5864\nEpoch 55/100\n - 0s - loss: 96.3877 - val_loss: 146.3731\nEpoch 56/100\n - 0s - loss: 94.0158 - val_loss: 146.1356\nEpoch 57/100\n - 0s - loss: 90.4188 - val_loss: 152.4576\nEpoch 58/100\n - 0s - loss: 88.7662 - val_loss: 151.8086\nEpoch 59/100\n - 0s - loss: 85.8392 - val_loss: 145.4162\nEpoch 60/100\n - 0s - loss: 83.5509 - val_loss: 146.1699\nEpoch 61/100\n - 0s - loss: 81.9969 - val_loss: 148.6715\nEpoch 62/100\n - 0s - loss: 79.0889 - val_loss: 145.8165\nEpoch 63/100\n - 0s - loss: 76.9436 - val_loss: 143.5245\nEpoch 64/100\n - 0s - loss: 73.3627 - val_loss: 148.0892\nEpoch 65/100\n - 0s - loss: 71.2457 - val_loss: 141.3981\nEpoch 66/100\n - 0s - loss: 69.2281 - val_loss: 142.2698\nEpoch 67/100\n - 0s - loss: 66.4197 - val_loss: 150.7985\nEpoch 68/100\n - 0s - loss: 63.7816 - val_loss: 139.4783\nEpoch 69/100\n - 0s - loss: 62.1975 - val_loss: 144.3375\nEpoch 70/100\n - 0s - loss: 60.0664 - val_loss: 147.2478\nEpoch 71/100\n - 0s - loss: 58.5879 - val_loss: 139.2046\nEpoch 72/100\n - 0s - loss: 58.0125 - val_loss: 146.2340\nEpoch 73/100\n - 0s - loss: 54.6419 - val_loss: 139.6877\nEpoch 74/100\n - 0s - loss: 53.1895 - val_loss: 148.3113\nEpoch 75/100\n - 0s - loss: 52.0489 - val_loss: 144.1944\nEpoch 76/100\n - 0s - loss: 50.6659 - val_loss: 147.4517\nEpoch 77/100\n - 0s - loss: 49.0697 - val_loss: 147.5511\nEpoch 78/100\n - 0s - loss: 49.6074 - val_loss: 150.0376\nEpoch 79/100\n - 0s - loss: 46.8845 - val_loss: 140.4417\nEpoch 80/100\n - 0s - loss: 46.5512 - val_loss: 140.9738\nEpoch 81/100\n - 0s - loss: 44.8502 - val_loss: 145.8219\nEpoch 82/100\n - 0s - loss: 43.7898 - val_loss: 147.0275\nEpoch 83/100\n - 0s - loss: 43.5406 - val_loss: 148.7709\nEpoch 84/100\n - 0s - loss: 42.5971 - val_loss: 142.6228\nEpoch 85/100\n - 0s - loss: 41.7619 - val_loss: 138.9166\nEpoch 86/100\n - 0s - loss: 41.4162 - val_loss: 141.6752\nEpoch 87/100\n - 0s - loss: 39.9738 - val_loss: 144.5682\nEpoch 88/100\n - 0s - loss: 39.3289 - val_loss: 140.1091\nEpoch 89/100\n - 0s - loss: 38.9007 - val_loss: 151.6673\nEpoch 90/100\n - 0s - loss: 38.1773 - val_loss: 147.3971\nEpoch 91/100\n - 0s - loss: 37.3835 - val_loss: 148.0706\nEpoch 92/100\n - 0s - loss: 37.1078 - val_loss: 145.0366\nEpoch 93/100\n - 0s - loss: 36.4963 - val_loss: 140.3935\nEpoch 94/100\n - 0s - loss: 36.1253 - val_loss: 146.0331\nEpoch 95/100\n - 0s - loss: 35.2634 - val_loss: 148.3233\nEpoch 96/100\n - 0s - loss: 34.8275 - val_loss: 144.0656\nEpoch 97/100\n - 0s - loss: 34.3020 - val_loss: 139.7278\nEpoch 98/100\n - 0s - loss: 34.3614 - val_loss: 140.7558\nEpoch 99/100\n - 0s - loss: 33.4799 - val_loss: 152.4081\nEpoch 100/100\n - 0s - loss: 33.7922 - val_loss: 134.7277\n"
                },
                {
                    "data": {
                        "text/plain": "<keras.callbacks.History at 0x7f61f9ade9e8>"
                    },
                    "execution_count": 16,
                    "metadata": {},
                    "output_type": "execute_result"
                }
            ],
            "source": "# fit the model\nmodel.fit(predictors_norm, target, validation_split=0.3, epochs=100, verbose=2)"
        },
        {
            "cell_type": "markdown",
            "metadata": {
                "button": false,
                "deletable": true,
                "new_sheet": false,
                "run_control": {
                    "read_only": false
                }
            },
            "source": "<strong>You can refer to this [link](https://keras.io/models/sequential/) to learn about other functions that you can use for prediction or evaluation.</strong>"
        },
        {
            "cell_type": "markdown",
            "metadata": {
                "button": false,
                "deletable": true,
                "new_sheet": false,
                "run_control": {
                    "read_only": false
                }
            },
            "source": "Feel free to vary the following and note what impact each change has on the model's performance:\n\n1. Increase or decreate number of neurons in hidden layers\n2. Add more hidden layers\n3. Increase number of epochs"
        },
        {
            "cell_type": "markdown",
            "metadata": {
                "button": false,
                "deletable": true,
                "new_sheet": false,
                "run_control": {
                    "read_only": false
                }
            },
            "source": "### Thank you for completing this lab!\n\nThis notebook was created by [Alex Aklson](https://www.linkedin.com/in/aklson/). I hope you found this lab interesting and educational. Feel free to contact me if you have any questions!"
        },
        {
            "cell_type": "markdown",
            "metadata": {
                "button": false,
                "deletable": true,
                "new_sheet": false,
                "run_control": {
                    "read_only": false
                }
            },
            "source": "This notebook is part of a course on **Coursera** called *Introduction to Deep Learning & Neural Networks with Keras*. If you accessed this notebook outside the course, you can take this course online by clicking [here](https://cocl.us/DL0101EN_Coursera_Week3_LAB1)."
        },
        {
            "cell_type": "markdown",
            "metadata": {
                "button": false,
                "deletable": true,
                "new_sheet": false,
                "run_control": {
                    "read_only": false
                }
            },
            "source": "<hr>\n\nCopyright &copy; 2019 [IBM Developer Skills Network](https://cognitiveclass.ai/?utm_source=bducopyrightlink&utm_medium=dswb&utm_campaign=bdu). This notebook and its source code are released under the terms of the [MIT License](https://bigdatauniversity.com/mit-license/)."
        }
    ],
    "metadata": {
        "kernelspec": {
            "display_name": "Python",
            "language": "python",
            "name": "conda-env-python-py"
        },
        "language_info": {
            "codemirror_mode": {
                "name": "ipython",
                "version": 3
            },
            "file_extension": ".py",
            "mimetype": "text/x-python",
            "name": "python",
            "nbconvert_exporter": "python",
            "pygments_lexer": "ipython3",
            "version": "3.6.7"
        }
    },
    "nbformat": 4,
    "nbformat_minor": 4
}
