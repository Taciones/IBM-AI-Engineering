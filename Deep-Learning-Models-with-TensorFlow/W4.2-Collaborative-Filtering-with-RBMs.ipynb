{
    "cells": [
        {
            "cell_type": "markdown",
            "metadata": {},
            "source": "<a href=\"https://www.bigdatauniversity.com\"><img src=\"https://ibm.box.com/shared/static/qo20b88v1hbjztubt06609ovs85q8fau.png\" width=\"400px\" align=\"center\"></a>\n\n<h1 align=\"center\"><font size=\"5\">RECOMMENDATION SYSTEM WITH A RESTRICTED BOLTZMANN MACHINE</font></h1>"
        },
        {
            "cell_type": "markdown",
            "metadata": {},
            "source": "Welcome to the <b>Recommendation System with a Restricted Boltzmann Machine</b> notebook. In this notebook, we study and go over the usage of a Restricted Boltzmann Machine (RBM) in a Collaborative Filtering based recommendation system. This system is an algorithm that recommends items by trying to find users that are similar to each other based on their item ratings. By the end of this notebook, you should have a deeper understanding of how Restricted Boltzmann Machines are applied, and how to build one using TensorFlow."
        },
        {
            "cell_type": "markdown",
            "metadata": {},
            "source": "<h2>Table of Contents</h2>\n\n<ol>\n    <li><a href=\"#ref1\">Acquiring the Data</a></li>\n    <li><a href=\"#ref2\">Loading in the Data</a></li>\n    <li><a href=\"#ref3\">The Restricted Boltzmann Machine model</a></li>\n    <li><a href=\"#ref4\">Setting the Model's Parameters</a></li>\n    <li><a href=\"#ref5\">Recommendation</a></li>\n</ol>\n<br>\n<br>\n<hr>"
        },
        {
            "cell_type": "markdown",
            "metadata": {},
            "source": "<a id=\"ref1\"></a>\n<h2>Acquiring the Data</h2>"
        },
        {
            "cell_type": "markdown",
            "metadata": {},
            "source": "To start, we need to download the data we are going to use for our system. The datasets we are going to use were acquired by <a href=\"http://grouplens.org/datasets/movielens/\">GroupLens</a> and contain movies, users and movie ratings by these users.\n\nAfter downloading the data, we will extract the datasets to a directory that is easily accessible."
        },
        {
            "cell_type": "code",
            "execution_count": 1,
            "metadata": {},
            "outputs": [
                {
                    "name": "stdout",
                    "output_type": "stream",
                    "text": "--2019-12-30 11:53:57--  http://files.grouplens.org/datasets/movielens/ml-1m.zip\nResolving files.grouplens.org (files.grouplens.org)... 128.101.65.152\nConnecting to files.grouplens.org (files.grouplens.org)|128.101.65.152|:80... connected.\nHTTP request sent, awaiting response... 200 OK\nLength: 5917549 (5.6M) [application/zip]\nSaving to: \u2018./data/moviedataset.zip\u2019\n\n./data/moviedataset 100%[===================>]   5.64M  14.4MB/s    in 0.4s    \n\n2019-12-30 11:53:58 (14.4 MB/s) - \u2018./data/moviedataset.zip\u2019 saved [5917549/5917549]\n\nArchive:  ./data/moviedataset.zip\n   creating: ./data/ml-1m/\n  inflating: ./data/ml-1m/movies.dat  \n  inflating: ./data/ml-1m/ratings.dat  \n  inflating: ./data/ml-1m/README     \n  inflating: ./data/ml-1m/users.dat  \n"
                }
            ],
            "source": "!wget -O ./data/moviedataset.zip http://files.grouplens.org/datasets/movielens/ml-1m.zip\n!unzip -o ./data/moviedataset.zip -d ./data"
        },
        {
            "cell_type": "markdown",
            "metadata": {},
            "source": "With the datasets in place, let's now import the necessary libraries. We will be using <a href=\"https://www.tensorflow.org/\">Tensorflow</a> and <a href=\"http://www.numpy.org/\">Numpy</a> together to model and initialize our Restricted Boltzmann Machine and <a href=\"http://pandas.pydata.org/pandas-docs/stable/\">Pandas</a> to manipulate our datasets. To import these libraries, run the code cell below."
        },
        {
            "cell_type": "code",
            "execution_count": 2,
            "metadata": {},
            "outputs": [],
            "source": "#Tensorflow library. Used to implement machine learning models\nimport tensorflow as tf\n#Numpy contains helpful functions for efficient mathematical calculations\nimport numpy as np\n#Dataframe manipulation library\nimport pandas as pd\n#Graph plotting library\nimport matplotlib.pyplot as plt\n%matplotlib inline"
        },
        {
            "cell_type": "markdown",
            "metadata": {},
            "source": "<hr>"
        },
        {
            "cell_type": "markdown",
            "metadata": {},
            "source": "<a id=\"ref2\"></a>\n<h2>Loading in the Data</h2>\n\nLet's begin by loading in our data with Pandas. The .dat files containing our data are similar to CSV files, but instead of using the ',' (comma) character to separate entries, it uses '::' (two colons) characters instead. To let Pandas know that it should separate data points at every '::', we have to specify the <code>sep='::'</code> parameter when calling the function.\n\nAdditionally, we also pass it the <code>header=None</code> parameter due to the fact that our files don't contain any headers.\n\nLet's start with the movies.dat file and take a look at its structure:"
        },
        {
            "cell_type": "code",
            "execution_count": 5,
            "metadata": {
                "scrolled": true
            },
            "outputs": [
                {
                    "data": {
                        "text/html": "<div>\n<style scoped>\n    .dataframe tbody tr th:only-of-type {\n        vertical-align: middle;\n    }\n\n    .dataframe tbody tr th {\n        vertical-align: top;\n    }\n\n    .dataframe thead th {\n        text-align: right;\n    }\n</style>\n<table border=\"1\" class=\"dataframe\">\n  <thead>\n    <tr style=\"text-align: right;\">\n      <th></th>\n      <th>0</th>\n      <th>1</th>\n      <th>2</th>\n    </tr>\n  </thead>\n  <tbody>\n    <tr>\n      <th>0</th>\n      <td>1</td>\n      <td>Toy Story (1995)</td>\n      <td>Animation|Children's|Comedy</td>\n    </tr>\n    <tr>\n      <th>1</th>\n      <td>2</td>\n      <td>Jumanji (1995)</td>\n      <td>Adventure|Children's|Fantasy</td>\n    </tr>\n    <tr>\n      <th>2</th>\n      <td>3</td>\n      <td>Grumpier Old Men (1995)</td>\n      <td>Comedy|Romance</td>\n    </tr>\n    <tr>\n      <th>3</th>\n      <td>4</td>\n      <td>Waiting to Exhale (1995)</td>\n      <td>Comedy|Drama</td>\n    </tr>\n    <tr>\n      <th>4</th>\n      <td>5</td>\n      <td>Father of the Bride Part II (1995)</td>\n      <td>Comedy</td>\n    </tr>\n  </tbody>\n</table>\n</div>",
                        "text/plain": "   0                                   1                             2\n0  1                    Toy Story (1995)   Animation|Children's|Comedy\n1  2                      Jumanji (1995)  Adventure|Children's|Fantasy\n2  3             Grumpier Old Men (1995)                Comedy|Romance\n3  4            Waiting to Exhale (1995)                  Comedy|Drama\n4  5  Father of the Bride Part II (1995)                        Comedy"
                    },
                    "execution_count": 5,
                    "metadata": {},
                    "output_type": "execute_result"
                }
            ],
            "source": "#Loading in the movies dataset\nmovies_df = pd.read_csv('./data/ml-1m/movies.dat', sep='::', header=None, engine='python')\nmovies_df.head()"
        },
        {
            "cell_type": "markdown",
            "metadata": {},
            "source": "We can do the same for the ratings.dat file:"
        },
        {
            "cell_type": "code",
            "execution_count": 6,
            "metadata": {},
            "outputs": [
                {
                    "data": {
                        "text/html": "<div>\n<style scoped>\n    .dataframe tbody tr th:only-of-type {\n        vertical-align: middle;\n    }\n\n    .dataframe tbody tr th {\n        vertical-align: top;\n    }\n\n    .dataframe thead th {\n        text-align: right;\n    }\n</style>\n<table border=\"1\" class=\"dataframe\">\n  <thead>\n    <tr style=\"text-align: right;\">\n      <th></th>\n      <th>0</th>\n      <th>1</th>\n      <th>2</th>\n      <th>3</th>\n    </tr>\n  </thead>\n  <tbody>\n    <tr>\n      <th>0</th>\n      <td>1</td>\n      <td>1193</td>\n      <td>5</td>\n      <td>978300760</td>\n    </tr>\n    <tr>\n      <th>1</th>\n      <td>1</td>\n      <td>661</td>\n      <td>3</td>\n      <td>978302109</td>\n    </tr>\n    <tr>\n      <th>2</th>\n      <td>1</td>\n      <td>914</td>\n      <td>3</td>\n      <td>978301968</td>\n    </tr>\n    <tr>\n      <th>3</th>\n      <td>1</td>\n      <td>3408</td>\n      <td>4</td>\n      <td>978300275</td>\n    </tr>\n    <tr>\n      <th>4</th>\n      <td>1</td>\n      <td>2355</td>\n      <td>5</td>\n      <td>978824291</td>\n    </tr>\n  </tbody>\n</table>\n</div>",
                        "text/plain": "   0     1  2          3\n0  1  1193  5  978300760\n1  1   661  3  978302109\n2  1   914  3  978301968\n3  1  3408  4  978300275\n4  1  2355  5  978824291"
                    },
                    "execution_count": 6,
                    "metadata": {},
                    "output_type": "execute_result"
                }
            ],
            "source": "#Loading in the ratings dataset\nratings_df = pd.read_csv('./data/ml-1m/ratings.dat', sep='::', header=None, engine='python')\nratings_df.head()"
        },
        {
            "cell_type": "markdown",
            "metadata": {},
            "source": "So our <b>movies_df</b> variable contains a dataframe that stores a movie's unique ID number, title and genres, while our <b>ratings_df</b> variable stores a unique User ID number, a movie's ID that the user has watched, the user's rating to said movie and when the user rated that movie.\n\nLet's now rename the columns in these dataframes so we can better convey their data more intuitively:"
        },
        {
            "cell_type": "code",
            "execution_count": 7,
            "metadata": {},
            "outputs": [
                {
                    "data": {
                        "text/html": "<div>\n<style scoped>\n    .dataframe tbody tr th:only-of-type {\n        vertical-align: middle;\n    }\n\n    .dataframe tbody tr th {\n        vertical-align: top;\n    }\n\n    .dataframe thead th {\n        text-align: right;\n    }\n</style>\n<table border=\"1\" class=\"dataframe\">\n  <thead>\n    <tr style=\"text-align: right;\">\n      <th></th>\n      <th>MovieID</th>\n      <th>Title</th>\n      <th>Genres</th>\n    </tr>\n  </thead>\n  <tbody>\n    <tr>\n      <th>0</th>\n      <td>1</td>\n      <td>Toy Story (1995)</td>\n      <td>Animation|Children's|Comedy</td>\n    </tr>\n    <tr>\n      <th>1</th>\n      <td>2</td>\n      <td>Jumanji (1995)</td>\n      <td>Adventure|Children's|Fantasy</td>\n    </tr>\n    <tr>\n      <th>2</th>\n      <td>3</td>\n      <td>Grumpier Old Men (1995)</td>\n      <td>Comedy|Romance</td>\n    </tr>\n    <tr>\n      <th>3</th>\n      <td>4</td>\n      <td>Waiting to Exhale (1995)</td>\n      <td>Comedy|Drama</td>\n    </tr>\n    <tr>\n      <th>4</th>\n      <td>5</td>\n      <td>Father of the Bride Part II (1995)</td>\n      <td>Comedy</td>\n    </tr>\n  </tbody>\n</table>\n</div>",
                        "text/plain": "   MovieID                               Title                        Genres\n0        1                    Toy Story (1995)   Animation|Children's|Comedy\n1        2                      Jumanji (1995)  Adventure|Children's|Fantasy\n2        3             Grumpier Old Men (1995)                Comedy|Romance\n3        4            Waiting to Exhale (1995)                  Comedy|Drama\n4        5  Father of the Bride Part II (1995)                        Comedy"
                    },
                    "execution_count": 7,
                    "metadata": {},
                    "output_type": "execute_result"
                }
            ],
            "source": "movies_df.columns = ['MovieID', 'Title', 'Genres']\nmovies_df.head()"
        },
        {
            "cell_type": "markdown",
            "metadata": {},
            "source": "And our final ratings_df:"
        },
        {
            "cell_type": "code",
            "execution_count": 8,
            "metadata": {
                "scrolled": true
            },
            "outputs": [
                {
                    "data": {
                        "text/html": "<div>\n<style scoped>\n    .dataframe tbody tr th:only-of-type {\n        vertical-align: middle;\n    }\n\n    .dataframe tbody tr th {\n        vertical-align: top;\n    }\n\n    .dataframe thead th {\n        text-align: right;\n    }\n</style>\n<table border=\"1\" class=\"dataframe\">\n  <thead>\n    <tr style=\"text-align: right;\">\n      <th></th>\n      <th>UserID</th>\n      <th>MovieID</th>\n      <th>Rating</th>\n      <th>Timestamp</th>\n    </tr>\n  </thead>\n  <tbody>\n    <tr>\n      <th>0</th>\n      <td>1</td>\n      <td>1193</td>\n      <td>5</td>\n      <td>978300760</td>\n    </tr>\n    <tr>\n      <th>1</th>\n      <td>1</td>\n      <td>661</td>\n      <td>3</td>\n      <td>978302109</td>\n    </tr>\n    <tr>\n      <th>2</th>\n      <td>1</td>\n      <td>914</td>\n      <td>3</td>\n      <td>978301968</td>\n    </tr>\n    <tr>\n      <th>3</th>\n      <td>1</td>\n      <td>3408</td>\n      <td>4</td>\n      <td>978300275</td>\n    </tr>\n    <tr>\n      <th>4</th>\n      <td>1</td>\n      <td>2355</td>\n      <td>5</td>\n      <td>978824291</td>\n    </tr>\n  </tbody>\n</table>\n</div>",
                        "text/plain": "   UserID  MovieID  Rating  Timestamp\n0       1     1193       5  978300760\n1       1      661       3  978302109\n2       1      914       3  978301968\n3       1     3408       4  978300275\n4       1     2355       5  978824291"
                    },
                    "execution_count": 8,
                    "metadata": {},
                    "output_type": "execute_result"
                }
            ],
            "source": "ratings_df.columns = ['UserID', 'MovieID', 'Rating', 'Timestamp']\nratings_df.head()"
        },
        {
            "cell_type": "markdown",
            "metadata": {},
            "source": "<hr>"
        },
        {
            "cell_type": "markdown",
            "metadata": {},
            "source": "<a id=\"ref3\"></a>\n<h2>The Restricted Boltzmann Machine model</h2>"
        },
        {
            "cell_type": "markdown",
            "metadata": {},
            "source": "<img src=\"https://ibm.box.com/shared/static/o049tx0dsllpbj3b546vuba25qqlzelq.png\"  width=\"300\">\n<br>\nThe Restricted Boltzmann Machine model has two layers of neurons, one of which is what we call a visible input layer and the other is called a hidden layer. The hidden layer is used to learn features from the information fed through the input layer. For our model, the input is going to contain X neurons, where X is the amount of movies in our dataset. Each of these neurons will possess a normalized rating value varying from 0 to 1, where 0 meaning that a user has not watched that movie and the closer the value is to 1, the more the user likes the movie that neuron's representing. These normalized values, of course, will be extracted and normalized from the ratings dataset.\n\nAfter passing in the input, we train the RBM on it and have the hidden layer learn its features. These features are what we use to reconstruct the input, which in our case, will predict the ratings for movies that user hasn't watched, which is exactly what we can use to recommend movies!\n\nWe will now begin to format our dataset to follow the model's expected input."
        },
        {
            "cell_type": "markdown",
            "metadata": {},
            "source": "<h3>Formatting the Data</h3>"
        },
        {
            "cell_type": "markdown",
            "metadata": {},
            "source": "First let's see how many movies we have and see if the movie ID's correspond with that value:"
        },
        {
            "cell_type": "code",
            "execution_count": 9,
            "metadata": {},
            "outputs": [
                {
                    "data": {
                        "text/plain": "3883"
                    },
                    "execution_count": 9,
                    "metadata": {},
                    "output_type": "execute_result"
                }
            ],
            "source": "len(movies_df)"
        },
        {
            "cell_type": "markdown",
            "metadata": {},
            "source": "Now, we can start formatting the data into input for the RBM. We're going to store the normalized users ratings into as a matrix of user-rating called trX, and normalize the values."
        },
        {
            "cell_type": "code",
            "execution_count": 10,
            "metadata": {},
            "outputs": [
                {
                    "data": {
                        "text/html": "<div>\n<style scoped>\n    .dataframe tbody tr th:only-of-type {\n        vertical-align: middle;\n    }\n\n    .dataframe tbody tr th {\n        vertical-align: top;\n    }\n\n    .dataframe thead th {\n        text-align: right;\n    }\n</style>\n<table border=\"1\" class=\"dataframe\">\n  <thead>\n    <tr style=\"text-align: right;\">\n      <th>MovieID</th>\n      <th>1</th>\n      <th>2</th>\n      <th>3</th>\n      <th>4</th>\n      <th>5</th>\n      <th>6</th>\n      <th>7</th>\n      <th>8</th>\n      <th>9</th>\n      <th>10</th>\n      <th>...</th>\n      <th>3943</th>\n      <th>3944</th>\n      <th>3945</th>\n      <th>3946</th>\n      <th>3947</th>\n      <th>3948</th>\n      <th>3949</th>\n      <th>3950</th>\n      <th>3951</th>\n      <th>3952</th>\n    </tr>\n    <tr>\n      <th>UserID</th>\n      <th></th>\n      <th></th>\n      <th></th>\n      <th></th>\n      <th></th>\n      <th></th>\n      <th></th>\n      <th></th>\n      <th></th>\n      <th></th>\n      <th></th>\n      <th></th>\n      <th></th>\n      <th></th>\n      <th></th>\n      <th></th>\n      <th></th>\n      <th></th>\n      <th></th>\n      <th></th>\n      <th></th>\n    </tr>\n  </thead>\n  <tbody>\n    <tr>\n      <th>1</th>\n      <td>5.0</td>\n      <td>NaN</td>\n      <td>NaN</td>\n      <td>NaN</td>\n      <td>NaN</td>\n      <td>NaN</td>\n      <td>NaN</td>\n      <td>NaN</td>\n      <td>NaN</td>\n      <td>NaN</td>\n      <td>...</td>\n      <td>NaN</td>\n      <td>NaN</td>\n      <td>NaN</td>\n      <td>NaN</td>\n      <td>NaN</td>\n      <td>NaN</td>\n      <td>NaN</td>\n      <td>NaN</td>\n      <td>NaN</td>\n      <td>NaN</td>\n    </tr>\n    <tr>\n      <th>2</th>\n      <td>NaN</td>\n      <td>NaN</td>\n      <td>NaN</td>\n      <td>NaN</td>\n      <td>NaN</td>\n      <td>NaN</td>\n      <td>NaN</td>\n      <td>NaN</td>\n      <td>NaN</td>\n      <td>NaN</td>\n      <td>...</td>\n      <td>NaN</td>\n      <td>NaN</td>\n      <td>NaN</td>\n      <td>NaN</td>\n      <td>NaN</td>\n      <td>NaN</td>\n      <td>NaN</td>\n      <td>NaN</td>\n      <td>NaN</td>\n      <td>NaN</td>\n    </tr>\n    <tr>\n      <th>3</th>\n      <td>NaN</td>\n      <td>NaN</td>\n      <td>NaN</td>\n      <td>NaN</td>\n      <td>NaN</td>\n      <td>NaN</td>\n      <td>NaN</td>\n      <td>NaN</td>\n      <td>NaN</td>\n      <td>NaN</td>\n      <td>...</td>\n      <td>NaN</td>\n      <td>NaN</td>\n      <td>NaN</td>\n      <td>NaN</td>\n      <td>NaN</td>\n      <td>NaN</td>\n      <td>NaN</td>\n      <td>NaN</td>\n      <td>NaN</td>\n      <td>NaN</td>\n    </tr>\n    <tr>\n      <th>4</th>\n      <td>NaN</td>\n      <td>NaN</td>\n      <td>NaN</td>\n      <td>NaN</td>\n      <td>NaN</td>\n      <td>NaN</td>\n      <td>NaN</td>\n      <td>NaN</td>\n      <td>NaN</td>\n      <td>NaN</td>\n      <td>...</td>\n      <td>NaN</td>\n      <td>NaN</td>\n      <td>NaN</td>\n      <td>NaN</td>\n      <td>NaN</td>\n      <td>NaN</td>\n      <td>NaN</td>\n      <td>NaN</td>\n      <td>NaN</td>\n      <td>NaN</td>\n    </tr>\n    <tr>\n      <th>5</th>\n      <td>NaN</td>\n      <td>NaN</td>\n      <td>NaN</td>\n      <td>NaN</td>\n      <td>NaN</td>\n      <td>2.0</td>\n      <td>NaN</td>\n      <td>NaN</td>\n      <td>NaN</td>\n      <td>NaN</td>\n      <td>...</td>\n      <td>NaN</td>\n      <td>NaN</td>\n      <td>NaN</td>\n      <td>NaN</td>\n      <td>NaN</td>\n      <td>NaN</td>\n      <td>NaN</td>\n      <td>NaN</td>\n      <td>NaN</td>\n      <td>NaN</td>\n    </tr>\n  </tbody>\n</table>\n<p>5 rows \u00d7 3706 columns</p>\n</div>",
                        "text/plain": "MovieID  1     2     3     4     5     6     7     8     9     10    ...  \\\nUserID                                                               ...   \n1         5.0   NaN   NaN   NaN   NaN   NaN   NaN   NaN   NaN   NaN  ...   \n2         NaN   NaN   NaN   NaN   NaN   NaN   NaN   NaN   NaN   NaN  ...   \n3         NaN   NaN   NaN   NaN   NaN   NaN   NaN   NaN   NaN   NaN  ...   \n4         NaN   NaN   NaN   NaN   NaN   NaN   NaN   NaN   NaN   NaN  ...   \n5         NaN   NaN   NaN   NaN   NaN   2.0   NaN   NaN   NaN   NaN  ...   \n\nMovieID  3943  3944  3945  3946  3947  3948  3949  3950  3951  3952  \nUserID                                                               \n1         NaN   NaN   NaN   NaN   NaN   NaN   NaN   NaN   NaN   NaN  \n2         NaN   NaN   NaN   NaN   NaN   NaN   NaN   NaN   NaN   NaN  \n3         NaN   NaN   NaN   NaN   NaN   NaN   NaN   NaN   NaN   NaN  \n4         NaN   NaN   NaN   NaN   NaN   NaN   NaN   NaN   NaN   NaN  \n5         NaN   NaN   NaN   NaN   NaN   NaN   NaN   NaN   NaN   NaN  \n\n[5 rows x 3706 columns]"
                    },
                    "execution_count": 10,
                    "metadata": {},
                    "output_type": "execute_result"
                }
            ],
            "source": "user_rating_df = ratings_df.pivot(index='UserID', columns='MovieID', values='Rating')\nuser_rating_df.head()"
        },
        {
            "cell_type": "markdown",
            "metadata": {},
            "source": "Lets normalize it now:"
        },
        {
            "cell_type": "code",
            "execution_count": 11,
            "metadata": {},
            "outputs": [
                {
                    "data": {
                        "text/plain": "array([[1., 0., 0., ..., 0., 0., 0.],\n       [0., 0., 0., ..., 0., 0., 0.],\n       [0., 0., 0., ..., 0., 0., 0.],\n       [0., 0., 0., ..., 0., 0., 0.],\n       [0., 0., 0., ..., 0., 0., 0.]])"
                    },
                    "execution_count": 11,
                    "metadata": {},
                    "output_type": "execute_result"
                }
            ],
            "source": "norm_user_rating_df = user_rating_df.fillna(0) / 5.0\ntrX = norm_user_rating_df.values\ntrX[0:5]"
        },
        {
            "cell_type": "markdown",
            "metadata": {},
            "source": "<hr>"
        },
        {
            "cell_type": "markdown",
            "metadata": {},
            "source": "<a id=\"ref4\"></a>\n<h2>Setting the Model's Parameters</h2>"
        },
        {
            "cell_type": "markdown",
            "metadata": {},
            "source": "Next, let's start building our RBM with TensorFlow. We'll begin by first determining the number of neurons in the hidden layers and then creating placeholder variables for storing our visible layer biases, hidden layer biases and weights that connects the hidden layer with the visible layer. We will be arbitrarily setting the number of neurons in the hidden layers to 20. You can freely set this value to any number you want since each neuron in the hidden layer will end up learning a feature."
        },
        {
            "cell_type": "code",
            "execution_count": 12,
            "metadata": {},
            "outputs": [],
            "source": "hiddenUnits = 20\nvisibleUnits =  len(user_rating_df.columns)\nvb = tf.placeholder(\"float\", [visibleUnits]) #Number of unique movies\nhb = tf.placeholder(\"float\", [hiddenUnits]) #Number of features we're going to learn\nW = tf.placeholder(\"float\", [visibleUnits, hiddenUnits])"
        },
        {
            "cell_type": "markdown",
            "metadata": {},
            "source": "We then move on to creating the visible and hidden layer units and setting their activation functions. In this case, we will be using the <code>tf.sigmoid</code> and <code>tf.relu</code> functions as nonlinear activations since it is commonly used in RBM's."
        },
        {
            "cell_type": "code",
            "execution_count": 13,
            "metadata": {},
            "outputs": [],
            "source": "#Phase 1: Input Processing\nv0 = tf.placeholder(\"float\", [None, visibleUnits])\n_h0 = tf.nn.sigmoid(tf.matmul(v0, W) + hb)\nh0 = tf.nn.relu(tf.sign(_h0 - tf.random_uniform(tf.shape(_h0))))\n#Phase 2: Reconstruction\n_v1 = tf.nn.sigmoid(tf.matmul(h0, tf.transpose(W)) + vb) \nv1 = tf.nn.relu(tf.sign(_v1 - tf.random_uniform(tf.shape(_v1))))\nh1 = tf.nn.sigmoid(tf.matmul(v1, W) + hb)"
        },
        {
            "cell_type": "markdown",
            "metadata": {},
            "source": "Now we set the RBM training parameters and functions."
        },
        {
            "cell_type": "code",
            "execution_count": 14,
            "metadata": {},
            "outputs": [],
            "source": "#Learning rate\nalpha = 1.0\n#Create the gradients\nw_pos_grad = tf.matmul(tf.transpose(v0), h0)\nw_neg_grad = tf.matmul(tf.transpose(v1), h1)\n#Calculate the Contrastive Divergence to maximize\nCD = (w_pos_grad - w_neg_grad) / tf.to_float(tf.shape(v0)[0])\n#Create methods to update the weights and biases\nupdate_w = W + alpha * CD\nupdate_vb = vb + alpha * tf.reduce_mean(v0 - v1, 0)\nupdate_hb = hb + alpha * tf.reduce_mean(h0 - h1, 0)"
        },
        {
            "cell_type": "markdown",
            "metadata": {},
            "source": "And set the error function, which in this case will be the Mean Absolute Error Function."
        },
        {
            "cell_type": "code",
            "execution_count": 15,
            "metadata": {},
            "outputs": [],
            "source": "err = v0 - v1\nerr_sum = tf.reduce_mean(err * err)"
        },
        {
            "cell_type": "markdown",
            "metadata": {},
            "source": "We also have to initialize our variables. Thankfully, NumPy has a handy ,code>zeros</code> function for this. We use it like so:"
        },
        {
            "cell_type": "code",
            "execution_count": 16,
            "metadata": {},
            "outputs": [],
            "source": "#Current weight\ncur_w = np.zeros([visibleUnits, hiddenUnits], np.float32)\n#Current visible unit biases\ncur_vb = np.zeros([visibleUnits], np.float32)\n#Current hidden unit biases\ncur_hb = np.zeros([hiddenUnits], np.float32)\n#Previous weight\nprv_w = np.zeros([visibleUnits, hiddenUnits], np.float32)\n#Previous visible unit biases\nprv_vb = np.zeros([visibleUnits], np.float32)\n#Previous hidden unit biases\nprv_hb = np.zeros([hiddenUnits], np.float32)\nsess = tf.Session()\nsess.run(tf.global_variables_initializer())"
        },
        {
            "cell_type": "markdown",
            "metadata": {},
            "source": "Now we train the RBM with 15 epochs with each epoch using 10 batches with size 100. After training, we print out a graph with the error by epoch."
        },
        {
            "cell_type": "code",
            "execution_count": 17,
            "metadata": {},
            "outputs": [
                {
                    "name": "stdout",
                    "output_type": "stream",
                    "text": "0.059342287\n0.051140312\n0.048994794\n0.047265753\n0.046641894\n0.046168845\n0.045753717\n0.045432586\n0.04545854\n0.04539658\n0.045417875\n0.045106545\n0.0452157\n0.045211274\n0.04498724\n"
                },
                {
                    "data": {
                        "image/png": "[encoded data removed]",
                        "text/plain": "<Figure size 432x288 with 1 Axes>"
                    },
                    "metadata": {
                        "needs_background": "light"
                    },
                    "output_type": "display_data"
                }
            ],
            "source": "epochs = 15\nbatchsize = 100\nerrors = []\nfor i in range(epochs):\n    for start, end in zip( range(0, len(trX), batchsize), range(batchsize, len(trX), batchsize)):\n        batch = trX[start:end]\n        cur_w = sess.run(update_w, feed_dict={v0: batch, W: prv_w, vb: prv_vb, hb: prv_hb})\n        cur_vb = sess.run(update_vb, feed_dict={v0: batch, W: prv_w, vb: prv_vb, hb: prv_hb})\n        cur_nb = sess.run(update_hb, feed_dict={v0: batch, W: prv_w, vb: prv_vb, hb: prv_hb})\n        prv_w = cur_w\n        prv_vb = cur_vb\n        prv_hb = cur_hb\n    errors.append(sess.run(err_sum, feed_dict={v0: trX, W: cur_w, vb: cur_vb, hb: cur_hb}))\n    print (errors[-1])\nplt.plot(errors)\nplt.ylabel('Error')\nplt.xlabel('Epoch')\nplt.show()"
        },
        {
            "cell_type": "markdown",
            "metadata": {},
            "source": "<hr>"
        },
        {
            "cell_type": "markdown",
            "metadata": {},
            "source": "<a id=\"ref5\"></a>\n<h2>Recommendation</h2>"
        },
        {
            "cell_type": "markdown",
            "metadata": {},
            "source": "We can now predict movies that an arbitrarily selected user might like. This can be accomplished by feeding in the user's watched movie preferences into the RBM and then reconstructing the input. The values that the RBM gives us will attempt to estimate the user's preferences for movies that he hasn't watched based on the preferences of the users that the RBM was trained on."
        },
        {
            "cell_type": "markdown",
            "metadata": {},
            "source": "Lets first select a <b>User ID</b> of our mock user:"
        },
        {
            "cell_type": "code",
            "execution_count": 18,
            "metadata": {},
            "outputs": [],
            "source": "mock_user_id = 215"
        },
        {
            "cell_type": "code",
            "execution_count": 19,
            "metadata": {},
            "outputs": [
                {
                    "data": {
                        "text/plain": "array([[0.8, 0. , 0. , ..., 0. , 0. , 0. ]])"
                    },
                    "execution_count": 19,
                    "metadata": {},
                    "output_type": "execute_result"
                }
            ],
            "source": "#Selecting the input user\ninputUser = trX[mock_user_id-1].reshape(1, -1)\ninputUser[0:5]"
        },
        {
            "cell_type": "code",
            "execution_count": 20,
            "metadata": {},
            "outputs": [
                {
                    "name": "stdout",
                    "output_type": "stream",
                    "text": "[[0.6703192  0.12930365 0.01738999 ... 0.00192123 0.000943   0.00454683]]\n"
                }
            ],
            "source": "#Feeding in the user and reconstructing the input\nhh0 = tf.nn.sigmoid(tf.matmul(v0, W) + hb)\nvv1 = tf.nn.sigmoid(tf.matmul(hh0, tf.transpose(W)) + vb)\nfeed = sess.run(hh0, feed_dict={ v0: inputUser, W: prv_w, hb: prv_hb})\nrec = sess.run(vv1, feed_dict={ hh0: feed, W: prv_w, vb: prv_vb})\nprint(rec)"
        },
        {
            "cell_type": "markdown",
            "metadata": {},
            "source": "We can then list the 20 most recommended movies for our mock user by sorting it by their scores given by our model."
        },
        {
            "cell_type": "code",
            "execution_count": 21,
            "metadata": {},
            "outputs": [
                {
                    "data": {
                        "text/html": "<div>\n<style scoped>\n    .dataframe tbody tr th:only-of-type {\n        vertical-align: middle;\n    }\n\n    .dataframe tbody tr th {\n        vertical-align: top;\n    }\n\n    .dataframe thead th {\n        text-align: right;\n    }\n</style>\n<table border=\"1\" class=\"dataframe\">\n  <thead>\n    <tr style=\"text-align: right;\">\n      <th></th>\n      <th>MovieID</th>\n      <th>Title</th>\n      <th>Genres</th>\n      <th>RecommendationScore</th>\n    </tr>\n  </thead>\n  <tbody>\n    <tr>\n      <th>2502</th>\n      <td>2571</td>\n      <td>Matrix, The (1999)</td>\n      <td>Action|Sci-Fi|Thriller</td>\n      <td>0.916668</td>\n    </tr>\n    <tr>\n      <th>257</th>\n      <td>260</td>\n      <td>Star Wars: Episode IV - A New Hope (1977)</td>\n      <td>Action|Adventure|Fantasy|Sci-Fi</td>\n      <td>0.871676</td>\n    </tr>\n    <tr>\n      <th>585</th>\n      <td>589</td>\n      <td>Terminator 2: Judgment Day (1991)</td>\n      <td>Action|Sci-Fi|Thriller</td>\n      <td>0.810233</td>\n    </tr>\n    <tr>\n      <th>476</th>\n      <td>480</td>\n      <td>Jurassic Park (1993)</td>\n      <td>Action|Adventure|Sci-Fi</td>\n      <td>0.805361</td>\n    </tr>\n    <tr>\n      <th>2559</th>\n      <td>2628</td>\n      <td>Star Wars: Episode I - The Phantom Menace (1999)</td>\n      <td>Action|Adventure|Fantasy|Sci-Fi</td>\n      <td>0.794607</td>\n    </tr>\n    <tr>\n      <th>1539</th>\n      <td>1580</td>\n      <td>Men in Black (1997)</td>\n      <td>Action|Adventure|Comedy|Sci-Fi</td>\n      <td>0.791934</td>\n    </tr>\n    <tr>\n      <th>1192</th>\n      <td>1210</td>\n      <td>Star Wars: Episode VI - Return of the Jedi (1983)</td>\n      <td>Action|Adventure|Romance|Sci-Fi|War</td>\n      <td>0.789963</td>\n    </tr>\n    <tr>\n      <th>2693</th>\n      <td>2762</td>\n      <td>Sixth Sense, The (1999)</td>\n      <td>Thriller</td>\n      <td>0.774634</td>\n    </tr>\n    <tr>\n      <th>1178</th>\n      <td>1196</td>\n      <td>Star Wars: Episode V - The Empire Strikes Back...</td>\n      <td>Action|Adventure|Drama|Sci-Fi|War</td>\n      <td>0.749414</td>\n    </tr>\n    <tr>\n      <th>0</th>\n      <td>1</td>\n      <td>Toy Story (1995)</td>\n      <td>Animation|Children's|Comedy</td>\n      <td>0.670319</td>\n    </tr>\n    <tr>\n      <th>1250</th>\n      <td>1270</td>\n      <td>Back to the Future (1985)</td>\n      <td>Comedy|Sci-Fi</td>\n      <td>0.668903</td>\n    </tr>\n    <tr>\n      <th>1081</th>\n      <td>1097</td>\n      <td>E.T. the Extra-Terrestrial (1982)</td>\n      <td>Children's|Drama|Fantasy|Sci-Fi</td>\n      <td>0.617131</td>\n    </tr>\n    <tr>\n      <th>1491</th>\n      <td>1527</td>\n      <td>Fifth Element, The (1997)</td>\n      <td>Action|Sci-Fi</td>\n      <td>0.600772</td>\n    </tr>\n    <tr>\n      <th>770</th>\n      <td>780</td>\n      <td>Independence Day (ID4) (1996)</td>\n      <td>Action|Sci-Fi|War</td>\n      <td>0.577626</td>\n    </tr>\n    <tr>\n      <th>3045</th>\n      <td>3114</td>\n      <td>Toy Story 2 (1999)</td>\n      <td>Animation|Children's|Comedy</td>\n      <td>0.577574</td>\n    </tr>\n    <tr>\n      <th>453</th>\n      <td>457</td>\n      <td>Fugitive, The (1993)</td>\n      <td>Action|Thriller</td>\n      <td>0.577470</td>\n    </tr>\n    <tr>\n      <th>589</th>\n      <td>593</td>\n      <td>Silence of the Lambs, The (1991)</td>\n      <td>Drama|Thriller</td>\n      <td>0.564451</td>\n    </tr>\n    <tr>\n      <th>1335</th>\n      <td>1356</td>\n      <td>Star Trek: First Contact (1996)</td>\n      <td>Action|Adventure|Sci-Fi</td>\n      <td>0.562907</td>\n    </tr>\n    <tr>\n      <th>2327</th>\n      <td>2396</td>\n      <td>Shakespeare in Love (1998)</td>\n      <td>Comedy|Romance</td>\n      <td>0.562494</td>\n    </tr>\n    <tr>\n      <th>352</th>\n      <td>356</td>\n      <td>Forrest Gump (1994)</td>\n      <td>Comedy|Romance|War</td>\n      <td>0.554194</td>\n    </tr>\n  </tbody>\n</table>\n</div>",
                        "text/plain": "      MovieID                                              Title  \\\n2502     2571                                 Matrix, The (1999)   \n257       260          Star Wars: Episode IV - A New Hope (1977)   \n585       589                  Terminator 2: Judgment Day (1991)   \n476       480                               Jurassic Park (1993)   \n2559     2628   Star Wars: Episode I - The Phantom Menace (1999)   \n1539     1580                                Men in Black (1997)   \n1192     1210  Star Wars: Episode VI - Return of the Jedi (1983)   \n2693     2762                            Sixth Sense, The (1999)   \n1178     1196  Star Wars: Episode V - The Empire Strikes Back...   \n0           1                                   Toy Story (1995)   \n1250     1270                          Back to the Future (1985)   \n1081     1097                  E.T. the Extra-Terrestrial (1982)   \n1491     1527                          Fifth Element, The (1997)   \n770       780                      Independence Day (ID4) (1996)   \n3045     3114                                 Toy Story 2 (1999)   \n453       457                               Fugitive, The (1993)   \n589       593                   Silence of the Lambs, The (1991)   \n1335     1356                    Star Trek: First Contact (1996)   \n2327     2396                         Shakespeare in Love (1998)   \n352       356                                Forrest Gump (1994)   \n\n                                   Genres  RecommendationScore  \n2502               Action|Sci-Fi|Thriller             0.916668  \n257       Action|Adventure|Fantasy|Sci-Fi             0.871676  \n585                Action|Sci-Fi|Thriller             0.810233  \n476               Action|Adventure|Sci-Fi             0.805361  \n2559      Action|Adventure|Fantasy|Sci-Fi             0.794607  \n1539       Action|Adventure|Comedy|Sci-Fi             0.791934  \n1192  Action|Adventure|Romance|Sci-Fi|War             0.789963  \n2693                             Thriller             0.774634  \n1178    Action|Adventure|Drama|Sci-Fi|War             0.749414  \n0             Animation|Children's|Comedy             0.670319  \n1250                        Comedy|Sci-Fi             0.668903  \n1081      Children's|Drama|Fantasy|Sci-Fi             0.617131  \n1491                        Action|Sci-Fi             0.600772  \n770                     Action|Sci-Fi|War             0.577626  \n3045          Animation|Children's|Comedy             0.577574  \n453                       Action|Thriller             0.577470  \n589                        Drama|Thriller             0.564451  \n1335              Action|Adventure|Sci-Fi             0.562907  \n2327                       Comedy|Romance             0.562494  \n352                    Comedy|Romance|War             0.554194  "
                    },
                    "execution_count": 21,
                    "metadata": {},
                    "output_type": "execute_result"
                }
            ],
            "source": "scored_movies_df_mock = movies_df[movies_df['MovieID'].isin(user_rating_df.columns)]\nscored_movies_df_mock = scored_movies_df_mock.assign(RecommendationScore = rec[0])\nscored_movies_df_mock.sort_values([\"RecommendationScore\"], ascending=False).head(20)"
        },
        {
            "cell_type": "markdown",
            "metadata": {},
            "source": "So, how to recommend the movies that the user has not watched yet? "
        },
        {
            "cell_type": "markdown",
            "metadata": {},
            "source": "Now, we can find all the movies that our mock user has watched before:"
        },
        {
            "cell_type": "code",
            "execution_count": 22,
            "metadata": {},
            "outputs": [
                {
                    "data": {
                        "text/html": "<div>\n<style scoped>\n    .dataframe tbody tr th:only-of-type {\n        vertical-align: middle;\n    }\n\n    .dataframe tbody tr th {\n        vertical-align: top;\n    }\n\n    .dataframe thead th {\n        text-align: right;\n    }\n</style>\n<table border=\"1\" class=\"dataframe\">\n  <thead>\n    <tr style=\"text-align: right;\">\n      <th></th>\n      <th>UserID</th>\n      <th>MovieID</th>\n      <th>Rating</th>\n      <th>Timestamp</th>\n    </tr>\n  </thead>\n  <tbody>\n    <tr>\n      <th>31603</th>\n      <td>215</td>\n      <td>3793</td>\n      <td>5</td>\n      <td>977099259</td>\n    </tr>\n    <tr>\n      <th>31604</th>\n      <td>215</td>\n      <td>1</td>\n      <td>4</td>\n      <td>979174987</td>\n    </tr>\n    <tr>\n      <th>31605</th>\n      <td>215</td>\n      <td>1197</td>\n      <td>5</td>\n      <td>976899663</td>\n    </tr>\n    <tr>\n      <th>31606</th>\n      <td>215</td>\n      <td>2302</td>\n      <td>5</td>\n      <td>976899718</td>\n    </tr>\n    <tr>\n      <th>31607</th>\n      <td>215</td>\n      <td>2167</td>\n      <td>5</td>\n      <td>976899770</td>\n    </tr>\n  </tbody>\n</table>\n</div>",
                        "text/plain": "       UserID  MovieID  Rating  Timestamp\n31603     215     3793       5  977099259\n31604     215        1       4  979174987\n31605     215     1197       5  976899663\n31606     215     2302       5  976899718\n31607     215     2167       5  976899770"
                    },
                    "execution_count": 22,
                    "metadata": {},
                    "output_type": "execute_result"
                }
            ],
            "source": "movies_df_mock = ratings_df[ratings_df['UserID'] == mock_user_id]\nmovies_df_mock.head()"
        },
        {
            "cell_type": "markdown",
            "metadata": {},
            "source": "In the next cell, we merge all the movies that our mock users has watched with the predicted scores based on his historical data:"
        },
        {
            "cell_type": "code",
            "execution_count": 23,
            "metadata": {},
            "outputs": [],
            "source": "#Merging movies_df with ratings_df by MovieID\nmerged_df_mock = scored_movies_df_mock.merge(movies_df_mock, on='MovieID', how='outer')"
        },
        {
            "cell_type": "markdown",
            "metadata": {},
            "source": "lets sort it and take a look at the first 20 rows:"
        },
        {
            "cell_type": "code",
            "execution_count": 24,
            "metadata": {},
            "outputs": [
                {
                    "data": {
                        "text/html": "<div>\n<style scoped>\n    .dataframe tbody tr th:only-of-type {\n        vertical-align: middle;\n    }\n\n    .dataframe tbody tr th {\n        vertical-align: top;\n    }\n\n    .dataframe thead th {\n        text-align: right;\n    }\n</style>\n<table border=\"1\" class=\"dataframe\">\n  <thead>\n    <tr style=\"text-align: right;\">\n      <th></th>\n      <th>MovieID</th>\n      <th>Title</th>\n      <th>Genres</th>\n      <th>RecommendationScore</th>\n      <th>UserID</th>\n      <th>Rating</th>\n      <th>Timestamp</th>\n    </tr>\n  </thead>\n  <tbody>\n    <tr>\n      <th>2374</th>\n      <td>2571</td>\n      <td>Matrix, The (1999)</td>\n      <td>Action|Sci-Fi|Thriller</td>\n      <td>0.916668</td>\n      <td>NaN</td>\n      <td>NaN</td>\n      <td>NaN</td>\n    </tr>\n    <tr>\n      <th>253</th>\n      <td>260</td>\n      <td>Star Wars: Episode IV - A New Hope (1977)</td>\n      <td>Action|Adventure|Fantasy|Sci-Fi</td>\n      <td>0.871676</td>\n      <td>215.0</td>\n      <td>5.0</td>\n      <td>976899190.0</td>\n    </tr>\n    <tr>\n      <th>575</th>\n      <td>589</td>\n      <td>Terminator 2: Judgment Day (1991)</td>\n      <td>Action|Sci-Fi|Thriller</td>\n      <td>0.810233</td>\n      <td>NaN</td>\n      <td>NaN</td>\n      <td>NaN</td>\n    </tr>\n    <tr>\n      <th>466</th>\n      <td>480</td>\n      <td>Jurassic Park (1993)</td>\n      <td>Action|Adventure|Sci-Fi</td>\n      <td>0.805361</td>\n      <td>215.0</td>\n      <td>5.0</td>\n      <td>976899784.0</td>\n    </tr>\n    <tr>\n      <th>2426</th>\n      <td>2628</td>\n      <td>Star Wars: Episode I - The Phantom Menace (1999)</td>\n      <td>Action|Adventure|Fantasy|Sci-Fi</td>\n      <td>0.794607</td>\n      <td>215.0</td>\n      <td>5.0</td>\n      <td>976908635.0</td>\n    </tr>\n    <tr>\n      <th>1449</th>\n      <td>1580</td>\n      <td>Men in Black (1997)</td>\n      <td>Action|Adventure|Comedy|Sci-Fi</td>\n      <td>0.791934</td>\n      <td>NaN</td>\n      <td>NaN</td>\n      <td>NaN</td>\n    </tr>\n    <tr>\n      <th>1120</th>\n      <td>1210</td>\n      <td>Star Wars: Episode VI - Return of the Jedi (1983)</td>\n      <td>Action|Adventure|Romance|Sci-Fi|War</td>\n      <td>0.789963</td>\n      <td>215.0</td>\n      <td>5.0</td>\n      <td>976899689.0</td>\n    </tr>\n    <tr>\n      <th>2557</th>\n      <td>2762</td>\n      <td>Sixth Sense, The (1999)</td>\n      <td>Thriller</td>\n      <td>0.774634</td>\n      <td>NaN</td>\n      <td>NaN</td>\n      <td>NaN</td>\n    </tr>\n    <tr>\n      <th>1106</th>\n      <td>1196</td>\n      <td>Star Wars: Episode V - The Empire Strikes Back...</td>\n      <td>Action|Adventure|Drama|Sci-Fi|War</td>\n      <td>0.749414</td>\n      <td>NaN</td>\n      <td>NaN</td>\n      <td>NaN</td>\n    </tr>\n    <tr>\n      <th>0</th>\n      <td>1</td>\n      <td>Toy Story (1995)</td>\n      <td>Animation|Children's|Comedy</td>\n      <td>0.670319</td>\n      <td>215.0</td>\n      <td>4.0</td>\n      <td>979174987.0</td>\n    </tr>\n    <tr>\n      <th>1178</th>\n      <td>1270</td>\n      <td>Back to the Future (1985)</td>\n      <td>Comedy|Sci-Fi</td>\n      <td>0.668903</td>\n      <td>NaN</td>\n      <td>NaN</td>\n      <td>NaN</td>\n    </tr>\n    <tr>\n      <th>1025</th>\n      <td>1097</td>\n      <td>E.T. the Extra-Terrestrial (1982)</td>\n      <td>Children's|Drama|Fantasy|Sci-Fi</td>\n      <td>0.617131</td>\n      <td>215.0</td>\n      <td>5.0</td>\n      <td>976908468.0</td>\n    </tr>\n    <tr>\n      <th>1406</th>\n      <td>1527</td>\n      <td>Fifth Element, The (1997)</td>\n      <td>Action|Sci-Fi</td>\n      <td>0.600772</td>\n      <td>215.0</td>\n      <td>2.0</td>\n      <td>976908595.0</td>\n    </tr>\n    <tr>\n      <th>737</th>\n      <td>780</td>\n      <td>Independence Day (ID4) (1996)</td>\n      <td>Action|Sci-Fi|War</td>\n      <td>0.577626</td>\n      <td>NaN</td>\n      <td>NaN</td>\n      <td>NaN</td>\n    </tr>\n    <tr>\n      <th>2898</th>\n      <td>3114</td>\n      <td>Toy Story 2 (1999)</td>\n      <td>Animation|Children's|Comedy</td>\n      <td>0.577574</td>\n      <td>NaN</td>\n      <td>NaN</td>\n      <td>NaN</td>\n    </tr>\n    <tr>\n      <th>443</th>\n      <td>457</td>\n      <td>Fugitive, The (1993)</td>\n      <td>Action|Thriller</td>\n      <td>0.577470</td>\n      <td>NaN</td>\n      <td>NaN</td>\n      <td>NaN</td>\n    </tr>\n    <tr>\n      <th>579</th>\n      <td>593</td>\n      <td>Silence of the Lambs, The (1991)</td>\n      <td>Drama|Thriller</td>\n      <td>0.564451</td>\n      <td>NaN</td>\n      <td>NaN</td>\n      <td>NaN</td>\n    </tr>\n    <tr>\n      <th>1258</th>\n      <td>1356</td>\n      <td>Star Trek: First Contact (1996)</td>\n      <td>Action|Adventure|Sci-Fi</td>\n      <td>0.562907</td>\n      <td>NaN</td>\n      <td>NaN</td>\n      <td>NaN</td>\n    </tr>\n    <tr>\n      <th>2203</th>\n      <td>2396</td>\n      <td>Shakespeare in Love (1998)</td>\n      <td>Comedy|Romance</td>\n      <td>0.562494</td>\n      <td>NaN</td>\n      <td>NaN</td>\n      <td>NaN</td>\n    </tr>\n    <tr>\n      <th>346</th>\n      <td>356</td>\n      <td>Forrest Gump (1994)</td>\n      <td>Comedy|Romance|War</td>\n      <td>0.554194</td>\n      <td>215.0</td>\n      <td>5.0</td>\n      <td>979174998.0</td>\n    </tr>\n  </tbody>\n</table>\n</div>",
                        "text/plain": "      MovieID                                              Title  \\\n2374     2571                                 Matrix, The (1999)   \n253       260          Star Wars: Episode IV - A New Hope (1977)   \n575       589                  Terminator 2: Judgment Day (1991)   \n466       480                               Jurassic Park (1993)   \n2426     2628   Star Wars: Episode I - The Phantom Menace (1999)   \n1449     1580                                Men in Black (1997)   \n1120     1210  Star Wars: Episode VI - Return of the Jedi (1983)   \n2557     2762                            Sixth Sense, The (1999)   \n1106     1196  Star Wars: Episode V - The Empire Strikes Back...   \n0           1                                   Toy Story (1995)   \n1178     1270                          Back to the Future (1985)   \n1025     1097                  E.T. the Extra-Terrestrial (1982)   \n1406     1527                          Fifth Element, The (1997)   \n737       780                      Independence Day (ID4) (1996)   \n2898     3114                                 Toy Story 2 (1999)   \n443       457                               Fugitive, The (1993)   \n579       593                   Silence of the Lambs, The (1991)   \n1258     1356                    Star Trek: First Contact (1996)   \n2203     2396                         Shakespeare in Love (1998)   \n346       356                                Forrest Gump (1994)   \n\n                                   Genres  RecommendationScore  UserID  \\\n2374               Action|Sci-Fi|Thriller             0.916668     NaN   \n253       Action|Adventure|Fantasy|Sci-Fi             0.871676   215.0   \n575                Action|Sci-Fi|Thriller             0.810233     NaN   \n466               Action|Adventure|Sci-Fi             0.805361   215.0   \n2426      Action|Adventure|Fantasy|Sci-Fi             0.794607   215.0   \n1449       Action|Adventure|Comedy|Sci-Fi             0.791934     NaN   \n1120  Action|Adventure|Romance|Sci-Fi|War             0.789963   215.0   \n2557                             Thriller             0.774634     NaN   \n1106    Action|Adventure|Drama|Sci-Fi|War             0.749414     NaN   \n0             Animation|Children's|Comedy             0.670319   215.0   \n1178                        Comedy|Sci-Fi             0.668903     NaN   \n1025      Children's|Drama|Fantasy|Sci-Fi             0.617131   215.0   \n1406                        Action|Sci-Fi             0.600772   215.0   \n737                     Action|Sci-Fi|War             0.577626     NaN   \n2898          Animation|Children's|Comedy             0.577574     NaN   \n443                       Action|Thriller             0.577470     NaN   \n579                        Drama|Thriller             0.564451     NaN   \n1258              Action|Adventure|Sci-Fi             0.562907     NaN   \n2203                       Comedy|Romance             0.562494     NaN   \n346                    Comedy|Romance|War             0.554194   215.0   \n\n      Rating    Timestamp  \n2374     NaN          NaN  \n253      5.0  976899190.0  \n575      NaN          NaN  \n466      5.0  976899784.0  \n2426     5.0  976908635.0  \n1449     NaN          NaN  \n1120     5.0  976899689.0  \n2557     NaN          NaN  \n1106     NaN          NaN  \n0        4.0  979174987.0  \n1178     NaN          NaN  \n1025     5.0  976908468.0  \n1406     2.0  976908595.0  \n737      NaN          NaN  \n2898     NaN          NaN  \n443      NaN          NaN  \n579      NaN          NaN  \n1258     NaN          NaN  \n2203     NaN          NaN  \n346      5.0  979174998.0  "
                    },
                    "execution_count": 24,
                    "metadata": {},
                    "output_type": "execute_result"
                }
            ],
            "source": "merged_df_mock.sort_values([\"RecommendationScore\"], ascending=False).head(20)"
        },
        {
            "cell_type": "markdown",
            "metadata": {},
            "source": "As you can see, there are some movies that user has not watched yet and has high score based on our model. So, we can recommend them to the user."
        },
        {
            "cell_type": "markdown",
            "metadata": {},
            "source": "This is the end of the module. If you want, you can try to change the parameters in the code -- adding more units to the hidden layer, changing the loss functions or maybe something else to see if it changes anything. Does the model perform better? Does it take longer to compute?\n\nThank you for reading this notebook. Hopefully, you now have a little more understanding of the RBM model, its applications and how it works with TensorFlow."
        },
        {
            "cell_type": "markdown",
            "metadata": {},
            "source": "<hr>"
        },
        {
            "cell_type": "markdown",
            "metadata": {},
            "source": "## Want to learn more?\n\nRunning deep learning programs usually needs a high performance platform. __PowerAI__ speeds up deep learning and AI. Built on IBM\u2019s Power Systems, __PowerAI__ is a scalable software platform that accelerates deep learning and AI with blazing performance for individual users or enterprises. The __PowerAI__ platform supports popular machine learning libraries and dependencies including TensorFlow, Caffe, Torch, and Theano. You can use [PowerAI on IMB Cloud](https://cocl.us/ML0120EN_PAI).\n\nAlso, you can use __Watson Studio__ to run these notebooks faster with bigger datasets.__Watson Studio__ is IBM\u2019s leading cloud solution for data scientists, built by data scientists. With Jupyter notebooks, RStudio, Apache Spark and popular libraries pre-packaged in the cloud, __Watson Studio__ enables data scientists to collaborate on their projects without having to install anything. Join the fast-growing community of __Watson Studio__ users today with a free account at [Watson Studio](https://cocl.us/ML0120EN_DSX).This is the end of this lesson. Thank you for reading this notebook, and good luck on your studies."
        },
        {
            "cell_type": "markdown",
            "metadata": {},
            "source": "### Thank you for completing this exercise!\n\nNotebook created by: <a href = \"https://ca.linkedin.com/in/saeedaghabozorgi\">Saeed Aghabozorgi</a>, Gabriel Garcez Barros Sousa"
        },
        {
            "cell_type": "markdown",
            "metadata": {},
            "source": "<hr>\n\nCopyright &copy; 2018 [Cognitive Class](https://cocl.us/DX0108EN_CC). This notebook and its source code are released under the terms of the [MIT License](https://bigdatauniversity.com/mit-license/)."
        }
    ],
    "metadata": {
        "kernelspec": {
            "display_name": "Python",
            "language": "python",
            "name": "conda-env-python-py"
        },
        "language_info": {
            "codemirror_mode": {
                "name": "ipython",
                "version": 3
            },
            "file_extension": ".py",
            "mimetype": "text/x-python",
            "name": "python",
            "nbconvert_exporter": "python",
            "pygments_lexer": "ipython3",
            "version": "3.6.7"
        },
        "widgets": {
            "state": {},
            "version": "1.1.2"
        }
    },
    "nbformat": 4,
    "nbformat_minor": 4
}