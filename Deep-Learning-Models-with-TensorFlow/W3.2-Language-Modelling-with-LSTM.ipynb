{
    "cells": [
        {
            "cell_type": "markdown",
            "metadata": {},
            "source": "<a href=\"https://www.bigdatauniversity.com\"><img src=\"https://ibm.box.com/shared/static/qo20b88v1hbjztubt06609ovs85q8fau.png\" width=\"400px\" align=\"center\"></a>\n\n<h1 align=\"center\"><font size=\"5\">RECURRENT NETWORKS and LSTM IN DEEP LEARNING</font></h1>"
        },
        {
            "cell_type": "markdown",
            "metadata": {},
            "source": "<h2>Applying Recurrent Neural Networks/LSTM for Language Modeling</h2>\nHello and welcome to this part. In this notebook, we will go over the topic of Language Modelling, and create a Recurrent Neural Network model based on the Long Short-Term Memory unit to train and benchmark on the Penn Treebank dataset. By the end of this notebook, you should be able to understand how TensorFlow builds and executes a RNN model for Language Modelling."
        },
        {
            "cell_type": "markdown",
            "metadata": {},
            "source": "<h2>The Objective</h2>\nBy now, you should have an understanding of how Recurrent Networks work -- a specialized model to process sequential data by keeping track of the \"state\" or context. In this notebook, we go over a TensorFlow code snippet for creating a model focused on <b>Language Modelling</b> -- a very relevant task that is the cornerstone of many different linguistic problems such as <b>Speech Recognition, Machine Translation and Image Captioning</b>. For this, we will be using the Penn Treebank dataset, which is an often-used dataset for benchmarking Language Modelling models."
        },
        {
            "cell_type": "markdown",
            "metadata": {},
            "source": "\n<h2>Table of Contents</h2>\n<ol>\n    <li><a href=\"#language_modelling\">What exactly is Language Modelling?</a></li>\n    <li><a href=\"#treebank_dataset\">The Penn Treebank dataset</a></li>\n    <li><a href=\"#word_embedding\">Work Embedding</a></li>\n    <li><a href=\"#building_lstm_model\">Building the LSTM model for Language Modeling</a></li>\n    <li><a href=\"#ltsm\">LTSM</a></li>\n</ol>\n<p></p>\n</div>\n<br>"
        },
        {
            "cell_type": "markdown",
            "metadata": {
                "button": false,
                "deletable": true,
                "new_sheet": false,
                "run_control": {
                    "read_only": false
                }
            },
            "source": "--------"
        },
        {
            "cell_type": "markdown",
            "metadata": {
                "button": false,
                "deletable": true,
                "new_sheet": false,
                "run_control": {
                    "read_only": false
                }
            },
            "source": "<a id=\"language_modelling\"></a>\n<h2>What exactly is Language Modelling?</h2>\nLanguage Modelling, to put it simply, <b>is the task of assigning probabilities to sequences of words</b>. This means that, given a context of one or a sequence of words in the language the model was trained on, the model should provide the next most probable words or sequence of words that follows from the given sequence of words the sentence. Language Modelling is one of the most important tasks in Natural Language Processing.\n\n<img src=\"https://ibm.box.com/shared/static/1d1i5gub6wljby2vani2vzxp0xsph702.png\" width=\"1080\">\n<center><i>Example of a sentence being predicted</i></center>\n<br><br>\nIn this example, one can see the predictions for the next word of a sentence, given the context \"This is an\". As you can see, this boils down to a sequential data analysis task -- you are given a word or a sequence of words (the input data), and, given the context (the state), you need to find out what is the next word (the prediction). This kind of analysis is very important for language-related tasks such as <b>Speech Recognition, Machine Translation, Image Captioning, Text Correction</b> and many other very relevant problems. \n\n<img src=\"https://ibm.box.com/shared/static/az39idf9ipfdpc5ugifpgxnydelhyf3i.png\" width=\"1080\">\n<center><i>The above example is a schema of an RNN in execution</i></center>\n<br><br>\nAs the above image shows, Recurrent Network models fit this problem like a glove. Alongside LSTM and its capacity to maintain the model's state for over one thousand time steps, we have all the tools we need to undertake this problem. The goal for this notebook is to create a model that can reach <b>low levels of perplexity</b> on our desired dataset.\n\nFor Language Modelling problems, <b>perplexity</b> is the way to gauge efficiency. Perplexity is simply a measure of how well a probabilistic model is able to predict its sample. A higher-level way to explain this would be saying that <b>low perplexity means a higher degree of trust in the predictions the model makes</b>. Therefore, the lower perplexity is, the better."
        },
        {
            "cell_type": "markdown",
            "metadata": {},
            "source": "<a id=\"treebank_dataset\"></a>\n<h2>The Penn Treebank dataset</h2>\nHistorically, datasets big enough for Natural Language Processing are hard to come by. This is in part due to the necessity of the sentences to be broken down and tagged with a certain degree of correctness -- or else the models trained on it won't be able to be correct at all. This means that we need a <b>large amount of data, annotated by or at least corrected by humans</b>. This is, of course, not an easy task at all.\n\nThe Penn Treebank, or PTB for short, is a dataset maintained by the University of Pennsylvania. It is <i>huge</i> -- there are over <b>four million and eight hundred thousand</b> annotated words in it, all corrected by humans. It is composed of many different sources, from abstracts of Department of Energy papers to texts from the Library of America. Since it is verifiably correct and of such a huge size, the Penn Treebank is commonly used as a benchmark dataset for Language Modelling.\n\nThe dataset is divided in different kinds of annotations, such as Piece-of-Speech, Syntactic and Semantic skeletons. For this example, we will simply use a sample of clean, non-annotated words (with the exception of one tag --<code>&lt;unk&gt;</code>\n, which is used for rare words such as uncommon proper nouns) for our model. This means that we just want to predict what the next words would be, not what they mean in context or their classes on a given sentence.\n\n<center>Example of text from the dataset we are going to use, <b>ptb.train</b></center>\n<br><br>\n\n<div class=\"alert alert-block alert-info\" style=\"margin-top: 20px\">\n    <center>the percentage of lung cancer deaths among the workers at the west <code>&lt;unk&gt;</code> mass. paper factory appears to be the highest for any asbestos workers studied in western industrialized countries he said \n the plant which is owned by <code>&lt;unk&gt;</code> & <code>&lt;unk&gt;</code> co. was under contract with <code>&lt;unk&gt;</code> to make the cigarette filters \n the finding probably will support those who argue that the U.S. should regulate the class of asbestos including <code>&lt;unk&gt;</code> more <code>&lt;unk&gt;</code> than the common kind of asbestos <code>&lt;unk&gt;</code> found in most schools and other buildings dr. <code>&lt;unk&gt;</code> said</center>\n</div>"
        },
        {
            "cell_type": "markdown",
            "metadata": {
                "button": false,
                "deletable": true,
                "new_sheet": false,
                "run_control": {
                    "read_only": false
                }
            },
            "source": "<a id=\"word_embedding\"></a>\n<h2>Word Embeddings</h2><br/>\n\nFor better processing, in this example, we will make use of <a href=\"https://www.tensorflow.org/tutorials/word2vec/\"><b>word embeddings</b></a>, which is <b>a way of representing sentence structures or words as n-dimensional vectors (where n is a reasonably high number, such as 200 or 500) of real numbers</b>. Basically, we will assign each word a randomly-initialized vector, and input those into the network to be processed. After a number of iterations, these vectors are expected to assume values that help the network to correctly predict what it needs to -- in our case, the probable next word in the sentence. This is shown to be a very effective task in Natural Language Processing, and is a commonplace practice.\n<br><br>\n<font size=\"4\"><strong>\n$$Vec(\"Example\") = [0.02, 0.00, 0.00, 0.92, 0.30, \\ldots]$$\n</strong></font>\n<br>\nWord Embedding tends to group up similarly used words <i>reasonably</i> close together in the vectorial space. For example, if we use T-SNE (a dimensional reduction visualization algorithm) to flatten the dimensions of our vectors into a 2-dimensional space and plot these words in a 2-dimensional space, we might see something like this:\n\n<img src=\"https://ibm.box.com/shared/static/bqhc5dg879gcoabzhxra1w8rkg3od1cu.png\" width=\"800\">\n<center><i>T-SNE Mockup with clusters marked for easier visualization</i></center>\n<br><br>\nAs you can see, words that are frequently used together, in place of each other, or in the same places as them tend to be grouped together -- being closer together the higher they are correlated. For example, \"None\" is pretty semantically close to \"Zero\", while a phrase that uses \"Italy\", you could probably also fit \"Germany\" in it, with little damage to the sentence structure. The vectorial \"closeness\" for similar words like this is a great indicator of a well-built model.\n\n<hr>\n "
        },
        {
            "cell_type": "markdown",
            "metadata": {
                "button": false,
                "deletable": true,
                "new_sheet": false,
                "run_control": {
                    "read_only": false
                }
            },
            "source": "We need to import the necessary modules for our code. We need <b><code>numpy</code></b> and <b><code>tensorflow</code></b>, obviously. Additionally, we can import directly the <b><code>tensorflow.models.rnn</code></b> model, which includes the function for building RNNs, and <b><code>tensorflow.models.rnn.ptb.reader</code></b> which is the helper module for getting the input data from the dataset we just downloaded.\n\nIf you want to learn more take a look at https://github.com/tensorflow/models/blob/master/tutorials/rnn/ptb/reader.py"
        },
        {
            "cell_type": "code",
            "execution_count": 1,
            "metadata": {
                "button": false,
                "deletable": true,
                "new_sheet": false,
                "run_control": {
                    "read_only": false
                }
            },
            "outputs": [],
            "source": "import time\nimport numpy as np\nimport tensorflow as tf"
        },
        {
            "cell_type": "code",
            "execution_count": 2,
            "metadata": {
                "button": false,
                "deletable": true,
                "new_sheet": false,
                "run_control": {
                    "read_only": false
                }
            },
            "outputs": [
                {
                    "name": "stdout",
                    "output_type": "stream",
                    "text": "Archive:  data/ptb.zip\n   creating: data/ptb/\n  inflating: data/ptb/reader.py      \n   creating: data/__MACOSX/\n   creating: data/__MACOSX/ptb/\n  inflating: data/__MACOSX/ptb/._reader.py  \n  inflating: data/__MACOSX/._ptb     \n"
                }
            ],
            "source": "!mkdir data\n!wget -q -O data/ptb.zip https://ibm.box.com/shared/static/z2yvmhbskc45xd2a9a4kkn6hg4g4kj5r.zip\n!unzip -o data/ptb.zip -d data\n!cp data/ptb/reader.py .\n\nimport reader"
        },
        {
            "cell_type": "markdown",
            "metadata": {
                "button": false,
                "deletable": true,
                "new_sheet": false,
                "run_control": {
                    "read_only": false
                }
            },
            "source": "<a id=\"building_lstm_model\"></a>\n<h2>Building the LSTM model for Language Modeling</h2>\nNow that we know exactly what we are doing, we can start building our model using TensorFlow. The very first thing we need to do is download and extract the <code>simple-examples</code> dataset, which can be done by executing the code cell below."
        },
        {
            "cell_type": "code",
            "execution_count": 3,
            "metadata": {
                "button": false,
                "deletable": true,
                "new_sheet": false,
                "run_control": {
                    "read_only": false
                }
            },
            "outputs": [
                {
                    "name": "stdout",
                    "output_type": "stream",
                    "text": "--2019-12-29 15:42:18--  http://www.fit.vutbr.cz/~imikolov/rnnlm/simple-examples.tgz\nResolving www.fit.vutbr.cz (www.fit.vutbr.cz)... 147.229.9.23, 2001:67c:1220:809::93e5:917\nConnecting to www.fit.vutbr.cz (www.fit.vutbr.cz)|147.229.9.23|:80... connected.\nHTTP request sent, awaiting response... 200 OK\nLength: 34869662 (33M) [application/x-gtar]\nSaving to: \u2018simple-examples.tgz\u2019\n\nsimple-examples.tgz 100%[===================>]  33.25M  4.11MB/s    in 9.3s    \n\n2019-12-29 15:42:28 (3.59 MB/s) - \u2018simple-examples.tgz\u2019 saved [34869662/34869662]\n\n"
                }
            ],
            "source": "!wget http://www.fit.vutbr.cz/~imikolov/rnnlm/simple-examples.tgz \n!tar xzf simple-examples.tgz -C data/"
        },
        {
            "cell_type": "markdown",
            "metadata": {
                "button": false,
                "deletable": true,
                "new_sheet": false,
                "run_control": {
                    "read_only": false
                }
            },
            "source": "Additionally, for the sake of making it easy to play around with the model's hyperparameters, we can declare them beforehand. Feel free to change these -- you will see a difference in performance each time you change those!  \n"
        },
        {
            "cell_type": "code",
            "execution_count": 4,
            "metadata": {
                "button": false,
                "deletable": true,
                "new_sheet": false,
                "run_control": {
                    "read_only": false
                }
            },
            "outputs": [],
            "source": "#Initial weight scale\ninit_scale = 0.1\n#Initial learning rate\nlearning_rate = 1.0\n#Maximum permissible norm for the gradient (For gradient clipping -- another measure against Exploding Gradients)\nmax_grad_norm = 5\n#The number of layers in our model\nnum_layers = 2\n#The total number of recurrence steps, also known as the number of layers when our RNN is \"unfolded\"\nnum_steps = 20\n#The number of processing units (neurons) in the hidden layers\nhidden_size_l1 = 256\nhidden_size_l2 = 128\n#The maximum number of epochs trained with the initial learning rate\nmax_epoch_decay_lr = 4\n#The total number of epochs in training\nmax_epoch = 15\n#The probability for keeping data in the Dropout Layer (This is an optimization, but is outside our scope for this notebook!)\n#At 1, we ignore the Dropout Layer wrapping.\nkeep_prob = 1\n#The decay for the learning rate\ndecay = 0.5\n#The size for each batch of data\nbatch_size = 60\n#The size of our vocabulary\nvocab_size = 10000\nembeding_vector_size = 200\n#Training flag to separate training from testing\nis_training = 1\n#Data directory for our dataset\ndata_dir = \"data/simple-examples/data/\""
        },
        {
            "cell_type": "markdown",
            "metadata": {
                "button": false,
                "deletable": true,
                "new_sheet": false,
                "run_control": {
                    "read_only": false
                }
            },
            "source": "Some clarifications for LSTM architecture based on the arguments:\n\nNetwork structure:\n<ul>\n    <li>In this network, the number of LSTM cells are 2. To give the model more expressive power, we can add multiple layers of LSTMs to process the data. The output of the first layer will become the input of the second and so on.\n    </li>\n    <li>The recurrence steps is 20, that is, when our RNN is \"Unfolded\", the recurrence step is 20.</li>   \n    <li>the structure is like:\n        <ul>\n            <li>200 input units -> [200x200] Weight -> 200 Hidden units (first layer) -> [200x200] Weight matrix  -> 200 Hidden units (second layer) ->  [200] weight Matrix -> 200 unit output</li>\n        </ul>\n    </li>\n</ul>\n<br>\n\nInput layer: \n<ul>\n    <li>The network has 200 input units.</li>\n    <li>Suppose each word is represented by an embedding vector of dimensionality e=200. The input layer of each cell will have 200 linear units. These e=200 linear units are connected to each of the h=200 LSTM units in the hidden layer (assuming there is only one hidden layer, though our case has 2 layers).\n    </li>\n    <li>The input shape is [batch_size, num_steps], that is [30x20]. It will turn into [30x20x200] after embedding, and then 20x[30x200]\n    </li>\n</ul>\n<br>\n\nHidden layer:\n<ul>\n    <li>Each LSTM has 200 hidden units which is equivalent to the dimensionality of the embedding words and output.</li>\n</ul>\n<br>"
        },
        {
            "cell_type": "markdown",
            "metadata": {
                "button": false,
                "deletable": true,
                "new_sheet": false,
                "run_control": {
                    "read_only": false
                }
            },
            "source": "There is a lot to be done and a ton of information to process at the same time, so go over this code slowly. It may seem complex at first, but if you try to apply what you just learned about language modelling to the code you see, you should be able to understand it.\n\nThis code is adapted from the <a href=\"https://github.com/tensorflow/models\">PTBModel</a> example bundled with the TensorFlow source code.\n\n\n<h4>Train data</h4>\nThe story starts from data:\n<ul>\n    <li>Train data is a list of words, of size 929589, represented by numbers, e.g. [9971, 9972, 9974, 9975,...]</li>\n    <li>We read data as mini-batch of size b=30. Assume the size of each sentence is 20 words (num_steps = 20). Then it will take $$floor(\\frac{N}{b \\times h})+1=1548$$ iterations for the learner to go through all sentences once. Where N is the size of the list of words, b is batch size, andh is size of each sentence. So, the number of iterators is 1548\n    </li>\n    <li>Each batch data is read from train dataset of size 600, and shape of [30x20]</li>\n</ul>"
        },
        {
            "cell_type": "markdown",
            "metadata": {
                "button": false,
                "deletable": true,
                "new_sheet": false,
                "run_control": {
                    "read_only": false
                }
            },
            "source": "First we start an interactive session:"
        },
        {
            "cell_type": "code",
            "execution_count": 5,
            "metadata": {
                "button": false,
                "deletable": true,
                "new_sheet": false,
                "run_control": {
                    "read_only": false
                }
            },
            "outputs": [],
            "source": "session = tf.InteractiveSession()"
        },
        {
            "cell_type": "code",
            "execution_count": 6,
            "metadata": {
                "button": false,
                "deletable": true,
                "new_sheet": false,
                "run_control": {
                    "read_only": false
                }
            },
            "outputs": [],
            "source": "# Reads the data and separates it into training data, validation data and testing data\nraw_data = reader.ptb_raw_data(data_dir)\ntrain_data, valid_data, test_data, vocab, word_to_id = raw_data"
        },
        {
            "cell_type": "code",
            "execution_count": 7,
            "metadata": {},
            "outputs": [
                {
                    "data": {
                        "text/plain": "929589"
                    },
                    "execution_count": 7,
                    "metadata": {},
                    "output_type": "execute_result"
                }
            ],
            "source": "len(train_data)"
        },
        {
            "cell_type": "code",
            "execution_count": 8,
            "metadata": {},
            "outputs": [
                {
                    "name": "stdout",
                    "output_type": "stream",
                    "text": "['aer', 'banknote', 'berlitz', 'calloway', 'centrust', 'cluett', 'fromstein', 'gitano', 'guterman', 'hydro-quebec', 'ipo', 'kia', 'memotec', 'mlx', 'nahb', 'punts', 'rake', 'regatta', 'rubens', 'sim', 'snack-food', 'ssangyong', 'swapo', 'wachter', '<eos>', 'pierre', '<unk>', 'N', 'years', 'old', 'will', 'join', 'the', 'board', 'as', 'a', 'nonexecutive', 'director', 'nov.', 'N', '<eos>', 'mr.', '<unk>', 'is', 'chairman', 'of', '<unk>', 'n.v.', 'the', 'dutch', 'publishing', 'group', '<eos>', 'rudolph', '<unk>', 'N', 'years', 'old', 'and', 'former', 'chairman', 'of', 'consolidated', 'gold', 'fields', 'plc', 'was', 'named', 'a', 'nonexecutive', 'director', 'of', 'this', 'british', 'industrial', 'conglomerate', '<eos>', 'a', 'form', 'of', 'asbestos', 'once', 'used', 'to', 'make', 'kent', 'cigarette', 'filters', 'has', 'caused', 'a', 'high', 'percentage', 'of', 'cancer', 'deaths', 'among', 'a', 'group', 'of']\n"
                }
            ],
            "source": "def id_to_word(id_list):\n    line = []\n    for w in id_list:\n        for word, wid in word_to_id.items():\n            if wid == w:\n                line.append(word)\n    return line            \n                \n\nprint(id_to_word(train_data[0:100]))"
        },
        {
            "cell_type": "markdown",
            "metadata": {
                "button": false,
                "deletable": true,
                "new_sheet": false,
                "run_control": {
                    "read_only": false
                }
            },
            "source": "Lets just read one mini-batch now and feed our network:"
        },
        {
            "cell_type": "code",
            "execution_count": 9,
            "metadata": {
                "button": false,
                "deletable": true,
                "new_sheet": false,
                "run_control": {
                    "read_only": false
                }
            },
            "outputs": [],
            "source": "itera = reader.ptb_iterator(train_data, batch_size, num_steps)\nfirst_touple = itera.__next__()\nx = first_touple[0]\ny = first_touple[1]"
        },
        {
            "cell_type": "code",
            "execution_count": 10,
            "metadata": {
                "button": false,
                "deletable": true,
                "new_sheet": false,
                "run_control": {
                    "read_only": false
                }
            },
            "outputs": [
                {
                    "data": {
                        "text/plain": "(60, 20)"
                    },
                    "execution_count": 10,
                    "metadata": {},
                    "output_type": "execute_result"
                }
            ],
            "source": "x.shape"
        },
        {
            "cell_type": "markdown",
            "metadata": {
                "button": false,
                "deletable": true,
                "new_sheet": false,
                "run_control": {
                    "read_only": false
                }
            },
            "source": "Lets look at 3 sentences of our input x:"
        },
        {
            "cell_type": "code",
            "execution_count": 11,
            "metadata": {
                "button": false,
                "deletable": true,
                "new_sheet": false,
                "run_control": {
                    "read_only": false
                }
            },
            "outputs": [
                {
                    "data": {
                        "text/plain": "array([[9970, 9971, 9972, 9974, 9975, 9976, 9980, 9981, 9982, 9983, 9984,\n        9986, 9987, 9988, 9989, 9991, 9992, 9993, 9994, 9995],\n       [ 901,   33, 3361,    8, 1279,  437,  597,    6,  261, 4276, 1089,\n           8, 2836,    2,  269,    4, 5526,  241,   13, 2420],\n       [2654,    6,  334, 2886,    4,    1,  233,  711,  834,   11,  130,\n         123,    7,  514,    2,   63,   10,  514,    8,  605]],\n      dtype=int32)"
                    },
                    "execution_count": 11,
                    "metadata": {},
                    "output_type": "execute_result"
                }
            ],
            "source": "x[0:3]"
        },
        {
            "cell_type": "markdown",
            "metadata": {
                "button": false,
                "deletable": true,
                "new_sheet": false,
                "run_control": {
                    "read_only": false
                }
            },
            "source": "we define 2 place holders to feed them with mini-batchs, that is x and y:"
        },
        {
            "cell_type": "code",
            "execution_count": 12,
            "metadata": {
                "button": false,
                "deletable": true,
                "new_sheet": false,
                "run_control": {
                    "read_only": false
                }
            },
            "outputs": [],
            "source": "_input_data = tf.placeholder(tf.int32, [batch_size, num_steps]) #[30#20]\n_targets = tf.placeholder(tf.int32, [batch_size, num_steps]) #[30#20]"
        },
        {
            "cell_type": "markdown",
            "metadata": {
                "button": false,
                "deletable": true,
                "new_sheet": false,
                "run_control": {
                    "read_only": false
                }
            },
            "source": "Lets define a dictionary, and use it later to feed the placeholders with our first mini-batch:"
        },
        {
            "cell_type": "code",
            "execution_count": 13,
            "metadata": {
                "button": false,
                "deletable": true,
                "new_sheet": false,
                "run_control": {
                    "read_only": false
                }
            },
            "outputs": [],
            "source": "feed_dict = {_input_data:x, _targets:y}"
        },
        {
            "cell_type": "markdown",
            "metadata": {
                "button": false,
                "deletable": true,
                "new_sheet": false,
                "run_control": {
                    "read_only": false
                }
            },
            "source": "For example, we can use it to feed <code>\\_input\\_data</code>:"
        },
        {
            "cell_type": "code",
            "execution_count": 14,
            "metadata": {
                "button": false,
                "deletable": true,
                "new_sheet": false,
                "run_control": {
                    "read_only": false
                }
            },
            "outputs": [
                {
                    "data": {
                        "text/plain": "array([[9970, 9971, 9972, ..., 9993, 9994, 9995],\n       [ 901,   33, 3361, ...,  241,   13, 2420],\n       [2654,    6,  334, ...,  514,    8,  605],\n       ...,\n       [7831,   36, 1678, ...,    4, 4558,  157],\n       [  59, 2070, 2433, ...,  400,    1, 1173],\n       [2097,    3,    2, ..., 2043,   23,    1]], dtype=int32)"
                    },
                    "execution_count": 14,
                    "metadata": {},
                    "output_type": "execute_result"
                }
            ],
            "source": "session.run(_input_data, feed_dict)"
        },
        {
            "cell_type": "markdown",
            "metadata": {
                "button": false,
                "deletable": true,
                "new_sheet": false,
                "run_control": {
                    "read_only": false
                }
            },
            "source": "In this step, we create the stacked LSTM, which is a 2 layer LSTM network:"
        },
        {
            "cell_type": "code",
            "execution_count": 15,
            "metadata": {
                "button": false,
                "deletable": true,
                "new_sheet": false,
                "run_control": {
                    "read_only": false
                }
            },
            "outputs": [],
            "source": "lstm_cell_l1 = tf.contrib.rnn.BasicLSTMCell(hidden_size_l1, forget_bias=0.0)\nlstm_cell_l2 = tf.contrib.rnn.BasicLSTMCell(hidden_size_l2, forget_bias=0.0)\nstacked_lstm = tf.contrib.rnn.MultiRNNCell([lstm_cell_l1, lstm_cell_l2])"
        },
        {
            "cell_type": "markdown",
            "metadata": {
                "button": false,
                "deletable": true,
                "new_sheet": false,
                "run_control": {
                    "read_only": false
                }
            },
            "source": "Also, we initialize the states of the nework:\n\n<h4>_initial_state</h4>\n\nFor each LCTM, there are 2 state matrices, c\\_state and m\\_state.  c_state and m_state represent \"Memory State\" and \"Cell State\". Each hidden layer, has a vector of size 30, which keeps the states. so, for 200 hidden units in each LSTM, we have a matrix of size [30x200]"
        },
        {
            "cell_type": "code",
            "execution_count": 16,
            "metadata": {
                "button": false,
                "deletable": true,
                "new_sheet": false,
                "run_control": {
                    "read_only": false
                }
            },
            "outputs": [
                {
                    "data": {
                        "text/plain": "(LSTMStateTuple(c=<tf.Tensor 'MultiRNNCellZeroState/BasicLSTMCellZeroState/zeros:0' shape=(60, 256) dtype=float32>, h=<tf.Tensor 'MultiRNNCellZeroState/BasicLSTMCellZeroState/zeros_1:0' shape=(60, 256) dtype=float32>),\n LSTMStateTuple(c=<tf.Tensor 'MultiRNNCellZeroState/BasicLSTMCellZeroState_1/zeros:0' shape=(60, 128) dtype=float32>, h=<tf.Tensor 'MultiRNNCellZeroState/BasicLSTMCellZeroState_1/zeros_1:0' shape=(60, 128) dtype=float32>))"
                    },
                    "execution_count": 16,
                    "metadata": {},
                    "output_type": "execute_result"
                }
            ],
            "source": "_initial_state = stacked_lstm.zero_state(batch_size, tf.float32)\n_initial_state"
        },
        {
            "cell_type": "markdown",
            "metadata": {
                "button": false,
                "deletable": true,
                "new_sheet": false,
                "run_control": {
                    "read_only": false
                }
            },
            "source": "Lets look at the states, though they are all zero for now:"
        },
        {
            "cell_type": "code",
            "execution_count": 17,
            "metadata": {
                "button": false,
                "deletable": true,
                "new_sheet": false,
                "run_control": {
                    "read_only": false
                }
            },
            "outputs": [
                {
                    "data": {
                        "text/plain": "(LSTMStateTuple(c=array([[0., 0., 0., ..., 0., 0., 0.],\n        [0., 0., 0., ..., 0., 0., 0.],\n        [0., 0., 0., ..., 0., 0., 0.],\n        ...,\n        [0., 0., 0., ..., 0., 0., 0.],\n        [0., 0., 0., ..., 0., 0., 0.],\n        [0., 0., 0., ..., 0., 0., 0.]], dtype=float32), h=array([[0., 0., 0., ..., 0., 0., 0.],\n        [0., 0., 0., ..., 0., 0., 0.],\n        [0., 0., 0., ..., 0., 0., 0.],\n        ...,\n        [0., 0., 0., ..., 0., 0., 0.],\n        [0., 0., 0., ..., 0., 0., 0.],\n        [0., 0., 0., ..., 0., 0., 0.]], dtype=float32)),\n LSTMStateTuple(c=array([[0., 0., 0., ..., 0., 0., 0.],\n        [0., 0., 0., ..., 0., 0., 0.],\n        [0., 0., 0., ..., 0., 0., 0.],\n        ...,\n        [0., 0., 0., ..., 0., 0., 0.],\n        [0., 0., 0., ..., 0., 0., 0.],\n        [0., 0., 0., ..., 0., 0., 0.]], dtype=float32), h=array([[0., 0., 0., ..., 0., 0., 0.],\n        [0., 0., 0., ..., 0., 0., 0.],\n        [0., 0., 0., ..., 0., 0., 0.],\n        ...,\n        [0., 0., 0., ..., 0., 0., 0.],\n        [0., 0., 0., ..., 0., 0., 0.],\n        [0., 0., 0., ..., 0., 0., 0.]], dtype=float32)))"
                    },
                    "execution_count": 17,
                    "metadata": {},
                    "output_type": "execute_result"
                }
            ],
            "source": "session.run(_initial_state, feed_dict)"
        },
        {
            "cell_type": "markdown",
            "metadata": {
                "button": false,
                "deletable": true,
                "new_sheet": false,
                "run_control": {
                    "read_only": false
                }
            },
            "source": "<h3>Embeddings</h3>\nWe have to convert the words in our dataset to vectors of numbers. The traditional approach is to use one-hot encoding method that is usually used for converting categorical values to numerical values. However, One-hot encoded vectors are high-dimensional, sparse and in a big dataset, computationally inefficient. So, we use word2vec approach. It is, in fact, a layer in our LSTM network, where the word IDs will be represented as a dense representation before feeding to the LSTM. \n\nThe embedded vectors also get updated during the training process of the deep neural network.\nWe create the embeddings for our input data. <b>embedding_vocab</b> is matrix of [10000x200] for all 10000 unique words."
        },
        {
            "cell_type": "code",
            "execution_count": 18,
            "metadata": {
                "button": false,
                "deletable": true,
                "new_sheet": false,
                "run_control": {
                    "read_only": false
                }
            },
            "outputs": [],
            "source": "embedding_vocab = tf.get_variable(\"embedding_vocab\", [vocab_size, embeding_vector_size])  #[10000x200]"
        },
        {
            "cell_type": "markdown",
            "metadata": {},
            "source": "Lets initialize the <code>embedding_words</code> variable with random values."
        },
        {
            "cell_type": "code",
            "execution_count": 19,
            "metadata": {
                "button": false,
                "deletable": true,
                "new_sheet": false,
                "run_control": {
                    "read_only": false
                }
            },
            "outputs": [
                {
                    "data": {
                        "text/plain": "array([[ 2.02194490e-02, -1.64428279e-02,  2.41812244e-02, ...,\n        -1.04456404e-02, -5.88963181e-03, -6.64081424e-03],\n       [-1.30422665e-02, -8.00995901e-03, -8.19173269e-03, ...,\n        -1.29902875e-02,  1.52705982e-02, -5.06951101e-03],\n       [-1.32791810e-02,  2.16427967e-02, -1.81758665e-02, ...,\n        -2.10429560e-02,  9.26299021e-04, -4.61771898e-03],\n       ...,\n       [ 7.20169395e-04, -1.79129243e-02, -8.17150995e-03, ...,\n        -2.41528079e-02,  5.59158437e-03, -3.41435149e-03],\n       [-2.37070695e-02, -5.46332449e-05,  1.26625709e-02, ...,\n         9.39791650e-03,  1.38482898e-02,  1.64463967e-02],\n       [ 1.49487406e-02,  1.24708004e-02,  1.52961276e-02, ...,\n         8.63880664e-03, -5.45215793e-03,  6.36431202e-03]], dtype=float32)"
                    },
                    "execution_count": 19,
                    "metadata": {},
                    "output_type": "execute_result"
                }
            ],
            "source": "session.run(tf.global_variables_initializer())\nsession.run(embedding_vocab)"
        },
        {
            "cell_type": "markdown",
            "metadata": {
                "button": false,
                "deletable": true,
                "new_sheet": false,
                "run_control": {
                    "read_only": false
                }
            },
            "source": "<b>embedding_lookup()</b> finds the embedded values for our batch of 30x20 words. It  goes to each row of <code>input_data</code>, and for each word in the row/sentence, finds the correspond vector in <code>embedding_dic<code>. <br>\nIt creates a [30x20x200] tensor, so, the first element of <b>inputs</b> (the first sentence), is a matrix of 20x200, which each row of it, is vector representing a word in the sentence."
        },
        {
            "cell_type": "code",
            "execution_count": 20,
            "metadata": {
                "button": false,
                "deletable": true,
                "new_sheet": false,
                "run_control": {
                    "read_only": false
                }
            },
            "outputs": [
                {
                    "data": {
                        "text/plain": "<tf.Tensor 'embedding_lookup:0' shape=(60, 20, 200) dtype=float32>"
                    },
                    "execution_count": 20,
                    "metadata": {},
                    "output_type": "execute_result"
                }
            ],
            "source": "# Define where to get the data for our embeddings from\ninputs = tf.nn.embedding_lookup(embedding_vocab, _input_data)  #shape=(30, 20, 200) \ninputs"
        },
        {
            "cell_type": "code",
            "execution_count": 21,
            "metadata": {
                "button": false,
                "deletable": true,
                "new_sheet": false,
                "run_control": {
                    "read_only": false
                }
            },
            "outputs": [
                {
                    "data": {
                        "text/plain": "array([[ 0.00530684, -0.00227321,  0.00777959, ...,  0.01195499,\n        -0.00515143, -0.00180698],\n       [-0.01629739, -0.02213183,  0.00880849, ..., -0.01877438,\n         0.0185382 , -0.00473393],\n       [ 0.01056235, -0.01710166,  0.01345989, ..., -0.01242032,\n         0.00206851,  0.00020938],\n       ...,\n       [ 0.01478085,  0.00255889, -0.00733282, ..., -0.00865265,\n        -0.0006934 ,  0.02399511],\n       [-0.00175188,  0.01313099,  0.01175996, ...,  0.01034171,\n         0.00227252,  0.01313309],\n       [-0.00512582, -0.01107836,  0.00489284, ..., -0.01604859,\n         0.00850232,  0.00248015]], dtype=float32)"
                    },
                    "execution_count": 21,
                    "metadata": {},
                    "output_type": "execute_result"
                }
            ],
            "source": "session.run(inputs[0], feed_dict)"
        },
        {
            "cell_type": "markdown",
            "metadata": {
                "button": false,
                "deletable": true,
                "new_sheet": false,
                "run_control": {
                    "read_only": false
                }
            },
            "source": "<h3>Constructing Recurrent Neural Networks</h3>\n<b>tf.nn.dynamic_rnn()</b> creates a recurrent neural network using <b>stacked_lstm</b>. \n\nThe input should be a Tensor of shape: [batch_size, max_time, embedding_vector_size], in our case it would be (30, 20, 200)\n\nThis method, returns a pair (outputs, new_state) where:\n<ul>\n    <li><b>outputs</b>: is a length T list of outputs (one for each input), or a nested tuple of such elements.</li>\n    <li><b>new_state</b>: is the final state.</li>\n</ul>"
        },
        {
            "cell_type": "code",
            "execution_count": 22,
            "metadata": {
                "button": false,
                "deletable": true,
                "new_sheet": false,
                "run_control": {
                    "read_only": false
                },
                "scrolled": true
            },
            "outputs": [],
            "source": "outputs, new_state =  tf.nn.dynamic_rnn(stacked_lstm, inputs, initial_state=_initial_state)"
        },
        {
            "cell_type": "markdown",
            "metadata": {
                "button": false,
                "deletable": true,
                "new_sheet": false,
                "run_control": {
                    "read_only": false
                }
            },
            "source": "so, lets look at the outputs. The output of the stackedLSTM comes from 200 hidden_layer, and in each time step(=20), one of them get activated. we use the linear activation to map the 200 hidden layer to a [?x10 matrix]"
        },
        {
            "cell_type": "code",
            "execution_count": 23,
            "metadata": {
                "button": false,
                "deletable": true,
                "new_sheet": false,
                "run_control": {
                    "read_only": false
                }
            },
            "outputs": [
                {
                    "data": {
                        "text/plain": "<tf.Tensor 'rnn/transpose_1:0' shape=(60, 20, 128) dtype=float32>"
                    },
                    "execution_count": 23,
                    "metadata": {},
                    "output_type": "execute_result"
                }
            ],
            "source": "outputs"
        },
        {
            "cell_type": "code",
            "execution_count": 24,
            "metadata": {
                "button": false,
                "deletable": true,
                "new_sheet": false,
                "run_control": {
                    "read_only": false
                }
            },
            "outputs": [
                {
                    "data": {
                        "text/plain": "array([[ 4.7089110e-04, -3.2680781e-04,  4.5685619e-04, ...,\n         5.2437230e-05, -2.8505715e-04,  6.5340038e-04],\n       [ 6.1220053e-04, -1.8412416e-04, -5.0301962e-05, ...,\n         1.2453909e-04, -4.6889129e-04,  9.3320664e-04],\n       [ 3.4021589e-04, -2.2326705e-04,  1.5723048e-04, ...,\n        -2.3662845e-04, -8.8024634e-04,  6.9914087e-05],\n       ...,\n       [ 1.5058033e-05, -9.7208039e-04, -7.4063160e-04, ...,\n        -1.4604665e-03,  1.0014671e-03,  1.4467345e-03],\n       [-5.5858516e-04, -8.7125372e-04, -7.2888355e-04, ...,\n        -8.1959198e-04,  7.2509988e-04,  8.1637240e-04],\n       [-8.6797413e-04, -7.7508809e-04, -6.5841794e-04, ...,\n        -1.2969841e-04, -2.6434255e-04,  2.5212913e-04]], dtype=float32)"
                    },
                    "execution_count": 24,
                    "metadata": {},
                    "output_type": "execute_result"
                }
            ],
            "source": "session.run(tf.global_variables_initializer())\nsession.run(outputs[0], feed_dict)"
        },
        {
            "cell_type": "markdown",
            "metadata": {
                "button": false,
                "deletable": true,
                "new_sheet": false,
                "run_control": {
                    "read_only": false
                }
            },
            "source": "we need to flatten the outputs to be able to connect it softmax layer. Lets reshape the output tensor from  [30 x 20 x 200] to [600 x 200].\n\n<b>Notice:</b> Imagine our output is 3-d tensor as following (of course each <code>sen_x_word_y</code> is a an embedded vector by itself): \n<ul>\n    <li>sentence 1: [[sen1word1], [sen1word2], [sen1word3], ..., [sen1word20]]</li> \n    <li>sentence 2: [[sen2word1], [sen2word2], [sen2word3], ..., [sen2word20]]</li>   \n    <li>sentence 3: [[sen3word1], [sen3word2], [sen3word3], ..., [sen3word20]]</li>  \n    <li>...  </li>\n    <li>sentence 30: [[sen30word1], [sen30word2], [sen30word3], ..., [sen30word20]]</li>   \n</ul>\nNow, the flatten would convert this 3-dim tensor to:\n\n[ [sen1word1], [sen1word2], [sen1word3], ..., [sen1word20],[sen2word1], [sen2word2], [sen2word3], ..., [sen2word20], ..., [sen30word20] ]\n"
        },
        {
            "cell_type": "code",
            "execution_count": 25,
            "metadata": {
                "button": false,
                "deletable": true,
                "new_sheet": false,
                "run_control": {
                    "read_only": false
                }
            },
            "outputs": [
                {
                    "data": {
                        "text/plain": "<tf.Tensor 'Reshape:0' shape=(1200, 128) dtype=float32>"
                    },
                    "execution_count": 25,
                    "metadata": {},
                    "output_type": "execute_result"
                }
            ],
            "source": "output = tf.reshape(outputs, [-1, hidden_size_l2])\noutput"
        },
        {
            "cell_type": "markdown",
            "metadata": {
                "button": false,
                "deletable": true,
                "new_sheet": false,
                "run_control": {
                    "read_only": false
                }
            },
            "source": "<h3>logistic unit</h3>\nNow, we create a logistic unit to return the probability of the output word in our vocabulary with 1000 words. \n\n$$Softmax = [600 \\times 200] * [200 \\times 1000] + [1 \\times 1000] \\Longrightarrow [600 \\times 1000]$$"
        },
        {
            "cell_type": "code",
            "execution_count": 26,
            "metadata": {
                "button": false,
                "deletable": true,
                "new_sheet": false,
                "run_control": {
                    "read_only": false
                }
            },
            "outputs": [],
            "source": "softmax_w = tf.get_variable(\"softmax_w\", [hidden_size_l2, vocab_size]) #[200x1000]\nsoftmax_b = tf.get_variable(\"softmax_b\", [vocab_size]) #[1x1000]\nlogits = tf.matmul(output, softmax_w) + softmax_b\nprob = tf.nn.softmax(logits)"
        },
        {
            "cell_type": "markdown",
            "metadata": {},
            "source": "Lets look at the probability of observing words for t=0 to t=20:"
        },
        {
            "cell_type": "code",
            "execution_count": 27,
            "metadata": {
                "button": false,
                "deletable": true,
                "new_sheet": false,
                "run_control": {
                    "read_only": false
                }
            },
            "outputs": [
                {
                    "name": "stdout",
                    "output_type": "stream",
                    "text": "shape of the output:  (1200, 10000)\nThe probability of observing words in t=0 to t=20 [[1.01609097e-04 1.01096048e-04 1.01724407e-04 ... 1.01273210e-04\n  1.01062804e-04 9.98500764e-05]\n [1.01611731e-04 1.01101265e-04 1.01728336e-04 ... 1.01274840e-04\n  1.01054575e-04 9.98564865e-05]\n [1.01613616e-04 1.01104510e-04 1.01731341e-04 ... 1.01276019e-04\n  1.01045152e-04 9.98575488e-05]\n ...\n [1.01635247e-04 1.01094491e-04 1.01710910e-04 ... 1.01250633e-04\n  1.01042438e-04 9.98750329e-05]\n [1.01624930e-04 1.01092577e-04 1.01708072e-04 ... 1.01261976e-04\n  1.01045793e-04 9.98722535e-05]\n [1.01623511e-04 1.01095189e-04 1.01702863e-04 ... 1.01267535e-04\n  1.01053804e-04 9.98805845e-05]]\n"
                }
            ],
            "source": "session.run(tf.global_variables_initializer())\noutput_words_prob = session.run(prob, feed_dict)\nprint(\"shape of the output: \", output_words_prob.shape)\nprint(\"The probability of observing words in t=0 to t=20\", output_words_prob[0:20])"
        },
        {
            "cell_type": "markdown",
            "metadata": {
                "button": false,
                "deletable": true,
                "new_sheet": false,
                "run_control": {
                    "read_only": false
                }
            },
            "source": "<h3>Prediction</h3>\nWhat is the word correspond to the probability output? Lets use the maximum probability:"
        },
        {
            "cell_type": "code",
            "execution_count": 28,
            "metadata": {
                "button": false,
                "deletable": true,
                "new_sheet": false,
                "run_control": {
                    "read_only": false
                }
            },
            "outputs": [
                {
                    "data": {
                        "text/plain": "array([7893,  946, 8204, 8204, 7775, 7775, 7775, 1027, 3689, 3689, 2455,\n       2455, 4704, 4704, 4704, 8204, 9979, 9979, 7893, 7893])"
                    },
                    "execution_count": 28,
                    "metadata": {},
                    "output_type": "execute_result"
                }
            ],
            "source": "np.argmax(output_words_prob[0:20], axis=1)"
        },
        {
            "cell_type": "markdown",
            "metadata": {
                "button": false,
                "deletable": true,
                "new_sheet": false,
                "run_control": {
                    "read_only": false
                }
            },
            "source": "So, what is the ground truth for the first word of first sentence? "
        },
        {
            "cell_type": "code",
            "execution_count": 29,
            "metadata": {
                "button": false,
                "deletable": true,
                "new_sheet": false,
                "run_control": {
                    "read_only": false
                }
            },
            "outputs": [
                {
                    "data": {
                        "text/plain": "array([9971, 9972, 9974, 9975, 9976, 9980, 9981, 9982, 9983, 9984, 9986,\n       9987, 9988, 9989, 9991, 9992, 9993, 9994, 9995, 9996], dtype=int32)"
                    },
                    "execution_count": 29,
                    "metadata": {},
                    "output_type": "execute_result"
                }
            ],
            "source": "y[0]"
        },
        {
            "cell_type": "markdown",
            "metadata": {
                "button": false,
                "deletable": true,
                "new_sheet": false,
                "run_control": {
                    "read_only": false
                }
            },
            "source": "Also, you can get it from target tensor, if you want to find the embedding vector:"
        },
        {
            "cell_type": "code",
            "execution_count": 30,
            "metadata": {
                "button": false,
                "deletable": true,
                "new_sheet": false,
                "run_control": {
                    "read_only": false
                }
            },
            "outputs": [
                {
                    "data": {
                        "text/plain": "array([9971, 9972, 9974, 9975, 9976, 9980, 9981, 9982, 9983, 9984, 9986,\n       9987, 9988, 9989, 9991, 9992, 9993, 9994, 9995, 9996], dtype=int32)"
                    },
                    "execution_count": 30,
                    "metadata": {},
                    "output_type": "execute_result"
                }
            ],
            "source": "targ = session.run(_targets, feed_dict) \ntarg[0]"
        },
        {
            "cell_type": "markdown",
            "metadata": {},
            "source": "How similar the predicted words are to the target words?"
        },
        {
            "cell_type": "markdown",
            "metadata": {
                "button": false,
                "deletable": true,
                "new_sheet": false,
                "run_control": {
                    "read_only": false
                }
            },
            "source": "<h4>Objective function</h4>\n\nNow we have to define our objective function, to calculate the similarity of predicted values to ground truth, and then, penalize the model with the error. Our objective is to minimize loss function, that is, to minimize the average negative log probability of the target words:\n\n$$\\text{loss} = -\\frac{1}{N}\\sum_{i=1}^{N} \\ln p_{\\text{target}_i}$$\n\nThis function is already implemented and available in TensorFlow through <b>sequence_loss_by_example</b>. It calculates the weighted cross-entropy loss for <b>logits</b> and the <b>target</b> sequence.  \n\nThe arguments of this function are:  \n<ul>\n    <li>logits: List of 2D Tensors of shape [batch_size x num_decoder_symbols].</li>  \n    <li>targets: List of 1D batch-sized int32 Tensors of the same length as logits.</li>   \n    <li>weights: List of 1D batch-sized float-Tensors of the same length as logits.</li> \n</ul>"
        },
        {
            "cell_type": "code",
            "execution_count": 31,
            "metadata": {
                "button": false,
                "deletable": true,
                "new_sheet": false,
                "run_control": {
                    "read_only": false
                }
            },
            "outputs": [],
            "source": "loss = tf.contrib.legacy_seq2seq.sequence_loss_by_example([logits], [tf.reshape(_targets, [-1])],[tf.ones([batch_size * num_steps])])"
        },
        {
            "cell_type": "markdown",
            "metadata": {
                "button": false,
                "deletable": true,
                "new_sheet": false,
                "run_control": {
                    "read_only": false
                }
            },
            "source": "loss is a 1D batch-sized float Tensor [600x1]: The log-perplexity for each sequence. Lets look at the first 10 values of loss:"
        },
        {
            "cell_type": "code",
            "execution_count": 32,
            "metadata": {
                "button": false,
                "deletable": true,
                "new_sheet": false,
                "run_control": {
                    "read_only": false
                }
            },
            "outputs": [
                {
                    "data": {
                        "text/plain": "array([9.218047, 9.199606, 9.22162 , 9.195452, 9.198489, 9.223183,\n       9.227242, 9.200866, 9.200327, 9.204584], dtype=float32)"
                    },
                    "execution_count": 32,
                    "metadata": {},
                    "output_type": "execute_result"
                }
            ],
            "source": "session.run(loss, feed_dict)[:10]"
        },
        {
            "cell_type": "markdown",
            "metadata": {},
            "source": "Now, we define loss as average of the losses:"
        },
        {
            "cell_type": "code",
            "execution_count": 33,
            "metadata": {
                "button": false,
                "deletable": true,
                "new_sheet": false,
                "run_control": {
                    "read_only": false
                }
            },
            "outputs": [
                {
                    "data": {
                        "text/plain": "184.2068"
                    },
                    "execution_count": 33,
                    "metadata": {},
                    "output_type": "execute_result"
                }
            ],
            "source": "cost = tf.reduce_sum(loss) / batch_size\nsession.run(tf.global_variables_initializer())\nsession.run(cost, feed_dict)\n"
        },
        {
            "cell_type": "markdown",
            "metadata": {
                "button": false,
                "deletable": true,
                "new_sheet": false,
                "run_control": {
                    "read_only": false
                }
            },
            "source": "<h3>Training</h3>\n\nTo do training for our network, we have to take the following steps:\n<ol>\n    <li>Define the optimizer.</li>\n    <li>Extract variables that are trainable.</li>\n    <li>Calculate the gradients based on the loss function.</li>\n    <li>Apply the optimizer to the variables/gradients tuple.</li>\n</ol>"
        },
        {
            "cell_type": "markdown",
            "metadata": {
                "button": false,
                "deletable": true,
                "new_sheet": false,
                "run_control": {
                    "read_only": false
                }
            },
            "source": "<h4>1. Define Optimizer</h4>\n\n<b>GradientDescentOptimizer</b> constructs a new gradient descent optimizer. Later, we use constructed <b>optimizer</b> to compute gradients for a loss and apply gradients to variables."
        },
        {
            "cell_type": "code",
            "execution_count": 34,
            "metadata": {
                "button": false,
                "deletable": true,
                "new_sheet": false,
                "run_control": {
                    "read_only": false
                }
            },
            "outputs": [],
            "source": "# Create a variable for the learning rate\nlr = tf.Variable(0.0, trainable=False)\n# Create the gradient descent optimizer with our learning rate\noptimizer = tf.train.GradientDescentOptimizer(lr)"
        },
        {
            "cell_type": "markdown",
            "metadata": {
                "button": false,
                "deletable": true,
                "new_sheet": false,
                "run_control": {
                    "read_only": false
                }
            },
            "source": "\n<h4>2. Trainable Variables</h4>"
        },
        {
            "cell_type": "markdown",
            "metadata": {
                "button": false,
                "deletable": true,
                "new_sheet": false,
                "run_control": {
                    "read_only": false
                }
            },
            "source": "Defining a variable, if you passed <i>trainable=True</i>, the variable constructor automatically adds new variables to the graph collection <b>GraphKeys.TRAINABLE_VARIABLES</b>. Now, using <i>tf.trainable_variables()</i> you can get all variables created with <b>trainable=True</b>."
        },
        {
            "cell_type": "code",
            "execution_count": 35,
            "metadata": {
                "button": false,
                "deletable": true,
                "new_sheet": false,
                "run_control": {
                    "read_only": false
                }
            },
            "outputs": [
                {
                    "data": {
                        "text/plain": "[<tf.Variable 'embedding_vocab:0' shape=(10000, 200) dtype=float32_ref>,\n <tf.Variable 'rnn/multi_rnn_cell/cell_0/basic_lstm_cell/kernel:0' shape=(456, 1024) dtype=float32_ref>,\n <tf.Variable 'rnn/multi_rnn_cell/cell_0/basic_lstm_cell/bias:0' shape=(1024,) dtype=float32_ref>,\n <tf.Variable 'rnn/multi_rnn_cell/cell_1/basic_lstm_cell/kernel:0' shape=(384, 512) dtype=float32_ref>,\n <tf.Variable 'rnn/multi_rnn_cell/cell_1/basic_lstm_cell/bias:0' shape=(512,) dtype=float32_ref>,\n <tf.Variable 'softmax_w:0' shape=(128, 10000) dtype=float32_ref>,\n <tf.Variable 'softmax_b:0' shape=(10000,) dtype=float32_ref>]"
                    },
                    "execution_count": 35,
                    "metadata": {},
                    "output_type": "execute_result"
                }
            ],
            "source": "# Get all TensorFlow variables marked as \"trainable\" (i.e. all of them except _lr, which we just created)\ntvars = tf.trainable_variables()\ntvars"
        },
        {
            "cell_type": "markdown",
            "metadata": {
                "button": false,
                "deletable": true,
                "new_sheet": false,
                "run_control": {
                    "read_only": false
                }
            },
            "source": "Note: we can find the name and scope of all variables:"
        },
        {
            "cell_type": "code",
            "execution_count": 36,
            "metadata": {
                "button": false,
                "deletable": true,
                "new_sheet": false,
                "run_control": {
                    "read_only": false
                }
            },
            "outputs": [
                {
                    "data": {
                        "text/plain": "['embedding_vocab:0',\n 'rnn/multi_rnn_cell/cell_0/basic_lstm_cell/kernel:0',\n 'rnn/multi_rnn_cell/cell_0/basic_lstm_cell/bias:0',\n 'rnn/multi_rnn_cell/cell_1/basic_lstm_cell/kernel:0',\n 'rnn/multi_rnn_cell/cell_1/basic_lstm_cell/bias:0',\n 'softmax_w:0',\n 'softmax_b:0']"
                    },
                    "execution_count": 36,
                    "metadata": {},
                    "output_type": "execute_result"
                }
            ],
            "source": "[v.name for v in tvars]"
        },
        {
            "cell_type": "markdown",
            "metadata": {
                "button": false,
                "deletable": true,
                "new_sheet": false,
                "run_control": {
                    "read_only": false
                }
            },
            "source": "<h4>3. Calculate the gradients based on the loss function</h4>"
        },
        {
            "cell_type": "markdown",
            "metadata": {
                "button": false,
                "deletable": true,
                "new_sheet": false,
                "run_control": {
                    "read_only": false
                }
            },
            "source": "<h4>Gradient</h4>:\nThe gradient of a function is the slope of its derivative (line), or in other words, the rate of change of a function. It's a vector (a direction to move) that points in the direction of greatest increase of the function, and calculated by the <b>derivative</b> operation.\n\nFirst lets recall the gradient function using an toy example:\n$$ z = \\left(2x^2 + 3xy\\right)$$"
        },
        {
            "cell_type": "code",
            "execution_count": 37,
            "metadata": {
                "button": false,
                "deletable": true,
                "new_sheet": false,
                "run_control": {
                    "read_only": false
                }
            },
            "outputs": [
                {
                    "data": {
                        "text/plain": "8.0"
                    },
                    "execution_count": 37,
                    "metadata": {},
                    "output_type": "execute_result"
                }
            ],
            "source": "var_x = tf.placeholder(tf.float32)\nvar_y = tf.placeholder(tf.float32) \nfunc_test = 2.0 * var_x * var_x + 3.0 * var_x * var_y\nsession.run(tf.global_variables_initializer())\nsession.run(func_test, {var_x:1.0,var_y:2.0})"
        },
        {
            "cell_type": "markdown",
            "metadata": {
                "button": false,
                "deletable": true,
                "new_sheet": false,
                "run_control": {
                    "read_only": false
                }
            },
            "source": "The <b>tf.gradients()</b> function allows you to compute the symbolic gradient of one tensor with respect to one or more other tensors\u2014including variables. <b>tf.gradients(func, xs)</b> constructs symbolic partial derivatives of sum of <b>func</b> w.r.t. <i>x</i> in <b>xs</b>. \n\nNow, lets look at the derivitive w.r.t. <b>var_x</b>:\n$$ \\frac{\\partial \\:}{\\partial \\:x}\\left(2x^2 + 3xy\\right) = 4x + 3y $$\n"
        },
        {
            "cell_type": "code",
            "execution_count": 38,
            "metadata": {
                "button": false,
                "deletable": true,
                "new_sheet": false,
                "run_control": {
                    "read_only": false
                }
            },
            "outputs": [
                {
                    "data": {
                        "text/plain": "[10.0]"
                    },
                    "execution_count": 38,
                    "metadata": {},
                    "output_type": "execute_result"
                }
            ],
            "source": "var_grad = tf.gradients(func_test, [var_x])\nsession.run(var_grad, {var_x:1.0,var_y:2.0})"
        },
        {
            "cell_type": "markdown",
            "metadata": {
                "button": false,
                "deletable": true,
                "new_sheet": false,
                "run_control": {
                    "read_only": false
                }
            },
            "source": "the derivative w.r.t. <b>var_y</b>:\n$$ \\frac{\\partial \\:}{\\partial \\:x}\\left(2x^2 + 3xy\\right) = 3x $$"
        },
        {
            "cell_type": "code",
            "execution_count": 39,
            "metadata": {
                "button": false,
                "deletable": true,
                "new_sheet": false,
                "run_control": {
                    "read_only": false
                }
            },
            "outputs": [
                {
                    "data": {
                        "text/plain": "[3.0]"
                    },
                    "execution_count": 39,
                    "metadata": {},
                    "output_type": "execute_result"
                }
            ],
            "source": "var_grad = tf.gradients(func_test, [var_y])\nsession.run(var_grad, {var_x:1.0, var_y:2.0})"
        },
        {
            "cell_type": "markdown",
            "metadata": {
                "button": false,
                "deletable": true,
                "new_sheet": false,
                "run_control": {
                    "read_only": false
                }
            },
            "source": "Now, we can look at gradients w.r.t all variables:"
        },
        {
            "cell_type": "code",
            "execution_count": 40,
            "metadata": {
                "button": false,
                "deletable": true,
                "new_sheet": false,
                "run_control": {
                    "read_only": false
                }
            },
            "outputs": [
                {
                    "data": {
                        "text/plain": "[<tensorflow.python.framework.ops.IndexedSlices at 0x7fd5b812ce48>,\n <tf.Tensor 'gradients_2/rnn/while/rnn/multi_rnn_cell/cell_0/basic_lstm_cell/MatMul/Enter_grad/b_acc_3:0' shape=(456, 1024) dtype=float32>,\n <tf.Tensor 'gradients_2/rnn/while/rnn/multi_rnn_cell/cell_0/basic_lstm_cell/BiasAdd/Enter_grad/b_acc_3:0' shape=(1024,) dtype=float32>,\n <tf.Tensor 'gradients_2/rnn/while/rnn/multi_rnn_cell/cell_1/basic_lstm_cell/MatMul/Enter_grad/b_acc_3:0' shape=(384, 512) dtype=float32>,\n <tf.Tensor 'gradients_2/rnn/while/rnn/multi_rnn_cell/cell_1/basic_lstm_cell/BiasAdd/Enter_grad/b_acc_3:0' shape=(512,) dtype=float32>,\n <tf.Tensor 'gradients_2/MatMul_grad/MatMul_1:0' shape=(128, 10000) dtype=float32>,\n <tf.Tensor 'gradients_2/add_grad/Reshape_1:0' shape=(10000,) dtype=float32>]"
                    },
                    "execution_count": 40,
                    "metadata": {},
                    "output_type": "execute_result"
                }
            ],
            "source": "tf.gradients(cost, tvars)"
        },
        {
            "cell_type": "code",
            "execution_count": 41,
            "metadata": {
                "button": false,
                "deletable": true,
                "new_sheet": false,
                "run_control": {
                    "read_only": false
                },
                "scrolled": true
            },
            "outputs": [],
            "source": "grad_t_list = tf.gradients(cost, tvars)\n#sess.run(grad_t_list,feed_dict)"
        },
        {
            "cell_type": "markdown",
            "metadata": {
                "button": false,
                "deletable": true,
                "new_sheet": false,
                "run_control": {
                    "read_only": false
                }
            },
            "source": "\n\n\nnow, we have a list of tensors, t-list. We can use it to find clipped tensors. <b>clip_by_global_norm</b> clips values of multiple tensors by the ratio of the sum of their norms.\n\n<b>clip_by_global_norm</b> get <i>t-list</i> as input and returns 2 things:\n<ul>\n    <li>a list of clipped tensors, so called <i>list_clipped</i></li> \n    <li>the global norm (global_norm) of all tensors in t_list</li> \n</ul>"
        },
        {
            "cell_type": "code",
            "execution_count": 42,
            "metadata": {
                "button": false,
                "deletable": true,
                "new_sheet": false,
                "run_control": {
                    "read_only": false
                }
            },
            "outputs": [
                {
                    "data": {
                        "text/plain": "[<tensorflow.python.framework.ops.IndexedSlices at 0x7fd5b814f3c8>,\n <tf.Tensor 'clip_by_global_norm/clip_by_global_norm/_1:0' shape=(456, 1024) dtype=float32>,\n <tf.Tensor 'clip_by_global_norm/clip_by_global_norm/_2:0' shape=(1024,) dtype=float32>,\n <tf.Tensor 'clip_by_global_norm/clip_by_global_norm/_3:0' shape=(384, 512) dtype=float32>,\n <tf.Tensor 'clip_by_global_norm/clip_by_global_norm/_4:0' shape=(512,) dtype=float32>,\n <tf.Tensor 'clip_by_global_norm/clip_by_global_norm/_5:0' shape=(128, 10000) dtype=float32>,\n <tf.Tensor 'clip_by_global_norm/clip_by_global_norm/_6:0' shape=(10000,) dtype=float32>]"
                    },
                    "execution_count": 42,
                    "metadata": {},
                    "output_type": "execute_result"
                }
            ],
            "source": "# Define the gradient clipping threshold\ngrads, _ = tf.clip_by_global_norm(grad_t_list, max_grad_norm)\ngrads"
        },
        {
            "cell_type": "code",
            "execution_count": 43,
            "metadata": {
                "button": false,
                "deletable": true,
                "new_sheet": false,
                "run_control": {
                    "read_only": false
                }
            },
            "outputs": [
                {
                    "data": {
                        "text/plain": "[IndexedSlicesValue(values=array([[ 6.6627213e-06,  2.5627151e-06,  5.7759430e-06, ...,\n          8.8240731e-06, -4.2635793e-06,  7.9395140e-06],\n        [ 1.1720868e-05,  4.0956693e-06,  3.2517414e-07, ...,\n          1.7434113e-05, -1.6385755e-05,  4.7500480e-06],\n        [ 9.1185575e-06,  2.4932308e-06,  8.7188715e-07, ...,\n          1.7457311e-05, -1.7673045e-05,  1.0288043e-05],\n        ...,\n        [-2.4620854e-06, -8.0762936e-07,  7.2569610e-06, ...,\n         -5.7757717e-07,  2.8382403e-06,  1.0597243e-05],\n        [ 4.6746536e-07,  8.2846412e-08,  6.9091225e-06, ...,\n          1.2801606e-06,  3.6522306e-06,  8.5157490e-06],\n        [-1.3146256e-06, -8.5307892e-07,  5.6464842e-06, ...,\n          5.6812437e-06,  3.9758095e-07,  9.6670574e-06]], dtype=float32), indices=array([9970, 9971, 9972, ..., 2043,   23,    1], dtype=int32), dense_shape=array([10000,   200], dtype=int32)),\n array([[-1.70492100e-08, -3.02918686e-08,  4.38694485e-08, ...,\n         -5.12075680e-08,  4.58757476e-08,  1.63556706e-08],\n        [ 7.58694654e-08,  1.21794574e-09,  1.22986865e-08, ...,\n         -1.80226944e-08, -1.63857194e-08, -9.47087919e-09],\n        [ 5.70638186e-08,  6.06437922e-08, -4.15622878e-08, ...,\n          1.61596851e-08,  2.68681255e-08, -6.68245370e-09],\n        ...,\n        [ 7.70740449e-09,  4.58141969e-09, -1.26155753e-09, ...,\n         -8.87015972e-09, -4.51478499e-09,  2.33328357e-09],\n        [-6.84293244e-09, -5.80310555e-09, -5.59067947e-09, ...,\n          3.57222296e-09,  7.79716203e-09,  3.83155818e-09],\n        [-2.31556574e-09, -3.79928089e-10, -9.86116966e-10, ...,\n          2.61519406e-09,  4.15045465e-09,  5.83921800e-09]], dtype=float32),\n array([ 5.1538382e-06, -1.2888952e-06,  1.7335428e-06, ...,\n        -2.4293756e-06, -1.5321112e-06, -8.4007667e-07], dtype=float32),\n array([[-1.18381793e-09, -5.90017979e-10,  8.60377547e-09, ...,\n          8.99999986e-09, -5.59426172e-10, -9.12458908e-09],\n        [-1.62991731e-09,  4.36669545e-09, -3.93116784e-09, ...,\n          1.34200935e-08,  2.31011277e-09,  6.43285336e-09],\n        [ 6.13665030e-09,  1.14270637e-09, -6.05177330e-09, ...,\n          4.52005544e-09, -1.33396516e-10,  8.04053002e-09],\n        ...,\n        [ 1.13549697e-10,  1.85714499e-11,  2.66298067e-10, ...,\n          7.48085860e-09, -9.83530146e-10,  2.41253506e-09],\n        [ 1.08445464e-09,  1.28854694e-09, -9.02304564e-10, ...,\n         -1.27179300e-09, -1.82905657e-09, -4.79436352e-11],\n        [ 9.99598959e-10, -7.96664734e-10,  8.13669798e-10, ...,\n         -2.69233347e-09, -3.03273384e-09, -9.83941462e-09]], dtype=float32),\n array([-2.53339704e-06, -1.14719251e-06, -5.71781220e-06,  3.43831744e-06,\n         7.32096714e-06, -2.80481487e-08,  1.52322241e-06, -3.34381980e-06,\n         3.70558200e-06,  3.71262013e-06,  1.33326080e-06, -9.46986165e-06,\n         2.00312797e-06, -2.57204147e-06, -5.34970059e-06,  2.17880483e-06,\n        -2.18621062e-06, -9.70156407e-07, -2.70938614e-07,  1.34882168e-06,\n        -2.11512747e-06, -2.99125463e-06,  2.22207950e-06, -3.01981208e-06,\n        -7.23835399e-07, -2.33024093e-06,  4.92509616e-06, -2.60123852e-06,\n         8.85765530e-06,  1.32513571e-06, -3.22373648e-06, -2.84909174e-06,\n        -5.50332015e-06,  7.80813366e-07,  1.10072449e-07,  3.78491814e-06,\n         4.05626042e-06, -4.45981595e-06, -3.88212629e-06,  2.62803223e-06,\n         4.75884553e-06,  4.19037087e-06, -2.32046591e-06, -7.26871258e-06,\n         4.70830855e-07,  2.32405318e-06,  2.51144729e-06, -3.18995177e-07,\n        -2.52821337e-06,  2.41993632e-07, -3.82408246e-07,  1.96261658e-06,\n         1.31974048e-06, -3.10414634e-07,  4.80217568e-06,  1.04025121e-05,\n        -1.66966754e-06, -1.53798999e-06, -6.25068606e-06,  3.16251680e-06,\n         9.06675893e-07,  3.53213090e-06,  2.80627091e-06,  2.67376390e-06,\n         2.84786529e-06, -2.82032079e-06,  1.28698753e-06,  3.04414880e-06,\n         5.18670549e-06,  8.44625902e-06,  2.88485353e-06, -3.26746658e-06,\n         1.39965789e-06,  9.07419292e-07, -1.45101694e-07, -2.13882504e-06,\n        -3.60215677e-06, -8.98343933e-06,  7.68019333e-07,  1.31508386e-06,\n        -1.87775044e-07,  1.13216436e-06, -6.47354636e-06, -1.43627744e-06,\n         6.63379979e-06,  3.30255034e-06,  1.93275650e-06, -2.89399372e-06,\n         6.99439624e-07,  1.60343257e-06, -7.94101652e-06, -8.23129710e-07,\n         4.62447360e-06,  2.41508474e-07, -7.21564811e-06, -1.86596981e-06,\n        -2.59596118e-06,  5.90130981e-07,  1.24774499e-06,  1.43346995e-06,\n        -8.85244845e-07, -2.42439069e-06,  5.28583359e-06, -4.25269354e-06,\n         4.73611954e-06, -1.96927431e-06,  9.51957929e-07, -8.76593560e-07,\n         2.19250956e-06,  2.47315597e-06,  2.54463907e-06, -1.74456227e-06,\n        -3.41363375e-06,  2.23297639e-06, -1.00276191e-06,  2.18988544e-06,\n         6.26694236e-06,  9.74723775e-07, -2.58152113e-06,  8.50286824e-07,\n        -2.16132776e-06,  1.14280101e-06, -4.93135349e-06, -1.67407234e-06,\n         6.49266985e-06,  2.73920728e-06,  4.81134384e-06,  5.47118952e-06,\n        -5.69856493e-03,  1.04635786e-02,  1.07203359e-02, -2.13387236e-03,\n         1.78957786e-02, -6.61355257e-03, -8.18811171e-03,  4.84450301e-03,\n         1.72922052e-02,  9.27556027e-03, -1.17500881e-02, -4.92019281e-02,\n         7.07774144e-03,  2.23040804e-02, -2.89325882e-02,  1.59825627e-02,\n        -1.41607430e-02, -4.84999386e-04, -1.43374102e-02,  1.96076110e-02,\n        -6.73189247e-03, -1.78361405e-02,  2.04427596e-02,  6.10657362e-03,\n         7.05482624e-03, -1.84793621e-02, -1.25750969e-03, -1.82034280e-02,\n         1.16258496e-02,  1.93250983e-03,  1.86604336e-02, -2.38174219e-02,\n        -3.34201194e-02, -3.08998134e-02, -1.17015252e-02, -8.74085911e-03,\n        -1.51052307e-02,  1.88244041e-02,  7.33522186e-03,  1.98572110e-02,\n         1.94554422e-02, -1.85591634e-02,  6.82677515e-03, -2.83903279e-03,\n         2.19981978e-03, -2.01178435e-02, -9.13424324e-03, -1.00255935e-02,\n         3.93968599e-04,  3.32354791e-02,  1.04641728e-02, -1.34036401e-02,\n         1.23598389e-02, -2.64823064e-03,  2.22322647e-03,  3.52647454e-02,\n         1.61061380e-02, -1.92762027e-03, -2.97976509e-02,  7.93822668e-03,\n         4.56849393e-03,  1.23667344e-02,  8.16718861e-03, -9.82540846e-03,\n         2.34575500e-03,  8.98061600e-03, -2.09044684e-02, -3.09542660e-03,\n         9.56856180e-04, -1.85735989e-02, -3.65298754e-03,  9.13057849e-03,\n         1.02757122e-02,  8.59696977e-03,  2.72388905e-02, -1.50898285e-02,\n        -3.54351313e-03,  1.76502913e-02, -7.87904207e-03, -1.47283683e-02,\n        -1.65971052e-02,  2.75193388e-03, -2.75923349e-02,  2.95072068e-02,\n        -5.01994975e-04, -4.88515664e-03,  1.07862651e-02, -4.27287119e-03,\n        -1.32860951e-02, -1.71499550e-02, -1.40475221e-02,  1.82402208e-02,\n        -2.21231394e-03,  1.64256617e-02,  1.84785444e-02,  6.32511871e-03,\n         2.47215270e-04, -1.15608959e-03,  1.08905239e-02, -2.29207636e-03,\n        -4.73955297e-05, -1.33557804e-02, -3.52970092e-03, -2.79023908e-02,\n         4.97128698e-04, -1.74358580e-02, -8.29938799e-03, -8.39648477e-04,\n        -1.50485393e-02, -1.31798279e-03, -4.94108489e-03, -1.18399896e-02,\n        -3.52049805e-03,  1.04374923e-02, -8.09366722e-03, -7.71305664e-03,\n         2.59861555e-02,  1.20717082e-02,  3.84571240e-03,  2.99373362e-02,\n        -4.20404598e-03,  1.21006777e-03, -5.00993477e-03, -6.23277738e-04,\n         7.62889162e-03,  1.44040743e-02, -3.35798459e-03, -9.09185037e-03,\n         3.57289309e-07, -1.83361124e-06,  4.39869467e-07,  1.52175858e-06,\n         5.27280417e-06,  5.92830361e-07,  3.14089243e-06, -2.59289595e-06,\n         4.37969493e-06,  1.64627909e-06,  2.05639992e-07, -6.96530697e-06,\n         1.33101480e-06, -1.34056336e-06, -3.04243781e-06,  6.67455367e-07,\n         1.39813295e-07,  2.14819761e-06, -3.43341355e-07,  7.94819073e-07,\n        -3.46453999e-06, -1.19773040e-06,  9.20792218e-07, -1.06986158e-06,\n         1.54369695e-06, -1.33638093e-06,  2.55592818e-06, -3.09636289e-06,\n         7.76615616e-06,  1.68053998e-06, -3.03197157e-06, -2.63007655e-06,\n        -4.39337964e-06,  1.54169140e-06, -4.84818941e-07,  2.52804762e-06,\n         3.21936500e-06, -2.31947524e-06, -3.43506008e-06,  1.29086038e-06,\n         2.57461375e-06,  2.19158164e-06,  4.47293367e-08, -5.26029817e-06,\n         1.00903520e-07,  3.27657312e-06,  3.52121401e-06,  1.55616260e-06,\n        -8.33130912e-07, -5.06234585e-07, -2.96651592e-06,  3.09681991e-06,\n        -8.09383891e-07,  7.67558504e-07,  2.85458736e-06,  8.02775776e-06,\n        -1.57541103e-06, -6.74516627e-07, -4.30283171e-06,  1.72929231e-06,\n        -1.36400456e-06,  2.77647609e-06,  3.95102325e-06,  5.56283157e-06,\n        -8.68476633e-08, -1.15913721e-07, -1.83905001e-07,  3.13076998e-06,\n         3.18335151e-06,  4.45374508e-06, -5.79279231e-07, -4.25454374e-07,\n         6.73881800e-07,  3.15143143e-06,  3.11290228e-06,  1.23666496e-06,\n        -3.33866160e-06, -7.25260224e-06, -4.87618536e-07,  2.91938863e-06,\n         5.53800191e-07,  4.10130127e-07, -4.26801898e-06,  2.25106464e-06,\n         2.06313462e-06,  5.76710136e-06,  5.13058353e-07, -9.04378055e-07,\n         1.46146874e-06,  2.02501633e-06, -3.34690276e-06, -1.13371777e-06,\n         3.07560708e-06,  1.36520157e-06, -6.64228583e-06, -1.63238553e-06,\n         2.86409829e-08, -1.20442223e-06, -5.62385935e-07,  5.05678145e-07,\n         1.66405357e-06, -3.94003246e-06,  5.43512442e-06, -2.40409099e-06,\n         3.43614306e-06, -1.18903176e-06,  2.21880305e-06, -3.99993638e-07,\n         1.01144872e-06,  5.01877025e-07,  3.96825499e-06, -3.22030155e-06,\n        -2.13124463e-06,  2.43070895e-06, -5.86972760e-07,  2.69524367e-06,\n         6.21176878e-06, -8.17881130e-07, -3.55050565e-06, -9.65011509e-07,\n         2.26744237e-06,  5.21776144e-07, -2.08841493e-06,  1.95818120e-06,\n         5.39355960e-06,  2.58111027e-06,  3.29770069e-06,  4.56892076e-06,\n        -2.53583448e-06, -1.14630166e-06, -5.71661121e-06,  3.44074897e-06,\n         7.32201352e-06, -3.13538990e-08,  1.53061808e-06, -3.34410242e-06,\n         3.70277735e-06,  3.71397641e-06,  1.33432479e-06, -9.47428271e-06,\n         2.00213572e-06, -2.57425268e-06, -5.34293895e-06,  2.18050877e-06,\n        -2.18269224e-06, -9.66881316e-07, -2.65587772e-07,  1.35311302e-06,\n        -2.11406859e-06, -2.99065846e-06,  2.22755398e-06, -3.02167587e-06,\n        -7.20906939e-07, -2.32662705e-06,  4.93131347e-06, -2.59761350e-06,\n         8.86144426e-06,  1.32069692e-06, -3.22138180e-06, -2.84294788e-06,\n        -5.50412051e-06,  7.77265370e-07,  1.06706139e-07,  3.78465052e-06,\n         4.05451783e-06, -4.45998876e-06, -3.88087210e-06,  2.62605568e-06,\n         4.75557181e-06,  4.18550007e-06, -2.31889180e-06, -7.26879580e-06,\n         4.72200270e-07,  2.31913282e-06,  2.50945072e-06, -3.18655452e-07,\n        -2.53311373e-06,  2.40945951e-07, -3.84615191e-07,  1.97041027e-06,\n         1.31801892e-06, -3.11859026e-07,  4.80169683e-06,  1.04030059e-05,\n        -1.66839209e-06, -1.54055306e-06, -6.25259781e-06,  3.16039132e-06,\n         9.03845375e-07,  3.52715915e-06,  2.80841527e-06,  2.67546648e-06,\n         2.85117676e-06, -2.81778421e-06,  1.28904514e-06,  3.04288005e-06,\n         5.18763318e-06,  8.43610906e-06,  2.88514912e-06, -3.27068938e-06,\n         1.39788983e-06,  9.08947186e-07, -1.56274453e-07, -2.14096372e-06,\n        -3.60296144e-06, -8.98716826e-06,  7.69098051e-07,  1.31314039e-06,\n        -1.94681988e-07,  1.13088106e-06, -6.47711840e-06, -1.43757120e-06,\n         6.63175024e-06,  3.29742625e-06,  1.93027790e-06, -2.89607124e-06,\n         6.97484325e-07,  1.60143009e-06, -7.93816707e-06, -8.19798856e-07,\n         4.63373954e-06,  2.47081289e-07, -7.20977596e-06, -1.86640614e-06,\n        -2.59928470e-06,  6.02266994e-07,  1.24995472e-06,  1.42852855e-06,\n        -8.87689566e-07, -2.42687361e-06,  5.28428154e-06, -4.24895597e-06,\n         4.73899945e-06, -1.96893461e-06,  9.52991115e-07, -8.76395291e-07,\n         2.18643254e-06,  2.46882951e-06,  2.54536099e-06, -1.74379829e-06,\n        -3.40948827e-06,  2.23519487e-06, -1.00603006e-06,  2.20254901e-06,\n         6.25923849e-06,  9.75250714e-07, -2.57963347e-06,  8.49083733e-07,\n        -2.16248191e-06,  1.13796330e-06, -4.93616608e-06, -1.67378232e-06,\n         6.49245567e-06,  2.74054855e-06,  4.81616189e-06,  5.47309810e-06],\n       dtype=float32),\n array([[-3.4766988e-05, -6.7356705e-05, -6.3563930e-05, ...,\n          7.0121580e-08,  6.9953209e-08,  7.0078464e-08],\n        [ 3.2722473e-05,  1.8906702e-04, -5.6001707e-05, ...,\n         -1.2135153e-08, -1.2132606e-08, -1.2164136e-08],\n        [ 7.8899420e-06,  2.1731600e-04,  3.3817074e-04, ...,\n         -3.4232886e-07, -3.4151310e-07, -3.4209498e-07],\n        ...,\n        [-2.9769857e-04, -4.1486821e-04, -2.0483771e-04, ...,\n          4.1369628e-07,  4.1274316e-07,  4.1346237e-07],\n        [ 5.7082143e-06,  2.1734077e-04, -3.9618999e-06, ...,\n         -5.9742170e-08, -5.9632555e-08, -5.9734973e-08],\n        [ 1.7340525e-04,  2.5039155e-04,  2.4685054e-04, ...,\n         -4.3108133e-07, -4.3001251e-07, -4.3076321e-07]], dtype=float32),\n array([-0.7813237 , -1.0979872 , -0.9813304 , ...,  0.00198788,\n         0.00198309,  0.00198661], dtype=float32)]"
                    },
                    "execution_count": 43,
                    "metadata": {},
                    "output_type": "execute_result"
                }
            ],
            "source": "session.run(grads, feed_dict)"
        },
        {
            "cell_type": "markdown",
            "metadata": {
                "button": false,
                "deletable": true,
                "new_sheet": false,
                "run_control": {
                    "read_only": false
                }
            },
            "source": "<h4>4. Apply the optimizer to the variables / gradients tuple.</h4>"
        },
        {
            "cell_type": "code",
            "execution_count": 44,
            "metadata": {
                "button": false,
                "deletable": true,
                "new_sheet": false,
                "run_control": {
                    "read_only": false
                }
            },
            "outputs": [],
            "source": "# Create the training TensorFlow Operation through our optimizer\ntrain_op = optimizer.apply_gradients(zip(grads, tvars))"
        },
        {
            "cell_type": "code",
            "execution_count": 45,
            "metadata": {
                "button": false,
                "deletable": true,
                "new_sheet": false,
                "run_control": {
                    "read_only": false
                }
            },
            "outputs": [],
            "source": "session.run(tf.global_variables_initializer())\nsession.run(train_op, feed_dict)"
        },
        {
            "cell_type": "markdown",
            "metadata": {},
            "source": "<a id=\"ltsm\"></a>\n<h2>LSTM</h2>"
        },
        {
            "cell_type": "markdown",
            "metadata": {
                "button": false,
                "deletable": true,
                "new_sheet": false,
                "run_control": {
                    "read_only": false
                }
            },
            "source": "We learned how the model is build step by step. Noe, let's then create a Class that represents our model. This class needs a few things:\n<ul>\n    <li>We have to create the model in accordance with our defined hyperparameters</li>\n    <li>We have to create the placeholders for our input data and expected outputs (the real data)</li>\n    <li>We have to create the LSTM cell structure and connect them with our RNN structure</li>\n    <li>We have to create the word embeddings and point them to the input data</li>\n    <li>We have to create the input structure for our RNN</li>\n    <li>We have to instantiate our RNN model and retrieve the variable in which we should expect our outputs to appear</li>\n    <li>We need to create a logistic structure to return the probability of our words</li>\n    <li>We need to create the loss and cost functions for our optimizer to work, and then create the optimizer</li>\n    <li>And finally, we need to create a training operation that can be run to actually train our model</li>\n</ul>"
        },
        {
            "cell_type": "code",
            "execution_count": 46,
            "metadata": {},
            "outputs": [
                {
                    "data": {
                        "text/plain": "256"
                    },
                    "execution_count": 46,
                    "metadata": {},
                    "output_type": "execute_result"
                }
            ],
            "source": "hidden_size_l1"
        },
        {
            "cell_type": "code",
            "execution_count": 47,
            "metadata": {
                "button": false,
                "deletable": true,
                "new_sheet": false,
                "run_control": {
                    "read_only": false
                }
            },
            "outputs": [],
            "source": "class PTBModel(object):\n\n    def __init__(self, action_type):\n        ######################################\n        # Setting parameters for ease of use #\n        ######################################\n        self.batch_size = batch_size\n        self.num_steps = num_steps\n        self.hidden_size_l1 = hidden_size_l1\n        self.hidden_size_l2 = hidden_size_l2\n        self.vocab_size = vocab_size\n        self.embeding_vector_size = embeding_vector_size\n        ###############################################################################\n        # Creating placeholders for our input data and expected outputs (target data) #\n        ###############################################################################\n        self._input_data = tf.placeholder(tf.int32, [batch_size, num_steps]) #[30#20]\n        self._targets = tf.placeholder(tf.int32, [batch_size, num_steps]) #[30#20]\n\n        ##########################################################################\n        # Creating the LSTM cell structure and connect it with the RNN structure #\n        ##########################################################################\n        # Create the LSTM unit. \n        # This creates only the structure for the LSTM and has to be associated with a RNN unit still.\n        # The argument n_hidden(size=200) of BasicLSTMCell is size of hidden layer, that is, the number of hidden units of the LSTM (inside A).\n        # Size is the same as the size of our hidden layer, and no bias is added to the Forget Gate. \n        # LSTM cell processes one word at a time and computes probabilities of the possible continuations of the sentence.\n        lstm_cell_l1 = tf.contrib.rnn.BasicLSTMCell(self.hidden_size_l1, forget_bias=0.0)\n        lstm_cell_l2 = tf.contrib.rnn.BasicLSTMCell(self.hidden_size_l2, forget_bias=0.0)\n        \n        # Unless you changed keep_prob, this won't actually execute -- this is a dropout wrapper for our LSTM unit\n        # This is an optimization of the LSTM output, but is not needed at all\n        if action_type == \"is_training\" and keep_prob < 1:\n            lstm_cell_l1 = tf.contrib.rnn.DropoutWrapper(lstm_cell_l1, output_keep_prob=keep_prob)\n            lstm_cell_l2 = tf.contrib.rnn.DropoutWrapper(lstm_cell_l2, output_keep_prob=keep_prob)\n        \n        # By taking in the LSTM cells as parameters, the MultiRNNCell function junctions the LSTM units to the RNN units.\n        # RNN cell composed sequentially of multiple simple cells.\n        stacked_lstm = tf.contrib.rnn.MultiRNNCell([lstm_cell_l1, lstm_cell_l2])\n\n        # Define the initial state, i.e., the model state for the very first data point\n        # It initialize the state of the LSTM memory. The memory state of the network is initialized with a vector of zeros and gets updated after reading each word.\n        self._initial_state = stacked_lstm.zero_state(batch_size, tf.float32)\n\n        ####################################################################\n        # Creating the word embeddings and pointing them to the input data #\n        ####################################################################\n        with tf.device(\"/cpu:0\"):\n            # Create the embeddings for our input data. Size is hidden size.\n            embedding = tf.get_variable(\"embedding\", [vocab_size, self.embeding_vector_size])  #[10000x200]\n            # Define where to get the data for our embeddings from\n            inputs = tf.nn.embedding_lookup(embedding, self._input_data)\n\n        # Unless you changed keep_prob, this won't actually execute -- this is a dropout addition for our inputs\n        # This is an optimization of the input processing and is not needed at all\n        if action_type == \"is_training\" and keep_prob < 1:\n            inputs = tf.nn.dropout(inputs, keep_prob)\n\n        ############################################\n        # Creating the input structure for our RNN #\n        ############################################\n        # Input structure is 20x[30x200]\n        # Considering each word is represended by a 200 dimentional vector, and we have 30 batchs, we create 30 word-vectors of size [30xx2000]\n        # inputs = [tf.squeeze(input_, [1]) for input_ in tf.split(1, num_steps, inputs)]\n        # The input structure is fed from the embeddings, which are filled in by the input data\n        # Feeding a batch of b sentences to a RNN:\n        # In step 1,  first word of each of the b sentences (in a batch) is input in parallel.  \n        # In step 2,  second word of each of the b sentences is input in parallel. \n        # The parallelism is only for efficiency.  \n        # Each sentence in a batch is handled in parallel, but the network sees one word of a sentence at a time and does the computations accordingly. \n        # All the computations involving the words of all sentences in a batch at a given time step are done in parallel. \n\n        ####################################################################################################\n        # Instantiating our RNN model and retrieving the structure for returning the outputs and the state #\n        ####################################################################################################\n        \n        outputs, state = tf.nn.dynamic_rnn(stacked_lstm, inputs, initial_state=self._initial_state)\n        #########################################################################\n        # Creating a logistic unit to return the probability of the output word #\n        #########################################################################\n        output = tf.reshape(outputs, [-1, self.hidden_size_l2])\n        softmax_w = tf.get_variable(\"softmax_w\", [self.hidden_size_l2, vocab_size]) #[200x1000]\n        softmax_b = tf.get_variable(\"softmax_b\", [vocab_size]) #[1x1000]\n        logits = tf.matmul(output, softmax_w) + softmax_b\n        logits = tf.reshape(logits, [self.batch_size, self.num_steps, vocab_size])\n        prob = tf.nn.softmax(logits)\n        out_words = tf.argmax(prob, axis=2)\n        self._output_words = out_words\n        #########################################################################\n        # Defining the loss and cost functions for the model's learning to work #\n        #########################################################################\n            \n\n        # Use the contrib sequence loss and average over the batches\n        loss = tf.contrib.seq2seq.sequence_loss(\n            logits,\n            self.targets,\n            tf.ones([batch_size, num_steps], dtype=tf.float32),\n            average_across_timesteps=False,\n            average_across_batch=True)\n    \n#         loss = tf.contrib.legacy_seq2seq.sequence_loss_by_example([logits], [tf.reshape(self._targets, [-1])],\n#                                                       [tf.ones([batch_size * num_steps])])\n        self._cost = tf.reduce_sum(loss)\n\n        # Store the final state\n        self._final_state = state\n\n        #Everything after this point is relevant only for training\n        if action_type != \"is_training\":\n            return\n\n        #################################################\n        # Creating the Training Operation for our Model #\n        #################################################\n        # Create a variable for the learning rate\n        self._lr = tf.Variable(0.0, trainable=False)\n        # Get all TensorFlow variables marked as \"trainable\" (i.e. all of them except _lr, which we just created)\n        tvars = tf.trainable_variables()\n        # Define the gradient clipping threshold\n        grads, _ = tf.clip_by_global_norm(tf.gradients(self._cost, tvars), max_grad_norm)\n        # Create the gradient descent optimizer with our learning rate\n        optimizer = tf.train.GradientDescentOptimizer(self.lr)\n        # Create the training TensorFlow Operation through our optimizer\n        self._train_op = optimizer.apply_gradients(zip(grads, tvars))\n\n    # Helper functions for our LSTM RNN class\n\n    # Assign the learning rate for this model\n    def assign_lr(self, session, lr_value):\n        session.run(tf.assign(self.lr, lr_value))\n\n    # Returns the input data for this model at a point in time\n    @property\n    def input_data(self):\n        return self._input_data\n\n\n    \n    # Returns the targets for this model at a point in time\n    @property\n    def targets(self):\n        return self._targets\n\n    # Returns the initial state for this model\n    @property\n    def initial_state(self):\n        return self._initial_state\n\n    # Returns the defined Cost\n    @property\n    def cost(self):\n        return self._cost\n\n    # Returns the final state for this model\n    @property\n    def final_state(self):\n        return self._final_state\n    \n    # Returns the final output words for this model\n    @property\n    def final_output_words(self):\n        return self._output_words\n    \n    # Returns the current learning rate for this model\n    @property\n    def lr(self):\n        return self._lr\n\n    # Returns the training operation defined for this model\n    @property\n    def train_op(self):\n        return self._train_op"
        },
        {
            "cell_type": "markdown",
            "metadata": {
                "button": false,
                "deletable": true,
                "new_sheet": false,
                "run_control": {
                    "read_only": false
                }
            },
            "source": "With that, the actual structure of our Recurrent Neural Network with Long Short-Term Memory is finished. What remains for us to do is to actually create the methods to run through time -- that is, the <code>run_epoch</code> method to be run at each epoch and a <code>main</code> script which ties all of this together.\n\nWhat our <code>run_epoch</code> method should do is take our input data and feed it to the relevant operations. This will return at the very least the current result for the cost function."
        },
        {
            "cell_type": "code",
            "execution_count": 48,
            "metadata": {
                "button": false,
                "deletable": true,
                "new_sheet": false,
                "run_control": {
                    "read_only": false
                }
            },
            "outputs": [],
            "source": "##########################################################################################################################\n# run_one_epoch takes as parameters the current session, the model instance, the data to be fed, and the operation to be run #\n##########################################################################################################################\ndef run_one_epoch(session, m, data, eval_op, verbose=False):\n\n    #Define the epoch size based on the length of the data, batch size and the number of steps\n    epoch_size = ((len(data) // m.batch_size) - 1) // m.num_steps\n    start_time = time.time()\n    costs = 0.0\n    iters = 0\n\n    state = session.run(m.initial_state)\n    \n    #For each step and data point\n    for step, (x, y) in enumerate(reader.ptb_iterator(data, m.batch_size, m.num_steps)):\n        \n        #Evaluate and return cost, state by running cost, final_state and the function passed as parameter\n        cost, state, out_words, _ = session.run([m.cost, m.final_state, m.final_output_words, eval_op],\n                                     {m.input_data: x,\n                                      m.targets: y,\n                                      m.initial_state: state})\n\n        #Add returned cost to costs (which keeps track of the total costs for this epoch)\n        costs += cost\n        \n        #Add number of steps to iteration counter\n        iters += m.num_steps\n\n        if verbose and step % (epoch_size // 10) == 10:\n            print(\"Itr %d of %d, perplexity: %.3f speed: %.0f wps\" % (step , epoch_size, np.exp(costs / iters), iters * m.batch_size / (time.time() - start_time)))\n\n    # Returns the Perplexity rating for us to keep track of how the model is evolving\n    return np.exp(costs / iters)\n"
        },
        {
            "cell_type": "markdown",
            "metadata": {
                "button": false,
                "deletable": true,
                "new_sheet": false,
                "run_control": {
                    "read_only": false
                }
            },
            "source": "Now, we create the <code>main</code> method to tie everything together. The code here reads the data from the directory, using the <code>reader</code> helper module, and then trains and evaluates the model on both a testing and a validating subset of data."
        },
        {
            "cell_type": "code",
            "execution_count": 49,
            "metadata": {
                "button": false,
                "deletable": true,
                "new_sheet": false,
                "run_control": {
                    "read_only": false
                }
            },
            "outputs": [],
            "source": "# Reads the data and separates it into training data, validation data and testing data\nraw_data = reader.ptb_raw_data(data_dir)\ntrain_data, valid_data, test_data, _, _ = raw_data"
        },
        {
            "cell_type": "code",
            "execution_count": null,
            "metadata": {
                "button": false,
                "deletable": true,
                "new_sheet": false,
                "run_control": {
                    "read_only": false
                }
            },
            "outputs": [
                {
                    "name": "stdout",
                    "output_type": "stream",
                    "text": "Epoch 1 : Learning rate: 1.000\nItr 10 of 774, perplexity: 4234.017 speed: 2012 wps\nItr 87 of 774, perplexity: 1289.549 speed: 2057 wps\nItr 164 of 774, perplexity: 992.240 speed: 2056 wps\nItr 241 of 774, perplexity: 825.826 speed: 2057 wps\nItr 318 of 774, perplexity: 730.854 speed: 2059 wps\nItr 395 of 774, perplexity: 653.598 speed: 2063 wps\nItr 472 of 774, perplexity: 592.368 speed: 2064 wps\nItr 549 of 774, perplexity: 538.004 speed: 2066 wps\nItr 626 of 774, perplexity: 494.331 speed: 2067 wps\nItr 703 of 774, perplexity: 459.785 speed: 2066 wps\nEpoch 1 : Train Perplexity: 435.102\nEpoch 1 : Valid Perplexity: 238.385\nEpoch 2 : Learning rate: 1.000\nItr 10 of 774, perplexity: 275.968 speed: 2052 wps\nItr 87 of 774, perplexity: 241.356 speed: 2059 wps\nItr 164 of 774, perplexity: 231.254 speed: 2051 wps\nItr 241 of 774, perplexity: 221.353 speed: 2050 wps\nItr 318 of 774, perplexity: 218.331 speed: 2054 wps\nItr 395 of 774, perplexity: 212.463 speed: 2054 wps\nItr 472 of 774, perplexity: 207.961 speed: 2057 wps\nItr 549 of 774, perplexity: 201.241 speed: 2053 wps\nItr 626 of 774, perplexity: 195.641 speed: 2050 wps\nItr 703 of 774, perplexity: 191.374 speed: 2050 wps\nEpoch 2 : Train Perplexity: 188.590\nEpoch 2 : Valid Perplexity: 175.227\nEpoch 3 : Learning rate: 1.000\nItr 10 of 774, perplexity: 189.421 speed: 1966 wps\nItr 87 of 774, perplexity: 161.313 speed: 2066 wps\nItr 164 of 774, perplexity: 157.431 speed: 2061 wps\nItr 241 of 774, perplexity: 152.634 speed: 2060 wps\nItr 318 of 774, perplexity: 152.683 speed: 2064 wps\nItr 395 of 774, perplexity: 149.935 speed: 2065 wps\nItr 472 of 774, perplexity: 148.372 speed: 2063 wps\nItr 549 of 774, perplexity: 144.610 speed: 2062 wps\nItr 626 of 774, perplexity: 141.690 speed: 2062 wps\nItr 703 of 774, perplexity: 139.767 speed: 2062 wps\nEpoch 3 : Train Perplexity: 138.697\nEpoch 3 : Valid Perplexity: 151.420\nEpoch 4 : Learning rate: 1.000\nItr 10 of 774, perplexity: 150.457 speed: 2036 wps\nItr 87 of 774, perplexity: 127.720 speed: 2052 wps\nItr 164 of 774, perplexity: 125.664 speed: 2064 wps\nItr 241 of 774, perplexity: 122.270 speed: 2071 wps\nItr 318 of 774, perplexity: 122.898 speed: 2074 wps\nItr 395 of 774, perplexity: 121.007 speed: 2073 wps\nItr 472 of 774, perplexity: 120.330 speed: 2074 wps\nItr 549 of 774, perplexity: 117.524 speed: 2075 wps\nItr 626 of 774, perplexity: 115.508 speed: 2073 wps\nItr 703 of 774, perplexity: 114.375 speed: 2072 wps\nEpoch 4 : Train Perplexity: 113.838\nEpoch 4 : Valid Perplexity: 140.600\nEpoch 5 : Learning rate: 1.000\nItr 10 of 774, perplexity: 127.430 speed: 2056 wps\nItr 87 of 774, perplexity: 108.229 speed: 2091 wps\nItr 164 of 774, perplexity: 107.070 speed: 2092 wps\nItr 241 of 774, perplexity: 104.382 speed: 2093 wps\nItr 318 of 774, perplexity: 105.241 speed: 2094 wps\nItr 395 of 774, perplexity: 103.760 speed: 2091 wps\nItr 472 of 774, perplexity: 103.297 speed: 2088 wps\nItr 549 of 774, perplexity: 101.003 speed: 2088 wps\nItr 626 of 774, perplexity: 99.485 speed: 2085 wps\nItr 703 of 774, perplexity: 98.720 speed: 2079 wps\nEpoch 5 : Train Perplexity: 98.457\nEpoch 5 : Valid Perplexity: 133.981\nEpoch 6 : Learning rate: 0.500\nItr 10 of 774, perplexity: 109.340 speed: 2060 wps\nItr 87 of 774, perplexity: 92.454 speed: 2069 wps\nItr 164 of 774, perplexity: 90.614 speed: 2073 wps\nItr 241 of 774, perplexity: 87.799 speed: 2074 wps\nItr 318 of 774, perplexity: 88.036 speed: 2070 wps\nItr 395 of 774, perplexity: 86.218 speed: 2065 wps\nItr 472 of 774, perplexity: 85.493 speed: 2067 wps\nItr 549 of 774, perplexity: 83.107 speed: 2068 wps\nItr 626 of 774, perplexity: 81.431 speed: 2070 wps\nItr 703 of 774, perplexity: 80.401 speed: 2073 wps\nEpoch 6 : Train Perplexity: 79.848\nEpoch 6 : Valid Perplexity: 125.340\nEpoch 7 : Learning rate: 0.250\nItr 10 of 774, perplexity: 95.281 speed: 2016 wps\nItr 87 of 774, perplexity: 81.618 speed: 2075 wps\nItr 164 of 774, perplexity: 80.190 speed: 2062 wps\nItr 241 of 774, perplexity: 77.608 speed: 2061 wps\nItr 318 of 774, perplexity: 77.830 speed: 2063 wps\nItr 395 of 774, perplexity: 76.119 speed: 2064 wps\nItr 472 of 774, perplexity: 75.404 speed: 2062 wps\nItr 549 of 774, perplexity: 73.183 speed: 2062 wps\nItr 626 of 774, perplexity: 71.581 speed: 2065 wps\nItr 703 of 774, perplexity: 70.527 speed: 2066 wps\nEpoch 7 : Train Perplexity: 69.904\nEpoch 7 : Valid Perplexity: 122.891\nEpoch 8 : Learning rate: 0.125\nItr 10 of 774, perplexity: 87.819 speed: 2012 wps\nItr 87 of 774, perplexity: 75.597 speed: 2068 wps\nItr 164 of 774, perplexity: 74.300 speed: 2071 wps\nItr 241 of 774, perplexity: 71.921 speed: 2073 wps\nItr 318 of 774, perplexity: 72.158 speed: 2073 wps\nItr 395 of 774, perplexity: 70.559 speed: 2071 wps\nItr 472 of 774, perplexity: 69.855 speed: 2059 wps\nItr 549 of 774, perplexity: 67.753 speed: 2052 wps\nItr 626 of 774, perplexity: 66.224 speed: 2055 wps\nItr 703 of 774, perplexity: 65.183 speed: 2059 wps\nEpoch 8 : Train Perplexity: 64.552\nEpoch 8 : Valid Perplexity: 122.098\nEpoch 9 : Learning rate: 0.062\nItr 10 of 774, perplexity: 83.820 speed: 2022 wps\nItr 87 of 774, perplexity: 72.227 speed: 2081 wps\nItr 164 of 774, perplexity: 71.011 speed: 2077 wps\nItr 241 of 774, perplexity: 68.749 speed: 2078 wps\nItr 318 of 774, perplexity: 69.018 speed: 2081 wps\nItr 395 of 774, perplexity: 67.500 speed: 2080 wps\nItr 472 of 774, perplexity: 66.815 speed: 2078 wps\nItr 549 of 774, perplexity: 64.788 speed: 2079 wps\nItr 626 of 774, perplexity: 63.305 speed: 2078 wps\nItr 703 of 774, perplexity: 62.280 speed: 2077 wps\nEpoch 9 : Train Perplexity: 61.654\nEpoch 9 : Valid Perplexity: 121.738\nEpoch 10 : Learning rate: 0.031\nItr 10 of 774, perplexity: 81.782 speed: 2028 wps\nItr 87 of 774, perplexity: 70.354 speed: 2064 wps\nItr 164 of 774, perplexity: 69.179 speed: 2067 wps\nItr 241 of 774, perplexity: 66.997 speed: 2067 wps\nItr 318 of 774, perplexity: 67.280 speed: 2066 wps\nItr 395 of 774, perplexity: 65.811 speed: 2068 wps\nItr 472 of 774, perplexity: 65.136 speed: 2068 wps\nItr 549 of 774, perplexity: 63.156 speed: 2065 wps\nItr 626 of 774, perplexity: 61.701 speed: 2067 wps\nItr 703 of 774, perplexity: 60.687 speed: 2069 wps\nEpoch 10 : Train Perplexity: 60.069\nEpoch 10 : Valid Perplexity: 121.557\nEpoch 11 : Learning rate: 0.016\nItr 10 of 774, perplexity: 80.737 speed: 2071 wps\nItr 87 of 774, perplexity: 69.367 speed: 2072 wps\nItr 164 of 774, perplexity: 68.201 speed: 2073 wps\nItr 241 of 774, perplexity: 66.059 speed: 2074 wps\nItr 318 of 774, perplexity: 66.340 speed: 2074 wps\nItr 395 of 774, perplexity: 64.891 speed: 2072 wps\nItr 472 of 774, perplexity: 64.221 speed: 2069 wps\nItr 549 of 774, perplexity: 62.266 speed: 2069 wps\nItr 626 of 774, perplexity: 60.826 speed: 2068 wps\nItr 703 of 774, perplexity: 59.817 speed: 2067 wps\nEpoch 11 : Train Perplexity: 59.205\nEpoch 11 : Valid Perplexity: 121.417\nEpoch 12 : Learning rate: 0.008\nItr 10 of 774, perplexity: 80.098 speed: 2051 wps\nItr 87 of 774, perplexity: 68.831 speed: 2059 wps\nItr 164 of 774, perplexity: 67.678 speed: 2054 wps\nItr 241 of 774, perplexity: 65.557 speed: 2051 wps\nItr 318 of 774, perplexity: 65.833 speed: 2049 wps\nItr 395 of 774, perplexity: 64.393 speed: 2051 wps\nItr 472 of 774, perplexity: 63.729 speed: 2049 wps\nItr 549 of 774, perplexity: 61.784 speed: 2048 wps\nItr 626 of 774, perplexity: 60.352 speed: 2050 wps\n"
                }
            ],
            "source": "# Initializes the Execution Graph and the Session\nwith tf.Graph().as_default(), tf.Session() as session:\n    initializer = tf.random_uniform_initializer(-init_scale, init_scale)\n    \n    # Instantiates the model for training\n    # tf.variable_scope add a prefix to the variables created with tf.get_variable\n    with tf.variable_scope(\"model\", reuse=None, initializer=initializer):\n        m = PTBModel(\"is_training\")\n        \n    # Reuses the trained parameters for the validation and testing models\n    # They are different instances but use the same variables for weights and biases, they just don't change when data is input\n    with tf.variable_scope(\"model\", reuse=True, initializer=initializer):\n        mvalid = PTBModel(\"is_validating\")\n        mtest = PTBModel(\"is_testing\")\n\n    #Initialize all variables\n    tf.global_variables_initializer().run()\n\n    for i in range(max_epoch):\n        # Define the decay for this epoch\n        lr_decay = decay ** max(i - max_epoch_decay_lr, 0.0)\n        \n        # Set the decayed learning rate as the learning rate for this epoch\n        m.assign_lr(session, learning_rate * lr_decay)\n\n        print(\"Epoch %d : Learning rate: %.3f\" % (i + 1, session.run(m.lr)))\n        \n        # Run the loop for this epoch in the training model\n        train_perplexity = run_one_epoch(session, m, train_data, m.train_op, verbose=True)\n        print(\"Epoch %d : Train Perplexity: %.3f\" % (i + 1, train_perplexity))\n        \n        # Run the loop for this epoch in the validation model\n        valid_perplexity = run_one_epoch(session, mvalid, valid_data, tf.no_op())\n        print(\"Epoch %d : Valid Perplexity: %.3f\" % (i + 1, valid_perplexity))\n    \n    # Run the loop in the testing model to see how effective was our training\n    test_perplexity = run_one_epoch(session, mtest, test_data, tf.no_op())\n    \n    print(\"Test Perplexity: %.3f\" % test_perplexity)"
        },
        {
            "cell_type": "markdown",
            "metadata": {
                "button": false,
                "deletable": true,
                "new_sheet": false,
                "run_control": {
                    "read_only": false
                }
            },
            "source": "As you can see, the model's perplexity rating drops very quickly after a few iterations. As was elaborated before, <b>lower Perplexity means that the model is more certain about its prediction</b>. As such, we can be sure that this model is performing well!"
        },
        {
            "cell_type": "markdown",
            "metadata": {
                "button": false,
                "deletable": true,
                "new_sheet": false,
                "run_control": {
                    "read_only": false
                }
            },
            "source": "-------"
        },
        {
            "cell_type": "markdown",
            "metadata": {
                "button": false,
                "deletable": true,
                "new_sheet": false,
                "run_control": {
                    "read_only": false
                }
            },
            "source": "This is the end of the <b>Applying Recurrent Neural Networks to Text Processing</b> notebook. Hopefully you now have a better understanding of Recurrent Neural Networks and how to implement one utilizing TensorFlow. Thank you for reading this notebook, and good luck on your studies."
        },
        {
            "cell_type": "markdown",
            "metadata": {
                "button": false,
                "deletable": true,
                "new_sheet": false,
                "run_control": {
                    "read_only": false
                }
            },
            "source": "## Want to learn more?\n\nRunning deep learning programs usually needs a high performance platform. __PowerAI__ speeds up deep learning and AI. Built on IBM\u2019s Power Systems, __PowerAI__ is a scalable software platform that accelerates deep learning and AI with blazing performance for individual users or enterprises. The __PowerAI__ platform supports popular machine learning libraries and dependencies including TensorFlow, Caffe, Torch, and Theano. You can use [PowerAI on IMB Cloud](https://cocl.us/ML0120EN_PAI).\n\nAlso, you can use __Watson Studio__ to run these notebooks faster with bigger datasets.__Watson Studio__ is IBM\u2019s leading cloud solution for data scientists, built by data scientists. With Jupyter notebooks, RStudio, Apache Spark and popular libraries pre-packaged in the cloud, __Watson Studio__ enables data scientists to collaborate on their projects without having to install anything. Join the fast-growing community of __Watson Studio__ users today with a free account at [Watson Studio](https://cocl.us/ML0120EN_DSX).This is the end of this lesson. Thank you for reading this notebook, and good luck on your studies."
        },
        {
            "cell_type": "markdown",
            "metadata": {
                "button": false,
                "deletable": true,
                "new_sheet": false,
                "run_control": {
                    "read_only": false
                }
            },
            "source": "### Thanks for completing this lesson!\n\nNotebook created by <a href=\"https://br.linkedin.com/in/walter-gomes-de-amorim-junior-624726121\">Walter Gomes de Amorim Junior</a>, <a href = \"https://linkedin.com/in/saeedaghabozorgi\"> Saeed Aghabozorgi </a></h4>"
        },
        {
            "cell_type": "markdown",
            "metadata": {
                "button": false,
                "deletable": true,
                "new_sheet": false,
                "run_control": {
                    "read_only": false
                }
            },
            "source": "<hr>\n\nCopyright &copy; 2018 [Cognitive Class](https://cocl.us/DX0108EN_CC). This notebook and its source code are released under the terms of the [MIT License](https://bigdatauniversity.com/mit-license/)."
        }
    ],
    "metadata": {
        "anaconda-cloud": {},
        "kernelspec": {
            "display_name": "Python",
            "language": "python",
            "name": "conda-env-python-py"
        },
        "language_info": {
            "codemirror_mode": {
                "name": "ipython",
                "version": 3
            },
            "file_extension": ".py",
            "mimetype": "text/x-python",
            "name": "python",
            "nbconvert_exporter": "python",
            "pygments_lexer": "ipython3",
            "version": "3.6.7"
        },
        "widgets": {
            "state": {},
            "version": "1.1.2"
        }
    },
    "nbformat": 4,
    "nbformat_minor": 4
}